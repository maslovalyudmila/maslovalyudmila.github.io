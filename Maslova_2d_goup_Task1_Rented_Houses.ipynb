{
  "nbformat": 4,
  "nbformat_minor": 0,
  "metadata": {
    "colab": {
      "name": "Untitled2.ipynb",
      "provenance": [],
      "collapsed_sections": [],
      "mount_file_id": "1PKVdfBZ51fV-rXIApVwC2nOcO4L8fHcN",
      "authorship_tag": "ABX9TyOi4aw71Uw82uFfXrCbpQrK",
      "include_colab_link": true
    },
    "kernelspec": {
      "name": "python3",
      "display_name": "Python 3"
    }
  },
  "cells": [
    {
      "cell_type": "markdown",
      "metadata": {
        "id": "view-in-github",
        "colab_type": "text"
      },
      "source": [
        "<a href=\"https://colab.research.google.com/github/maslovalyudmila/maslovalyudmila.github.io/blob/master/Maslova_2d_goup_Task1_Rented_Houses.ipynb\" target=\"_parent\"><img src=\"https://colab.research.google.com/assets/colab-badge.svg\" alt=\"Open In Colab\"/></a>"
      ]
    },
    {
      "cell_type": "code",
      "metadata": {
        "id": "nYqCFqKMtiYt",
        "colab_type": "code",
        "colab": {}
      },
      "source": [
        "%matplotlib inline\n",
        "\n",
        "# отключим предупреждения анаконды\n",
        "import warnings\n",
        "warnings.simplefilter('ignore')\n",
        "\n",
        "# подключим отображение графиков\n",
        "import matplotlib.pyplot as plt\n",
        "import seaborn as sns\n",
        "\n",
        "import numpy as np\n",
        "import pandas as pd\n",
        "\n",
        "# настроим формат графиков\n",
        "%config InlineBackend.figure_format = 'svg'\n",
        "\n",
        "# увеличим размер графиков\n",
        "from pylab import rcParams\n",
        "rcParams['figure.figsize'] = 8, 5"
      ],
      "execution_count": 0,
      "outputs": []
    },
    {
      "cell_type": "code",
      "metadata": {
        "id": "97LE2jSvvSqO",
        "colab_type": "code",
        "colab": {
          "base_uri": "https://localhost:8080/",
          "height": 323
        },
        "outputId": "878a1a11-afa7-4d0b-84eb-2b435aaa1aff"
      },
      "source": [
        "df = pd.read_csv('/content/drive/My Drive/houses_to_rent_v2.csv') # Read first 5 rows of our dataset.\n",
        "df.head()"
      ],
      "execution_count": 119,
      "outputs": [
        {
          "output_type": "execute_result",
          "data": {
            "text/html": [
              "<div>\n",
              "<style scoped>\n",
              "    .dataframe tbody tr th:only-of-type {\n",
              "        vertical-align: middle;\n",
              "    }\n",
              "\n",
              "    .dataframe tbody tr th {\n",
              "        vertical-align: top;\n",
              "    }\n",
              "\n",
              "    .dataframe thead th {\n",
              "        text-align: right;\n",
              "    }\n",
              "</style>\n",
              "<table border=\"1\" class=\"dataframe\">\n",
              "  <thead>\n",
              "    <tr style=\"text-align: right;\">\n",
              "      <th></th>\n",
              "      <th>city</th>\n",
              "      <th>area</th>\n",
              "      <th>rooms</th>\n",
              "      <th>bathroom</th>\n",
              "      <th>parking spaces</th>\n",
              "      <th>floor</th>\n",
              "      <th>animal</th>\n",
              "      <th>furniture</th>\n",
              "      <th>hoa (R$)</th>\n",
              "      <th>rent amount (R$)</th>\n",
              "      <th>property tax (R$)</th>\n",
              "      <th>fire insurance (R$)</th>\n",
              "      <th>total (R$)</th>\n",
              "    </tr>\n",
              "  </thead>\n",
              "  <tbody>\n",
              "    <tr>\n",
              "      <th>0</th>\n",
              "      <td>São Paulo</td>\n",
              "      <td>70</td>\n",
              "      <td>2</td>\n",
              "      <td>1</td>\n",
              "      <td>1</td>\n",
              "      <td>7</td>\n",
              "      <td>acept</td>\n",
              "      <td>furnished</td>\n",
              "      <td>2065</td>\n",
              "      <td>3300</td>\n",
              "      <td>211</td>\n",
              "      <td>42</td>\n",
              "      <td>5618</td>\n",
              "    </tr>\n",
              "    <tr>\n",
              "      <th>1</th>\n",
              "      <td>São Paulo</td>\n",
              "      <td>320</td>\n",
              "      <td>4</td>\n",
              "      <td>4</td>\n",
              "      <td>0</td>\n",
              "      <td>20</td>\n",
              "      <td>acept</td>\n",
              "      <td>not furnished</td>\n",
              "      <td>1200</td>\n",
              "      <td>4960</td>\n",
              "      <td>1750</td>\n",
              "      <td>63</td>\n",
              "      <td>7973</td>\n",
              "    </tr>\n",
              "    <tr>\n",
              "      <th>2</th>\n",
              "      <td>Porto Alegre</td>\n",
              "      <td>80</td>\n",
              "      <td>1</td>\n",
              "      <td>1</td>\n",
              "      <td>1</td>\n",
              "      <td>6</td>\n",
              "      <td>acept</td>\n",
              "      <td>not furnished</td>\n",
              "      <td>1000</td>\n",
              "      <td>2800</td>\n",
              "      <td>0</td>\n",
              "      <td>41</td>\n",
              "      <td>3841</td>\n",
              "    </tr>\n",
              "    <tr>\n",
              "      <th>3</th>\n",
              "      <td>Porto Alegre</td>\n",
              "      <td>51</td>\n",
              "      <td>2</td>\n",
              "      <td>1</td>\n",
              "      <td>0</td>\n",
              "      <td>2</td>\n",
              "      <td>acept</td>\n",
              "      <td>not furnished</td>\n",
              "      <td>270</td>\n",
              "      <td>1112</td>\n",
              "      <td>22</td>\n",
              "      <td>17</td>\n",
              "      <td>1421</td>\n",
              "    </tr>\n",
              "    <tr>\n",
              "      <th>4</th>\n",
              "      <td>São Paulo</td>\n",
              "      <td>25</td>\n",
              "      <td>1</td>\n",
              "      <td>1</td>\n",
              "      <td>0</td>\n",
              "      <td>1</td>\n",
              "      <td>not acept</td>\n",
              "      <td>not furnished</td>\n",
              "      <td>0</td>\n",
              "      <td>800</td>\n",
              "      <td>25</td>\n",
              "      <td>11</td>\n",
              "      <td>836</td>\n",
              "    </tr>\n",
              "  </tbody>\n",
              "</table>\n",
              "</div>"
            ],
            "text/plain": [
              "           city  area  ...  fire insurance (R$)  total (R$)\n",
              "0     São Paulo    70  ...                   42        5618\n",
              "1     São Paulo   320  ...                   63        7973\n",
              "2  Porto Alegre    80  ...                   41        3841\n",
              "3  Porto Alegre    51  ...                   17        1421\n",
              "4     São Paulo    25  ...                   11         836\n",
              "\n",
              "[5 rows x 13 columns]"
            ]
          },
          "metadata": {
            "tags": []
          },
          "execution_count": 119
        }
      ]
    },
    {
      "cell_type": "code",
      "metadata": {
        "id": "58dofxqRGWq3",
        "colab_type": "code",
        "colab": {
          "base_uri": "https://localhost:8080/",
          "height": 34
        },
        "outputId": "5302cdbd-dd3c-4a8d-bc05-d697d7b9254d"
      },
      "source": [
        "print(df.shape)"
      ],
      "execution_count": 33,
      "outputs": [
        {
          "output_type": "stream",
          "text": [
            "(10692, 13)\n"
          ],
          "name": "stdout"
        }
      ]
    },
    {
      "cell_type": "code",
      "metadata": {
        "id": "eGcjOMZZwFG1",
        "colab_type": "code",
        "colab": {}
      },
      "source": [
        "# The dataset contains 13 features of houses to rent and consists of 10692 rows with data.\n",
        "# The target variable is total rent amount, quantitative feature.\n",
        "# Our task is to define best demand, so we need to analyze factors which influence on total rent amount."
      ],
      "execution_count": 0,
      "outputs": []
    },
    {
      "cell_type": "code",
      "metadata": {
        "id": "j4iwIpK6L55c",
        "colab_type": "code",
        "colab": {
          "base_uri": "https://localhost:8080/",
          "height": 85
        },
        "outputId": "aaae677d-71fe-4d13-b79f-b5d0aea977c0"
      },
      "source": [
        "print(df.columns)"
      ],
      "execution_count": 34,
      "outputs": [
        {
          "output_type": "stream",
          "text": [
            "Index(['city', 'area', 'rooms', 'bathroom', 'parking spaces', 'floor',\n",
            "       'animal', 'furniture', 'hoa (R$)', 'rent amount (R$)',\n",
            "       'property tax (R$)', 'fire insurance (R$)', 'total (R$)'],\n",
            "      dtype='object')\n"
          ],
          "name": "stdout"
        }
      ]
    },
    {
      "cell_type": "code",
      "metadata": {
        "id": "RyEKBXTUMTYt",
        "colab_type": "code",
        "colab": {
          "base_uri": "https://localhost:8080/",
          "height": 374
        },
        "outputId": "94c4ff77-e206-4eb9-dad3-fd04dc79c2cb"
      },
      "source": [
        "print(df.info())"
      ],
      "execution_count": 17,
      "outputs": [
        {
          "output_type": "stream",
          "text": [
            "<class 'pandas.core.frame.DataFrame'>\n",
            "RangeIndex: 10692 entries, 0 to 10691\n",
            "Data columns (total 13 columns):\n",
            " #   Column               Non-Null Count  Dtype \n",
            "---  ------               --------------  ----- \n",
            " 0   city                 10692 non-null  object\n",
            " 1   area                 10692 non-null  int64 \n",
            " 2   rooms                10692 non-null  int64 \n",
            " 3   bathroom             10692 non-null  int64 \n",
            " 4   parking spaces       10692 non-null  int64 \n",
            " 5   floor                10692 non-null  object\n",
            " 6   animal               10692 non-null  object\n",
            " 7   furniture            10692 non-null  object\n",
            " 8   hoa (R$)             10692 non-null  int64 \n",
            " 9   rent amount (R$)     10692 non-null  int64 \n",
            " 10  property tax (R$)    10692 non-null  int64 \n",
            " 11  fire insurance (R$)  10692 non-null  int64 \n",
            " 12  total (R$)           10692 non-null  int64 \n",
            "dtypes: int64(9), object(4)\n",
            "memory usage: 1.1+ MB\n",
            "None\n"
          ],
          "name": "stdout"
        }
      ]
    },
    {
      "cell_type": "code",
      "metadata": {
        "id": "kvh51D-1ObJc",
        "colab_type": "code",
        "colab": {}
      },
      "source": [
        "# As we see the datacet includes 13 features, 9 of them are quantitive and 4 are categorical.\n",
        "# Also there's no dropped values."
      ],
      "execution_count": 0,
      "outputs": []
    },
    {
      "cell_type": "code",
      "metadata": {
        "id": "AMwFG2EAPmw4",
        "colab_type": "code",
        "colab": {
          "base_uri": "https://localhost:8080/",
          "height": 314
        },
        "outputId": "b1eeab83-7c3f-4ceb-fb92-9d151f917a4c"
      },
      "source": [
        "df.describe()"
      ],
      "execution_count": 18,
      "outputs": [
        {
          "output_type": "execute_result",
          "data": {
            "text/html": [
              "<div>\n",
              "<style scoped>\n",
              "    .dataframe tbody tr th:only-of-type {\n",
              "        vertical-align: middle;\n",
              "    }\n",
              "\n",
              "    .dataframe tbody tr th {\n",
              "        vertical-align: top;\n",
              "    }\n",
              "\n",
              "    .dataframe thead th {\n",
              "        text-align: right;\n",
              "    }\n",
              "</style>\n",
              "<table border=\"1\" class=\"dataframe\">\n",
              "  <thead>\n",
              "    <tr style=\"text-align: right;\">\n",
              "      <th></th>\n",
              "      <th>area</th>\n",
              "      <th>rooms</th>\n",
              "      <th>bathroom</th>\n",
              "      <th>parking spaces</th>\n",
              "      <th>hoa (R$)</th>\n",
              "      <th>rent amount (R$)</th>\n",
              "      <th>property tax (R$)</th>\n",
              "      <th>fire insurance (R$)</th>\n",
              "      <th>total (R$)</th>\n",
              "    </tr>\n",
              "  </thead>\n",
              "  <tbody>\n",
              "    <tr>\n",
              "      <th>count</th>\n",
              "      <td>10692.00</td>\n",
              "      <td>10692.00</td>\n",
              "      <td>10692.00</td>\n",
              "      <td>10692.00</td>\n",
              "      <td>1.07e+04</td>\n",
              "      <td>10692.00</td>\n",
              "      <td>10692.00</td>\n",
              "      <td>10692.00</td>\n",
              "      <td>1.07e+04</td>\n",
              "    </tr>\n",
              "    <tr>\n",
              "      <th>mean</th>\n",
              "      <td>149.22</td>\n",
              "      <td>2.51</td>\n",
              "      <td>2.24</td>\n",
              "      <td>1.61</td>\n",
              "      <td>1.17e+03</td>\n",
              "      <td>3896.25</td>\n",
              "      <td>366.70</td>\n",
              "      <td>53.30</td>\n",
              "      <td>5.49e+03</td>\n",
              "    </tr>\n",
              "    <tr>\n",
              "      <th>std</th>\n",
              "      <td>537.02</td>\n",
              "      <td>1.17</td>\n",
              "      <td>1.41</td>\n",
              "      <td>1.59</td>\n",
              "      <td>1.56e+04</td>\n",
              "      <td>3408.55</td>\n",
              "      <td>3107.83</td>\n",
              "      <td>47.77</td>\n",
              "      <td>1.65e+04</td>\n",
              "    </tr>\n",
              "    <tr>\n",
              "      <th>min</th>\n",
              "      <td>11.00</td>\n",
              "      <td>1.00</td>\n",
              "      <td>1.00</td>\n",
              "      <td>0.00</td>\n",
              "      <td>0.00e+00</td>\n",
              "      <td>450.00</td>\n",
              "      <td>0.00</td>\n",
              "      <td>3.00</td>\n",
              "      <td>4.99e+02</td>\n",
              "    </tr>\n",
              "    <tr>\n",
              "      <th>25%</th>\n",
              "      <td>56.00</td>\n",
              "      <td>2.00</td>\n",
              "      <td>1.00</td>\n",
              "      <td>0.00</td>\n",
              "      <td>1.70e+02</td>\n",
              "      <td>1530.00</td>\n",
              "      <td>38.00</td>\n",
              "      <td>21.00</td>\n",
              "      <td>2.06e+03</td>\n",
              "    </tr>\n",
              "    <tr>\n",
              "      <th>50%</th>\n",
              "      <td>90.00</td>\n",
              "      <td>2.00</td>\n",
              "      <td>2.00</td>\n",
              "      <td>1.00</td>\n",
              "      <td>5.60e+02</td>\n",
              "      <td>2661.00</td>\n",
              "      <td>125.00</td>\n",
              "      <td>36.00</td>\n",
              "      <td>3.58e+03</td>\n",
              "    </tr>\n",
              "    <tr>\n",
              "      <th>75%</th>\n",
              "      <td>182.00</td>\n",
              "      <td>3.00</td>\n",
              "      <td>3.00</td>\n",
              "      <td>2.00</td>\n",
              "      <td>1.24e+03</td>\n",
              "      <td>5000.00</td>\n",
              "      <td>375.00</td>\n",
              "      <td>68.00</td>\n",
              "      <td>6.77e+03</td>\n",
              "    </tr>\n",
              "    <tr>\n",
              "      <th>max</th>\n",
              "      <td>46335.00</td>\n",
              "      <td>13.00</td>\n",
              "      <td>10.00</td>\n",
              "      <td>12.00</td>\n",
              "      <td>1.12e+06</td>\n",
              "      <td>45000.00</td>\n",
              "      <td>313700.00</td>\n",
              "      <td>677.00</td>\n",
              "      <td>1.12e+06</td>\n",
              "    </tr>\n",
              "  </tbody>\n",
              "</table>\n",
              "</div>"
            ],
            "text/plain": [
              "           area     rooms  ...  fire insurance (R$)  total (R$)\n",
              "count  10692.00  10692.00  ...             10692.00    1.07e+04\n",
              "mean     149.22      2.51  ...                53.30    5.49e+03\n",
              "std      537.02      1.17  ...                47.77    1.65e+04\n",
              "min       11.00      1.00  ...                 3.00    4.99e+02\n",
              "25%       56.00      2.00  ...                21.00    2.06e+03\n",
              "50%       90.00      2.00  ...                36.00    3.58e+03\n",
              "75%      182.00      3.00  ...                68.00    6.77e+03\n",
              "max    46335.00     13.00  ...               677.00    1.12e+06\n",
              "\n",
              "[8 rows x 9 columns]"
            ]
          },
          "metadata": {
            "tags": []
          },
          "execution_count": 18
        }
      ]
    },
    {
      "cell_type": "code",
      "metadata": {
        "id": "afQ0gt6IgPq8",
        "colab_type": "code",
        "colab": {
          "base_uri": "https://localhost:8080/",
          "height": 173
        },
        "outputId": "77f93253-ac79-4e3a-9615-502e0733fdb2"
      },
      "source": [
        "df.describe(include=['object'])"
      ],
      "execution_count": 19,
      "outputs": [
        {
          "output_type": "execute_result",
          "data": {
            "text/html": [
              "<div>\n",
              "<style scoped>\n",
              "    .dataframe tbody tr th:only-of-type {\n",
              "        vertical-align: middle;\n",
              "    }\n",
              "\n",
              "    .dataframe tbody tr th {\n",
              "        vertical-align: top;\n",
              "    }\n",
              "\n",
              "    .dataframe thead th {\n",
              "        text-align: right;\n",
              "    }\n",
              "</style>\n",
              "<table border=\"1\" class=\"dataframe\">\n",
              "  <thead>\n",
              "    <tr style=\"text-align: right;\">\n",
              "      <th></th>\n",
              "      <th>city</th>\n",
              "      <th>floor</th>\n",
              "      <th>animal</th>\n",
              "      <th>furniture</th>\n",
              "    </tr>\n",
              "  </thead>\n",
              "  <tbody>\n",
              "    <tr>\n",
              "      <th>count</th>\n",
              "      <td>10692</td>\n",
              "      <td>10692</td>\n",
              "      <td>10692</td>\n",
              "      <td>10692</td>\n",
              "    </tr>\n",
              "    <tr>\n",
              "      <th>unique</th>\n",
              "      <td>5</td>\n",
              "      <td>35</td>\n",
              "      <td>2</td>\n",
              "      <td>2</td>\n",
              "    </tr>\n",
              "    <tr>\n",
              "      <th>top</th>\n",
              "      <td>São Paulo</td>\n",
              "      <td>-</td>\n",
              "      <td>acept</td>\n",
              "      <td>not furnished</td>\n",
              "    </tr>\n",
              "    <tr>\n",
              "      <th>freq</th>\n",
              "      <td>5887</td>\n",
              "      <td>2461</td>\n",
              "      <td>8316</td>\n",
              "      <td>8086</td>\n",
              "    </tr>\n",
              "  </tbody>\n",
              "</table>\n",
              "</div>"
            ],
            "text/plain": [
              "             city  floor animal      furniture\n",
              "count       10692  10692  10692          10692\n",
              "unique          5     35      2              2\n",
              "top     São Paulo      -  acept  not furnished\n",
              "freq         5887   2461   8316           8086"
            ]
          },
          "metadata": {
            "tags": []
          },
          "execution_count": 19
        }
      ]
    },
    {
      "cell_type": "code",
      "metadata": {
        "id": "0-zGySvfgp_1",
        "colab_type": "code",
        "colab": {}
      },
      "source": [
        "# Here we see the distribution of categorical variables.\n",
        "# The leader by amount of houses to rent is São Paulo.\n",
        "# There is high amount of houses without floors, hence the variation is from 0 to 35.\n",
        "# Houses are more often rented with no furniture.\n",
        "# Animals are more often accepted to keep in houses then not."
      ],
      "execution_count": 0,
      "outputs": []
    },
    {
      "cell_type": "code",
      "metadata": {
        "id": "ojQHIRkiZxde",
        "colab_type": "code",
        "colab": {
          "base_uri": "https://localhost:8080/",
          "height": 119
        },
        "outputId": "4b4f5e4c-4e23-4819-b9d8-c6f2369a8ff4"
      },
      "source": [
        "df['city'].value_counts(normalize='True') # Count the relative frequency of categorical variable 'city'."
      ],
      "execution_count": 35,
      "outputs": [
        {
          "output_type": "execute_result",
          "data": {
            "text/plain": [
              "São Paulo         0.55\n",
              "Rio de Janeiro    0.14\n",
              "Belo Horizonte    0.12\n",
              "Porto Alegre      0.11\n",
              "Campinas          0.08\n",
              "Name: city, dtype: float64"
            ]
          },
          "metadata": {
            "tags": []
          },
          "execution_count": 35
        }
      ]
    },
    {
      "cell_type": "code",
      "metadata": {
        "id": "3dYZUEhz278e",
        "colab_type": "code",
        "colab": {}
      },
      "source": [
        "# As we see São Paulo ranks the half of present sample."
      ],
      "execution_count": 0,
      "outputs": []
    },
    {
      "cell_type": "code",
      "metadata": {
        "id": "LYwlpkYdYPTu",
        "colab_type": "code",
        "colab": {
          "base_uri": "https://localhost:8080/",
          "height": 323
        },
        "outputId": "7b68b15f-5f24-4da4-99ce-b85aa358da36"
      },
      "source": [
        "df.sort_values(by=['total (R$)', 'rent amount (R$)', 'city'], ascending=[False, False, False]).head()"
      ],
      "execution_count": 120,
      "outputs": [
        {
          "output_type": "execute_result",
          "data": {
            "text/html": [
              "<div>\n",
              "<style scoped>\n",
              "    .dataframe tbody tr th:only-of-type {\n",
              "        vertical-align: middle;\n",
              "    }\n",
              "\n",
              "    .dataframe tbody tr th {\n",
              "        vertical-align: top;\n",
              "    }\n",
              "\n",
              "    .dataframe thead th {\n",
              "        text-align: right;\n",
              "    }\n",
              "</style>\n",
              "<table border=\"1\" class=\"dataframe\">\n",
              "  <thead>\n",
              "    <tr style=\"text-align: right;\">\n",
              "      <th></th>\n",
              "      <th>city</th>\n",
              "      <th>area</th>\n",
              "      <th>rooms</th>\n",
              "      <th>bathroom</th>\n",
              "      <th>parking spaces</th>\n",
              "      <th>floor</th>\n",
              "      <th>animal</th>\n",
              "      <th>furniture</th>\n",
              "      <th>hoa (R$)</th>\n",
              "      <th>rent amount (R$)</th>\n",
              "      <th>property tax (R$)</th>\n",
              "      <th>fire insurance (R$)</th>\n",
              "      <th>total (R$)</th>\n",
              "    </tr>\n",
              "  </thead>\n",
              "  <tbody>\n",
              "    <tr>\n",
              "      <th>255</th>\n",
              "      <td>Belo Horizonte</td>\n",
              "      <td>155</td>\n",
              "      <td>1</td>\n",
              "      <td>4</td>\n",
              "      <td>0</td>\n",
              "      <td>4</td>\n",
              "      <td>not acept</td>\n",
              "      <td>not furnished</td>\n",
              "      <td>1117000</td>\n",
              "      <td>2790</td>\n",
              "      <td>64</td>\n",
              "      <td>38</td>\n",
              "      <td>1120000</td>\n",
              "    </tr>\n",
              "    <tr>\n",
              "      <th>6979</th>\n",
              "      <td>Belo Horizonte</td>\n",
              "      <td>155</td>\n",
              "      <td>1</td>\n",
              "      <td>4</td>\n",
              "      <td>0</td>\n",
              "      <td>4</td>\n",
              "      <td>not acept</td>\n",
              "      <td>not furnished</td>\n",
              "      <td>1117000</td>\n",
              "      <td>2790</td>\n",
              "      <td>64</td>\n",
              "      <td>38</td>\n",
              "      <td>1120000</td>\n",
              "    </tr>\n",
              "    <tr>\n",
              "      <th>6645</th>\n",
              "      <td>São Paulo</td>\n",
              "      <td>42</td>\n",
              "      <td>1</td>\n",
              "      <td>2</td>\n",
              "      <td>1</td>\n",
              "      <td>6</td>\n",
              "      <td>not acept</td>\n",
              "      <td>not furnished</td>\n",
              "      <td>690</td>\n",
              "      <td>2500</td>\n",
              "      <td>313700</td>\n",
              "      <td>32</td>\n",
              "      <td>316900</td>\n",
              "    </tr>\n",
              "    <tr>\n",
              "      <th>6230</th>\n",
              "      <td>São Paulo</td>\n",
              "      <td>340</td>\n",
              "      <td>5</td>\n",
              "      <td>4</td>\n",
              "      <td>2</td>\n",
              "      <td>7</td>\n",
              "      <td>acept</td>\n",
              "      <td>not furnished</td>\n",
              "      <td>220000</td>\n",
              "      <td>12000</td>\n",
              "      <td>1000</td>\n",
              "      <td>153</td>\n",
              "      <td>233200</td>\n",
              "    </tr>\n",
              "    <tr>\n",
              "      <th>2859</th>\n",
              "      <td>São Paulo</td>\n",
              "      <td>285</td>\n",
              "      <td>4</td>\n",
              "      <td>5</td>\n",
              "      <td>4</td>\n",
              "      <td>6</td>\n",
              "      <td>acept</td>\n",
              "      <td>furnished</td>\n",
              "      <td>200000</td>\n",
              "      <td>20000</td>\n",
              "      <td>1834</td>\n",
              "      <td>254</td>\n",
              "      <td>222100</td>\n",
              "    </tr>\n",
              "  </tbody>\n",
              "</table>\n",
              "</div>"
            ],
            "text/plain": [
              "                city  area  ...  fire insurance (R$)  total (R$)\n",
              "255   Belo Horizonte   155  ...                   38     1120000\n",
              "6979  Belo Horizonte   155  ...                   38     1120000\n",
              "6645       São Paulo    42  ...                   32      316900\n",
              "6230       São Paulo   340  ...                  153      233200\n",
              "2859       São Paulo   285  ...                  254      222100\n",
              "\n",
              "[5 rows x 13 columns]"
            ]
          },
          "metadata": {
            "tags": []
          },
          "execution_count": 120
        }
      ]
    },
    {
      "cell_type": "code",
      "metadata": {
        "id": "JX5aqjgPjgW6",
        "colab_type": "code",
        "colab": {}
      },
      "source": [
        "# Here, grouping data by initial rent amount, total rent amount and the city,\n",
        "# we defined the leader of the largest amount of total rent, Belo Horizonte.\n",
        "# But also we noticed the great variation between initial and total rent amount,\n",
        "# and quite large amount of hoa, serving houses in Brazil."
      ],
      "execution_count": 0,
      "outputs": []
    },
    {
      "cell_type": "code",
      "metadata": {
        "id": "4NsQqYEcsIQ2",
        "colab_type": "code",
        "colab": {
          "base_uri": "https://localhost:8080/",
          "height": 34
        },
        "outputId": "295a3ba5-01f8-4e01-fa1b-21efddf921f4"
      },
      "source": [
        "df['total (R$)'].mean()"
      ],
      "execution_count": 68,
      "outputs": [
        {
          "output_type": "execute_result",
          "data": {
            "text/plain": [
              "5490.4869996258885"
            ]
          },
          "metadata": {
            "tags": []
          },
          "execution_count": 68
        }
      ]
    },
    {
      "cell_type": "code",
      "metadata": {
        "id": "5L9E88fZkTZz",
        "colab_type": "code",
        "colab": {}
      },
      "source": [
        "# So we defined the average total rent amount in Brazil, basing on present data."
      ],
      "execution_count": 0,
      "outputs": []
    },
    {
      "cell_type": "code",
      "metadata": {
        "id": "C_ot5EYRkbJc",
        "colab_type": "code",
        "colab": {
          "base_uri": "https://localhost:8080/",
          "height": 34
        },
        "outputId": "5b15a016-7b4b-4074-820e-510847a5d629"
      },
      "source": [
        "df['hoa (R$)'].mean()"
      ],
      "execution_count": 56,
      "outputs": [
        {
          "output_type": "execute_result",
          "data": {
            "text/plain": [
              "1174.0216984661429"
            ]
          },
          "metadata": {
            "tags": []
          },
          "execution_count": 56
        }
      ]
    },
    {
      "cell_type": "code",
      "metadata": {
        "id": "JtXKATTFqiqZ",
        "colab_type": "code",
        "colab": {}
      },
      "source": [
        "# The average amount of hoa among in the cities."
      ],
      "execution_count": 0,
      "outputs": []
    },
    {
      "cell_type": "code",
      "metadata": {
        "id": "ICT2uHdMqlLR",
        "colab_type": "code",
        "colab": {
          "base_uri": "https://localhost:8080/",
          "height": 187
        },
        "outputId": "b8e9e4bb-8d48-403c-851d-f64ee32a8bd3"
      },
      "source": [
        "df[df['total (R$)'] <= 5490.49].mean()"
      ],
      "execution_count": 74,
      "outputs": [
        {
          "output_type": "execute_result",
          "data": {
            "text/plain": [
              "area                     89.34\n",
              "rooms                     2.09\n",
              "bathroom                  1.62\n",
              "parking spaces            1.04\n",
              "hoa (R$)                509.32\n",
              "rent amount (R$)       2085.10\n",
              "property tax (R$)       114.14\n",
              "fire insurance (R$)      28.62\n",
              "total (R$)             2737.35\n",
              "dtype: float64"
            ]
          },
          "metadata": {
            "tags": []
          },
          "execution_count": 74
        }
      ]
    },
    {
      "cell_type": "code",
      "metadata": {
        "id": "R1H5K158s4My",
        "colab_type": "code",
        "colab": {}
      },
      "source": [
        "# Index the values of house features provided by average total rent amount.\n",
        "# We see average total rent amount generally includes two rooms, one bathroom and one parking space."
      ],
      "execution_count": 0,
      "outputs": []
    },
    {
      "cell_type": "code",
      "metadata": {
        "id": "xOdDugYGujDk",
        "colab_type": "code",
        "colab": {
          "base_uri": "https://localhost:8080/",
          "height": 34
        },
        "outputId": "ccf0b2df-28b0-41f1-dc45-cf790292f207"
      },
      "source": [
        "df[df['total (R$)'] <= 5490.49]['hoa (R$)'].mean() # Count the average hoa amount."
      ],
      "execution_count": 78,
      "outputs": [
        {
          "output_type": "execute_result",
          "data": {
            "text/plain": [
              "509.317327479764"
            ]
          },
          "metadata": {
            "tags": []
          },
          "execution_count": 78
        }
      ]
    },
    {
      "cell_type": "code",
      "metadata": {
        "id": "ex6Nd_-p3Llh",
        "colab_type": "code",
        "colab": {
          "base_uri": "https://localhost:8080/",
          "height": 34
        },
        "outputId": "28af6d60-9002-4c52-e838-cc5df2b21337"
      },
      "source": [
        "df[(df['total (R$)'] <= 5490.49) & (df['furniture'] == 'not furnished')]['area'].max()"
      ],
      "execution_count": 121,
      "outputs": [
        {
          "output_type": "execute_result",
          "data": {
            "text/plain": [
              "12732"
            ]
          },
          "metadata": {
            "tags": []
          },
          "execution_count": 121
        }
      ]
    },
    {
      "cell_type": "code",
      "metadata": {
        "id": "7kRvrI5h6xsX",
        "colab_type": "code",
        "colab": {}
      },
      "source": [
        "# The maximum house area without furniture to rent by average total amount is 12 732 square meters."
      ],
      "execution_count": 0,
      "outputs": []
    },
    {
      "cell_type": "code",
      "metadata": {
        "id": "xDZsp_PW6hPJ",
        "colab_type": "code",
        "colab": {
          "base_uri": "https://localhost:8080/",
          "height": 34
        },
        "outputId": "238f88a4-8b5e-4d3e-ba84-3e7edc865391"
      },
      "source": [
        "df[(df['total (R$)'] <= 5490.49) & (df['rooms'] == 1)]['area'].min()"
      ],
      "execution_count": 174,
      "outputs": [
        {
          "output_type": "execute_result",
          "data": {
            "text/plain": [
              "11"
            ]
          },
          "metadata": {
            "tags": []
          },
          "execution_count": 174
        }
      ]
    },
    {
      "cell_type": "code",
      "metadata": {
        "id": "bg1qV24U5De-",
        "colab_type": "code",
        "colab": {}
      },
      "source": [
        "# The maximum area of one room by this total amount to rent is 11 square meters."
      ],
      "execution_count": 0,
      "outputs": []
    },
    {
      "cell_type": "code",
      "metadata": {
        "id": "R_PJzPWN51Yp",
        "colab_type": "code",
        "colab": {
          "base_uri": "https://localhost:8080/",
          "height": 289
        },
        "outputId": "359b9140-c13f-4633-c789-0552917ab3d4"
      },
      "source": [
        "df.apply(np.max) "
      ],
      "execution_count": 176,
      "outputs": [
        {
          "output_type": "execute_result",
          "data": {
            "text/plain": [
              "city                       São Paulo\n",
              "area                           46335\n",
              "rooms                             13\n",
              "bathroom                          10\n",
              "parking spaces                    12\n",
              "floor                              9\n",
              "animal                     not acept\n",
              "furniture              not furnished\n",
              "hoa (R$)                     1117000\n",
              "rent amount (R$)               45000\n",
              "property tax (R$)             313700\n",
              "fire insurance (R$)              677\n",
              "total (R$)                   1120000\n",
              "average_room_price           2.2e+03\n",
              "best_demand                     True\n",
              "dtype: object"
            ]
          },
          "metadata": {
            "tags": []
          },
          "execution_count": 176
        }
      ]
    },
    {
      "cell_type": "code",
      "metadata": {
        "id": "K4pf2jcD7PrE",
        "colab_type": "code",
        "colab": {
          "base_uri": "https://localhost:8080/",
          "height": 289
        },
        "outputId": "8c92d0da-7212-4610-ccfd-74e0c6d920a1"
      },
      "source": [
        "df.apply(np.min)"
      ],
      "execution_count": 175,
      "outputs": [
        {
          "output_type": "execute_result",
          "data": {
            "text/plain": [
              "city                   Belo Horizonte\n",
              "area                               11\n",
              "rooms                               1\n",
              "bathroom                            1\n",
              "parking spaces                      0\n",
              "floor                               -\n",
              "animal                          acept\n",
              "furniture                   furnished\n",
              "hoa (R$)                            0\n",
              "rent amount (R$)                  450\n",
              "property tax (R$)                   0\n",
              "fire insurance (R$)                 3\n",
              "total (R$)                        499\n",
              "average_room_price            2.2e+03\n",
              "best_demand                     False\n",
              "dtype: object"
            ]
          },
          "metadata": {
            "tags": []
          },
          "execution_count": 175
        }
      ]
    },
    {
      "cell_type": "code",
      "metadata": {
        "id": "EUUMDEiZ7Yp2",
        "colab_type": "code",
        "colab": {}
      },
      "source": [
        "# The most frequent city to rent is São Paulo. The most recent is Belo Horizonte."
      ],
      "execution_count": 0,
      "outputs": []
    },
    {
      "cell_type": "code",
      "metadata": {
        "id": "b5KdwiLQ72M7",
        "colab_type": "code",
        "colab": {
          "base_uri": "https://localhost:8080/",
          "height": 266
        },
        "outputId": "d4facb9f-d6f7-4e35-dce0-30c9ca18e2d3"
      },
      "source": [
        "columns_to_show = ['total (R$)', 'rent amount (R$)', 'hoa (R$)']\n",
        "\n",
        "df.groupby(['city'])[columns_to_show].agg([np.mean, np.std, np.min, np.max])"
      ],
      "execution_count": 99,
      "outputs": [
        {
          "output_type": "execute_result",
          "data": {
            "text/html": [
              "<div>\n",
              "<style scoped>\n",
              "    .dataframe tbody tr th:only-of-type {\n",
              "        vertical-align: middle;\n",
              "    }\n",
              "\n",
              "    .dataframe tbody tr th {\n",
              "        vertical-align: top;\n",
              "    }\n",
              "\n",
              "    .dataframe thead tr th {\n",
              "        text-align: left;\n",
              "    }\n",
              "\n",
              "    .dataframe thead tr:last-of-type th {\n",
              "        text-align: right;\n",
              "    }\n",
              "</style>\n",
              "<table border=\"1\" class=\"dataframe\">\n",
              "  <thead>\n",
              "    <tr>\n",
              "      <th></th>\n",
              "      <th colspan=\"4\" halign=\"left\">total (R$)</th>\n",
              "      <th colspan=\"4\" halign=\"left\">rent amount (R$)</th>\n",
              "      <th colspan=\"4\" halign=\"left\">hoa (R$)</th>\n",
              "    </tr>\n",
              "    <tr>\n",
              "      <th></th>\n",
              "      <th>mean</th>\n",
              "      <th>std</th>\n",
              "      <th>amin</th>\n",
              "      <th>amax</th>\n",
              "      <th>mean</th>\n",
              "      <th>std</th>\n",
              "      <th>amin</th>\n",
              "      <th>amax</th>\n",
              "      <th>mean</th>\n",
              "      <th>std</th>\n",
              "      <th>amin</th>\n",
              "      <th>amax</th>\n",
              "    </tr>\n",
              "    <tr>\n",
              "      <th>city</th>\n",
              "      <th></th>\n",
              "      <th></th>\n",
              "      <th></th>\n",
              "      <th></th>\n",
              "      <th></th>\n",
              "      <th></th>\n",
              "      <th></th>\n",
              "      <th></th>\n",
              "      <th></th>\n",
              "      <th></th>\n",
              "      <th></th>\n",
              "      <th></th>\n",
              "    </tr>\n",
              "  </thead>\n",
              "  <tbody>\n",
              "    <tr>\n",
              "      <th>Belo Horizonte</th>\n",
              "      <td>6315.24</td>\n",
              "      <td>44654.83</td>\n",
              "      <td>499</td>\n",
              "      <td>1120000</td>\n",
              "      <td>3664.13</td>\n",
              "      <td>3493.66</td>\n",
              "      <td>450</td>\n",
              "      <td>15000</td>\n",
              "      <td>2324.20</td>\n",
              "      <td>44504.53</td>\n",
              "      <td>0</td>\n",
              "      <td>1117000</td>\n",
              "    </tr>\n",
              "    <tr>\n",
              "      <th>Campinas</th>\n",
              "      <td>3173.28</td>\n",
              "      <td>2857.28</td>\n",
              "      <td>711</td>\n",
              "      <td>20560</td>\n",
              "      <td>2364.29</td>\n",
              "      <td>2310.90</td>\n",
              "      <td>500</td>\n",
              "      <td>15000</td>\n",
              "      <td>628.92</td>\n",
              "      <td>675.84</td>\n",
              "      <td>0</td>\n",
              "      <td>7400</td>\n",
              "    </tr>\n",
              "    <tr>\n",
              "      <th>Porto Alegre</th>\n",
              "      <td>2989.78</td>\n",
              "      <td>2734.50</td>\n",
              "      <td>509</td>\n",
              "      <td>32750</td>\n",
              "      <td>2337.70</td>\n",
              "      <td>2199.70</td>\n",
              "      <td>500</td>\n",
              "      <td>19000</td>\n",
              "      <td>491.62</td>\n",
              "      <td>1052.58</td>\n",
              "      <td>0</td>\n",
              "      <td>32000</td>\n",
              "    </tr>\n",
              "    <tr>\n",
              "      <th>Rio de Janeiro</th>\n",
              "      <td>4611.68</td>\n",
              "      <td>4425.36</td>\n",
              "      <td>507</td>\n",
              "      <td>95610</td>\n",
              "      <td>3232.90</td>\n",
              "      <td>2804.27</td>\n",
              "      <td>500</td>\n",
              "      <td>15000</td>\n",
              "      <td>1079.43</td>\n",
              "      <td>2237.15</td>\n",
              "      <td>0</td>\n",
              "      <td>81150</td>\n",
              "    </tr>\n",
              "    <tr>\n",
              "      <th>São Paulo</th>\n",
              "      <td>6380.83</td>\n",
              "      <td>7541.32</td>\n",
              "      <td>508</td>\n",
              "      <td>316900</td>\n",
              "      <td>4652.79</td>\n",
              "      <td>3634.61</td>\n",
              "      <td>500</td>\n",
              "      <td>45000</td>\n",
              "      <td>1169.63</td>\n",
              "      <td>4076.46</td>\n",
              "      <td>0</td>\n",
              "      <td>220000</td>\n",
              "    </tr>\n",
              "  </tbody>\n",
              "</table>\n",
              "</div>"
            ],
            "text/plain": [
              "               total (R$)                 ...  hoa (R$)              \n",
              "                     mean       std amin  ...       std amin     amax\n",
              "city                                      ...                        \n",
              "Belo Horizonte    6315.24  44654.83  499  ...  44504.53    0  1117000\n",
              "Campinas          3173.28   2857.28  711  ...    675.84    0     7400\n",
              "Porto Alegre      2989.78   2734.50  509  ...   1052.58    0    32000\n",
              "Rio de Janeiro    4611.68   4425.36  507  ...   2237.15    0    81150\n",
              "São Paulo         6380.83   7541.32  508  ...   4076.46    0   220000\n",
              "\n",
              "[5 rows x 12 columns]"
            ]
          },
          "metadata": {
            "tags": []
          },
          "execution_count": 99
        }
      ]
    },
    {
      "cell_type": "code",
      "metadata": {
        "id": "IxLwP1KL91Tg",
        "colab_type": "code",
        "colab": {}
      },
      "source": [
        "# As we see the highest average total rent amount is in Belo Horizone and São Paulo.\n",
        "# Moreover, on average houses in São Paulo are rented by higher initial amount then in Belo Horizonte.\n",
        "# Belo Horizone has the highest amount of hoa service. The lawest is in Porto Alegre."
      ],
      "execution_count": 0,
      "outputs": []
    },
    {
      "cell_type": "code",
      "metadata": {
        "id": "sAGdtnYZ_v9W",
        "colab_type": "code",
        "colab": {
          "base_uri": "https://localhost:8080/",
          "height": 235
        },
        "outputId": "e06a0ec4-c338-4910-d946-4a1d155764dc"
      },
      "source": [
        "pd.crosstab(df['city'], df['rooms'])"
      ],
      "execution_count": 108,
      "outputs": [
        {
          "output_type": "execute_result",
          "data": {
            "text/html": [
              "<div>\n",
              "<style scoped>\n",
              "    .dataframe tbody tr th:only-of-type {\n",
              "        vertical-align: middle;\n",
              "    }\n",
              "\n",
              "    .dataframe tbody tr th {\n",
              "        vertical-align: top;\n",
              "    }\n",
              "\n",
              "    .dataframe thead th {\n",
              "        text-align: right;\n",
              "    }\n",
              "</style>\n",
              "<table border=\"1\" class=\"dataframe\">\n",
              "  <thead>\n",
              "    <tr style=\"text-align: right;\">\n",
              "      <th>rooms</th>\n",
              "      <th>1</th>\n",
              "      <th>2</th>\n",
              "      <th>3</th>\n",
              "      <th>4</th>\n",
              "      <th>5</th>\n",
              "      <th>6</th>\n",
              "      <th>7</th>\n",
              "      <th>8</th>\n",
              "      <th>9</th>\n",
              "      <th>10</th>\n",
              "      <th>13</th>\n",
              "    </tr>\n",
              "    <tr>\n",
              "      <th>city</th>\n",
              "      <th></th>\n",
              "      <th></th>\n",
              "      <th></th>\n",
              "      <th></th>\n",
              "      <th></th>\n",
              "      <th></th>\n",
              "      <th></th>\n",
              "      <th></th>\n",
              "      <th></th>\n",
              "      <th></th>\n",
              "      <th></th>\n",
              "    </tr>\n",
              "  </thead>\n",
              "  <tbody>\n",
              "    <tr>\n",
              "      <th>Belo Horizonte</th>\n",
              "      <td>150</td>\n",
              "      <td>286</td>\n",
              "      <td>389</td>\n",
              "      <td>317</td>\n",
              "      <td>78</td>\n",
              "      <td>20</td>\n",
              "      <td>13</td>\n",
              "      <td>4</td>\n",
              "      <td>0</td>\n",
              "      <td>1</td>\n",
              "      <td>0</td>\n",
              "    </tr>\n",
              "    <tr>\n",
              "      <th>Campinas</th>\n",
              "      <td>218</td>\n",
              "      <td>253</td>\n",
              "      <td>271</td>\n",
              "      <td>91</td>\n",
              "      <td>14</td>\n",
              "      <td>4</td>\n",
              "      <td>2</td>\n",
              "      <td>0</td>\n",
              "      <td>0</td>\n",
              "      <td>0</td>\n",
              "      <td>0</td>\n",
              "    </tr>\n",
              "    <tr>\n",
              "      <th>Porto Alegre</th>\n",
              "      <td>374</td>\n",
              "      <td>424</td>\n",
              "      <td>299</td>\n",
              "      <td>62</td>\n",
              "      <td>22</td>\n",
              "      <td>9</td>\n",
              "      <td>1</td>\n",
              "      <td>2</td>\n",
              "      <td>0</td>\n",
              "      <td>0</td>\n",
              "      <td>0</td>\n",
              "    </tr>\n",
              "    <tr>\n",
              "      <th>Rio de Janeiro</th>\n",
              "      <td>404</td>\n",
              "      <td>522</td>\n",
              "      <td>422</td>\n",
              "      <td>128</td>\n",
              "      <td>18</td>\n",
              "      <td>3</td>\n",
              "      <td>3</td>\n",
              "      <td>0</td>\n",
              "      <td>0</td>\n",
              "      <td>0</td>\n",
              "      <td>1</td>\n",
              "    </tr>\n",
              "    <tr>\n",
              "      <th>São Paulo</th>\n",
              "      <td>1308</td>\n",
              "      <td>1490</td>\n",
              "      <td>1888</td>\n",
              "      <td>988</td>\n",
              "      <td>156</td>\n",
              "      <td>32</td>\n",
              "      <td>17</td>\n",
              "      <td>5</td>\n",
              "      <td>1</td>\n",
              "      <td>2</td>\n",
              "      <td>0</td>\n",
              "    </tr>\n",
              "  </tbody>\n",
              "</table>\n",
              "</div>"
            ],
            "text/plain": [
              "rooms             1     2     3    4    5   6   7   8   9   10  13\n",
              "city                                                              \n",
              "Belo Horizonte   150   286   389  317   78  20  13   4   0   1   0\n",
              "Campinas         218   253   271   91   14   4   2   0   0   0   0\n",
              "Porto Alegre     374   424   299   62   22   9   1   2   0   0   0\n",
              "Rio de Janeiro   404   522   422  128   18   3   3   0   0   0   1\n",
              "São Paulo       1308  1490  1888  988  156  32  17   5   1   2   0"
            ]
          },
          "metadata": {
            "tags": []
          },
          "execution_count": 108
        }
      ]
    },
    {
      "cell_type": "code",
      "metadata": {
        "id": "dgKOrFUwB7AG",
        "colab_type": "code",
        "colab": {
          "base_uri": "https://localhost:8080/",
          "height": 421
        },
        "outputId": "896cfee0-7039-46f3-ef9d-b78acb924f9d"
      },
      "source": [
        "pd.crosstab(df['rooms'], df['furniture'])"
      ],
      "execution_count": 122,
      "outputs": [
        {
          "output_type": "execute_result",
          "data": {
            "text/html": [
              "<div>\n",
              "<style scoped>\n",
              "    .dataframe tbody tr th:only-of-type {\n",
              "        vertical-align: middle;\n",
              "    }\n",
              "\n",
              "    .dataframe tbody tr th {\n",
              "        vertical-align: top;\n",
              "    }\n",
              "\n",
              "    .dataframe thead th {\n",
              "        text-align: right;\n",
              "    }\n",
              "</style>\n",
              "<table border=\"1\" class=\"dataframe\">\n",
              "  <thead>\n",
              "    <tr style=\"text-align: right;\">\n",
              "      <th>furniture</th>\n",
              "      <th>furnished</th>\n",
              "      <th>not furnished</th>\n",
              "    </tr>\n",
              "    <tr>\n",
              "      <th>rooms</th>\n",
              "      <th></th>\n",
              "      <th></th>\n",
              "    </tr>\n",
              "  </thead>\n",
              "  <tbody>\n",
              "    <tr>\n",
              "      <th>1</th>\n",
              "      <td>860</td>\n",
              "      <td>1594</td>\n",
              "    </tr>\n",
              "    <tr>\n",
              "      <th>2</th>\n",
              "      <td>575</td>\n",
              "      <td>2400</td>\n",
              "    </tr>\n",
              "    <tr>\n",
              "      <th>3</th>\n",
              "      <td>712</td>\n",
              "      <td>2557</td>\n",
              "    </tr>\n",
              "    <tr>\n",
              "      <th>4</th>\n",
              "      <td>383</td>\n",
              "      <td>1203</td>\n",
              "    </tr>\n",
              "    <tr>\n",
              "      <th>5</th>\n",
              "      <td>50</td>\n",
              "      <td>238</td>\n",
              "    </tr>\n",
              "    <tr>\n",
              "      <th>6</th>\n",
              "      <td>13</td>\n",
              "      <td>55</td>\n",
              "    </tr>\n",
              "    <tr>\n",
              "      <th>7</th>\n",
              "      <td>13</td>\n",
              "      <td>23</td>\n",
              "    </tr>\n",
              "    <tr>\n",
              "      <th>8</th>\n",
              "      <td>0</td>\n",
              "      <td>11</td>\n",
              "    </tr>\n",
              "    <tr>\n",
              "      <th>9</th>\n",
              "      <td>0</td>\n",
              "      <td>1</td>\n",
              "    </tr>\n",
              "    <tr>\n",
              "      <th>10</th>\n",
              "      <td>0</td>\n",
              "      <td>3</td>\n",
              "    </tr>\n",
              "    <tr>\n",
              "      <th>13</th>\n",
              "      <td>0</td>\n",
              "      <td>1</td>\n",
              "    </tr>\n",
              "  </tbody>\n",
              "</table>\n",
              "</div>"
            ],
            "text/plain": [
              "furniture  furnished  not furnished\n",
              "rooms                              \n",
              "1                860           1594\n",
              "2                575           2400\n",
              "3                712           2557\n",
              "4                383           1203\n",
              "5                 50            238\n",
              "6                 13             55\n",
              "7                 13             23\n",
              "8                  0             11\n",
              "9                  0              1\n",
              "10                 0              3\n",
              "13                 0              1"
            ]
          },
          "metadata": {
            "tags": []
          },
          "execution_count": 122
        }
      ]
    },
    {
      "cell_type": "code",
      "metadata": {
        "id": "HpeIadb3EABs",
        "colab_type": "code",
        "colab": {
          "base_uri": "https://localhost:8080/",
          "height": 142
        },
        "outputId": "c5068196-edd7-42f0-8931-f14b7668a31d"
      },
      "source": [
        "pd.crosstab(df['furniture'], df['animal'])"
      ],
      "execution_count": 125,
      "outputs": [
        {
          "output_type": "execute_result",
          "data": {
            "text/html": [
              "<div>\n",
              "<style scoped>\n",
              "    .dataframe tbody tr th:only-of-type {\n",
              "        vertical-align: middle;\n",
              "    }\n",
              "\n",
              "    .dataframe tbody tr th {\n",
              "        vertical-align: top;\n",
              "    }\n",
              "\n",
              "    .dataframe thead th {\n",
              "        text-align: right;\n",
              "    }\n",
              "</style>\n",
              "<table border=\"1\" class=\"dataframe\">\n",
              "  <thead>\n",
              "    <tr style=\"text-align: right;\">\n",
              "      <th>animal</th>\n",
              "      <th>acept</th>\n",
              "      <th>not acept</th>\n",
              "    </tr>\n",
              "    <tr>\n",
              "      <th>furniture</th>\n",
              "      <th></th>\n",
              "      <th></th>\n",
              "    </tr>\n",
              "  </thead>\n",
              "  <tbody>\n",
              "    <tr>\n",
              "      <th>furnished</th>\n",
              "      <td>1859</td>\n",
              "      <td>747</td>\n",
              "    </tr>\n",
              "    <tr>\n",
              "      <th>not furnished</th>\n",
              "      <td>6457</td>\n",
              "      <td>1629</td>\n",
              "    </tr>\n",
              "  </tbody>\n",
              "</table>\n",
              "</div>"
            ],
            "text/plain": [
              "animal         acept  not acept\n",
              "furniture                      \n",
              "furnished       1859        747\n",
              "not furnished   6457       1629"
            ]
          },
          "metadata": {
            "tags": []
          },
          "execution_count": 125
        }
      ]
    },
    {
      "cell_type": "code",
      "metadata": {
        "id": "QcHHo9gDEMfl",
        "colab_type": "code",
        "colab": {}
      },
      "source": [
        "# On present tables we see houses are frequently rented unfurnitured.\n",
        "# Also we can notice a connection between the absence of furniture and possibility of keeping animals."
      ],
      "execution_count": 0,
      "outputs": []
    },
    {
      "cell_type": "code",
      "metadata": {
        "id": "6PExQup6EPEQ",
        "colab_type": "code",
        "colab": {
          "base_uri": "https://localhost:8080/",
          "height": 235
        },
        "outputId": "3deaa363-7cc9-4a07-b73c-496f59498754"
      },
      "source": [
        "df.pivot_table(['total (R$)', 'rent amount (R$)', 'hoa (R$)', 'area', 'property tax (R$)'], \n",
        "['city'], aggfunc='mean').head()"
      ],
      "execution_count": 157,
      "outputs": [
        {
          "output_type": "execute_result",
          "data": {
            "text/html": [
              "<div>\n",
              "<style scoped>\n",
              "    .dataframe tbody tr th:only-of-type {\n",
              "        vertical-align: middle;\n",
              "    }\n",
              "\n",
              "    .dataframe tbody tr th {\n",
              "        vertical-align: top;\n",
              "    }\n",
              "\n",
              "    .dataframe thead th {\n",
              "        text-align: right;\n",
              "    }\n",
              "</style>\n",
              "<table border=\"1\" class=\"dataframe\">\n",
              "  <thead>\n",
              "    <tr style=\"text-align: right;\">\n",
              "      <th></th>\n",
              "      <th>area</th>\n",
              "      <th>hoa (R$)</th>\n",
              "      <th>property tax (R$)</th>\n",
              "      <th>rent amount (R$)</th>\n",
              "      <th>total (R$)</th>\n",
              "    </tr>\n",
              "    <tr>\n",
              "      <th>city</th>\n",
              "      <th></th>\n",
              "      <th></th>\n",
              "      <th></th>\n",
              "      <th></th>\n",
              "      <th></th>\n",
              "    </tr>\n",
              "  </thead>\n",
              "  <tbody>\n",
              "    <tr>\n",
              "      <th>Belo Horizonte</th>\n",
              "      <td>207.41</td>\n",
              "      <td>2324.20</td>\n",
              "      <td>272.78</td>\n",
              "      <td>3664.13</td>\n",
              "      <td>6315.24</td>\n",
              "    </tr>\n",
              "    <tr>\n",
              "      <th>Campinas</th>\n",
              "      <td>137.56</td>\n",
              "      <td>628.92</td>\n",
              "      <td>147.66</td>\n",
              "      <td>2364.29</td>\n",
              "      <td>3173.28</td>\n",
              "    </tr>\n",
              "    <tr>\n",
              "      <th>Porto Alegre</th>\n",
              "      <td>103.61</td>\n",
              "      <td>491.62</td>\n",
              "      <td>124.02</td>\n",
              "      <td>2337.70</td>\n",
              "      <td>2989.78</td>\n",
              "    </tr>\n",
              "    <tr>\n",
              "      <th>Rio de Janeiro</th>\n",
              "      <td>105.35</td>\n",
              "      <td>1079.43</td>\n",
              "      <td>256.85</td>\n",
              "      <td>3232.90</td>\n",
              "      <td>4611.68</td>\n",
              "    </tr>\n",
              "    <tr>\n",
              "      <th>São Paulo</th>\n",
              "      <td>158.90</td>\n",
              "      <td>1169.63</td>\n",
              "      <td>495.70</td>\n",
              "      <td>4652.79</td>\n",
              "      <td>6380.83</td>\n",
              "    </tr>\n",
              "  </tbody>\n",
              "</table>\n",
              "</div>"
            ],
            "text/plain": [
              "                  area  hoa (R$)  ...  rent amount (R$)  total (R$)\n",
              "city                              ...                              \n",
              "Belo Horizonte  207.41   2324.20  ...           3664.13     6315.24\n",
              "Campinas        137.56    628.92  ...           2364.29     3173.28\n",
              "Porto Alegre    103.61    491.62  ...           2337.70     2989.78\n",
              "Rio de Janeiro  105.35   1079.43  ...           3232.90     4611.68\n",
              "São Paulo       158.90   1169.63  ...           4652.79     6380.83\n",
              "\n",
              "[5 rows x 5 columns]"
            ]
          },
          "metadata": {
            "tags": []
          },
          "execution_count": 157
        }
      ]
    },
    {
      "cell_type": "code",
      "metadata": {
        "id": "wTQxdLHDEtlD",
        "colab_type": "code",
        "colab": {}
      },
      "source": [
        "# We see on average area to rent is larger in Belo Horizonte. \n",
        "# There can be noticed the higher property tax in São Paulo and total rent amount."
      ],
      "execution_count": 0,
      "outputs": []
    },
    {
      "cell_type": "code",
      "metadata": {
        "id": "UAmszKo_ExFl",
        "colab_type": "code",
        "colab": {
          "base_uri": "https://localhost:8080/",
          "height": 266
        },
        "outputId": "9cdeea39-c402-471f-fd0e-aabd41d93f34"
      },
      "source": [
        "pd.crosstab(df['city'], df['rooms'], margins=True)"
      ],
      "execution_count": 133,
      "outputs": [
        {
          "output_type": "execute_result",
          "data": {
            "text/html": [
              "<div>\n",
              "<style scoped>\n",
              "    .dataframe tbody tr th:only-of-type {\n",
              "        vertical-align: middle;\n",
              "    }\n",
              "\n",
              "    .dataframe tbody tr th {\n",
              "        vertical-align: top;\n",
              "    }\n",
              "\n",
              "    .dataframe thead th {\n",
              "        text-align: right;\n",
              "    }\n",
              "</style>\n",
              "<table border=\"1\" class=\"dataframe\">\n",
              "  <thead>\n",
              "    <tr style=\"text-align: right;\">\n",
              "      <th>rooms</th>\n",
              "      <th>1</th>\n",
              "      <th>2</th>\n",
              "      <th>3</th>\n",
              "      <th>4</th>\n",
              "      <th>5</th>\n",
              "      <th>6</th>\n",
              "      <th>7</th>\n",
              "      <th>8</th>\n",
              "      <th>9</th>\n",
              "      <th>10</th>\n",
              "      <th>13</th>\n",
              "      <th>All</th>\n",
              "    </tr>\n",
              "    <tr>\n",
              "      <th>city</th>\n",
              "      <th></th>\n",
              "      <th></th>\n",
              "      <th></th>\n",
              "      <th></th>\n",
              "      <th></th>\n",
              "      <th></th>\n",
              "      <th></th>\n",
              "      <th></th>\n",
              "      <th></th>\n",
              "      <th></th>\n",
              "      <th></th>\n",
              "      <th></th>\n",
              "    </tr>\n",
              "  </thead>\n",
              "  <tbody>\n",
              "    <tr>\n",
              "      <th>Belo Horizonte</th>\n",
              "      <td>150</td>\n",
              "      <td>286</td>\n",
              "      <td>389</td>\n",
              "      <td>317</td>\n",
              "      <td>78</td>\n",
              "      <td>20</td>\n",
              "      <td>13</td>\n",
              "      <td>4</td>\n",
              "      <td>0</td>\n",
              "      <td>1</td>\n",
              "      <td>0</td>\n",
              "      <td>1258</td>\n",
              "    </tr>\n",
              "    <tr>\n",
              "      <th>Campinas</th>\n",
              "      <td>218</td>\n",
              "      <td>253</td>\n",
              "      <td>271</td>\n",
              "      <td>91</td>\n",
              "      <td>14</td>\n",
              "      <td>4</td>\n",
              "      <td>2</td>\n",
              "      <td>0</td>\n",
              "      <td>0</td>\n",
              "      <td>0</td>\n",
              "      <td>0</td>\n",
              "      <td>853</td>\n",
              "    </tr>\n",
              "    <tr>\n",
              "      <th>Porto Alegre</th>\n",
              "      <td>374</td>\n",
              "      <td>424</td>\n",
              "      <td>299</td>\n",
              "      <td>62</td>\n",
              "      <td>22</td>\n",
              "      <td>9</td>\n",
              "      <td>1</td>\n",
              "      <td>2</td>\n",
              "      <td>0</td>\n",
              "      <td>0</td>\n",
              "      <td>0</td>\n",
              "      <td>1193</td>\n",
              "    </tr>\n",
              "    <tr>\n",
              "      <th>Rio de Janeiro</th>\n",
              "      <td>404</td>\n",
              "      <td>522</td>\n",
              "      <td>422</td>\n",
              "      <td>128</td>\n",
              "      <td>18</td>\n",
              "      <td>3</td>\n",
              "      <td>3</td>\n",
              "      <td>0</td>\n",
              "      <td>0</td>\n",
              "      <td>0</td>\n",
              "      <td>1</td>\n",
              "      <td>1501</td>\n",
              "    </tr>\n",
              "    <tr>\n",
              "      <th>São Paulo</th>\n",
              "      <td>1308</td>\n",
              "      <td>1490</td>\n",
              "      <td>1888</td>\n",
              "      <td>988</td>\n",
              "      <td>156</td>\n",
              "      <td>32</td>\n",
              "      <td>17</td>\n",
              "      <td>5</td>\n",
              "      <td>1</td>\n",
              "      <td>2</td>\n",
              "      <td>0</td>\n",
              "      <td>5887</td>\n",
              "    </tr>\n",
              "    <tr>\n",
              "      <th>All</th>\n",
              "      <td>2454</td>\n",
              "      <td>2975</td>\n",
              "      <td>3269</td>\n",
              "      <td>1586</td>\n",
              "      <td>288</td>\n",
              "      <td>68</td>\n",
              "      <td>36</td>\n",
              "      <td>11</td>\n",
              "      <td>1</td>\n",
              "      <td>3</td>\n",
              "      <td>1</td>\n",
              "      <td>10692</td>\n",
              "    </tr>\n",
              "  </tbody>\n",
              "</table>\n",
              "</div>"
            ],
            "text/plain": [
              "rooms              1     2     3     4    5   6   7   8  9  10  13    All\n",
              "city                                                                     \n",
              "Belo Horizonte   150   286   389   317   78  20  13   4  0   1   0   1258\n",
              "Campinas         218   253   271    91   14   4   2   0  0   0   0    853\n",
              "Porto Alegre     374   424   299    62   22   9   1   2  0   0   0   1193\n",
              "Rio de Janeiro   404   522   422   128   18   3   3   0  0   0   1   1501\n",
              "São Paulo       1308  1490  1888   988  156  32  17   5  1   2   0   5887\n",
              "All             2454  2975  3269  1586  288  68  36  11  1   3   1  10692"
            ]
          },
          "metadata": {
            "tags": []
          },
          "execution_count": 133
        }
      ]
    },
    {
      "cell_type": "code",
      "metadata": {
        "id": "ZyMbBIvmbe6z",
        "colab_type": "code",
        "colab": {
          "base_uri": "https://localhost:8080/",
          "height": 443
        },
        "outputId": "61ad0890-bf10-4daf-d430-73d20bba1065"
      },
      "source": [
        "sns.countplot(x='city', hue='rooms', data=df);\n",
        "plt.savefig('rooms_and_city.svg');"
      ],
      "execution_count": 155,
      "outputs": [
        {
          "output_type": "display_data",
          "data": {
            "text/plain": [
              "<Figure size 576x360 with 1 Axes>"
            ],
            "image/svg+xml": "<?xml version=\"1.0\" encoding=\"utf-8\" standalone=\"no\"?>\n<!DOCTYPE svg PUBLIC \"-//W3C//DTD SVG 1.1//EN\"\n  \"http://www.w3.org/Graphics/SVG/1.1/DTD/svg11.dtd\">\n<!-- Created with matplotlib (https://matplotlib.org/) -->\n<svg height=\"316.55625pt\" version=\"1.1\" viewBox=\"0 0 506.928125 316.55625\" width=\"506.928125pt\" xmlns=\"http://www.w3.org/2000/svg\" xmlns:xlink=\"http://www.w3.org/1999/xlink\">\n <defs>\n  <style type=\"text/css\">\n*{stroke-linecap:butt;stroke-linejoin:round;}\n  </style>\n </defs>\n <g id=\"figure_1\">\n  <g id=\"patch_1\">\n   <path d=\"M 0 316.55625 \nL 506.928125 316.55625 \nL 506.928125 0 \nL 0 0 \nz\n\" style=\"fill:none;\"/>\n  </g>\n  <g id=\"axes_1\">\n   <g id=\"patch_2\">\n    <path d=\"M 53.328125 279 \nL 499.728125 279 \nL 499.728125 7.2 \nL 53.328125 7.2 \nz\n\" style=\"fill:#ffffff;\"/>\n   </g>\n   <g id=\"patch_3\">\n    <path clip-path=\"url(#pbe4b847754)\" d=\"M 62.256125 279 \nL 68.749216 279 \nL 68.749216 99.664649 \nL 62.256125 99.664649 \nz\n\" style=\"fill:#ea96a3;\"/>\n   </g>\n   <g id=\"patch_4\">\n    <path clip-path=\"url(#pbe4b847754)\" d=\"M 151.536125 279 \nL 158.029216 279 \nL 158.029216 227.722155 \nL 151.536125 227.722155 \nz\n\" style=\"fill:#ea96a3;\"/>\n   </g>\n   <g id=\"patch_5\">\n    <path clip-path=\"url(#pbe4b847754)\" d=\"M 240.816125 279 \nL 247.309216 279 \nL 247.309216 223.608959 \nL 240.816125 223.608959 \nz\n\" style=\"fill:#ea96a3;\"/>\n   </g>\n   <g id=\"patch_6\">\n    <path clip-path=\"url(#pbe4b847754)\" d=\"M 330.096125 279 \nL 336.589216 279 \nL 336.589216 249.110775 \nL 330.096125 249.110775 \nz\n\" style=\"fill:#ea96a3;\"/>\n   </g>\n   <g id=\"patch_7\">\n    <path clip-path=\"url(#pbe4b847754)\" d=\"M 419.376125 279 \nL 425.869216 279 \nL 425.869216 258.434019 \nL 419.376125 258.434019 \nz\n\" style=\"fill:#ea96a3;\"/>\n   </g>\n   <g id=\"patch_8\">\n    <path clip-path=\"url(#pbe4b847754)\" d=\"M 68.749216 279 \nL 75.242307 279 \nL 75.242307 74.711259 \nL 68.749216 74.711259 \nz\n\" style=\"fill:#dc924e;\"/>\n   </g>\n   <g id=\"patch_9\">\n    <path clip-path=\"url(#pbe4b847754)\" d=\"M 158.029216 279 \nL 164.522307 279 \nL 164.522307 220.866828 \nL 158.029216 220.866828 \nz\n\" style=\"fill:#dc924e;\"/>\n   </g>\n   <g id=\"patch_10\">\n    <path clip-path=\"url(#pbe4b847754)\" d=\"M 247.309216 279 \nL 253.802307 279 \nL 253.802307 207.430387 \nL 247.309216 207.430387 \nz\n\" style=\"fill:#dc924e;\"/>\n   </g>\n   <g id=\"patch_11\">\n    <path clip-path=\"url(#pbe4b847754)\" d=\"M 336.589216 279 \nL 343.082307 279 \nL 343.082307 244.312046 \nL 336.589216 244.312046 \nz\n\" style=\"fill:#dc924e;\"/>\n   </g>\n   <g id=\"patch_12\">\n    <path clip-path=\"url(#pbe4b847754)\" d=\"M 425.869216 279 \nL 432.362307 279 \nL 432.362307 239.78753 \nL 425.869216 239.78753 \nz\n\" style=\"fill:#dc924e;\"/>\n   </g>\n   <g id=\"patch_13\">\n    <path clip-path=\"url(#pbe4b847754)\" d=\"M 75.242307 279 \nL 81.735398 279 \nL 81.735398 20.142857 \nL 75.242307 20.142857 \nz\n\" style=\"fill:#b39d48;\"/>\n   </g>\n   <g id=\"patch_14\">\n    <path clip-path=\"url(#pbe4b847754)\" d=\"M 164.522307 279 \nL 171.015398 279 \nL 171.015398 238.005145 \nL 164.522307 238.005145 \nz\n\" style=\"fill:#b39d48;\"/>\n   </g>\n   <g id=\"patch_15\">\n    <path clip-path=\"url(#pbe4b847754)\" d=\"M 253.802307 279 \nL 260.295398 279 \nL 260.295398 221.141041 \nL 253.802307 221.141041 \nz\n\" style=\"fill:#b39d48;\"/>\n   </g>\n   <g id=\"patch_16\">\n    <path clip-path=\"url(#pbe4b847754)\" d=\"M 343.082307 279 \nL 349.575398 279 \nL 349.575398 241.844128 \nL 343.082307 241.844128 \nz\n\" style=\"fill:#b39d48;\"/>\n   </g>\n   <g id=\"patch_17\">\n    <path clip-path=\"url(#pbe4b847754)\" d=\"M 432.362307 279 \nL 438.855398 279 \nL 438.855398 225.665557 \nL 432.362307 225.665557 \nz\n\" style=\"fill:#b39d48;\"/>\n   </g>\n   <g id=\"patch_18\">\n    <path clip-path=\"url(#pbe4b847754)\" d=\"M 81.735398 279 \nL 88.228489 279 \nL 88.228489 143.538741 \nL 81.735398 143.538741 \nz\n\" style=\"fill:#8ea546;\"/>\n   </g>\n   <g id=\"patch_19\">\n    <path clip-path=\"url(#pbe4b847754)\" d=\"M 171.015398 279 \nL 177.508489 279 \nL 177.508489 270.499395 \nL 171.015398 270.499395 \nz\n\" style=\"fill:#8ea546;\"/>\n   </g>\n   <g id=\"patch_20\">\n    <path clip-path=\"url(#pbe4b847754)\" d=\"M 260.295398 279 \nL 266.788489 279 \nL 266.788489 261.450363 \nL 260.295398 261.450363 \nz\n\" style=\"fill:#8ea546;\"/>\n   </g>\n   <g id=\"patch_21\">\n    <path clip-path=\"url(#pbe4b847754)\" d=\"M 349.575398 279 \nL 356.068489 279 \nL 356.068489 266.523305 \nL 349.575398 266.523305 \nz\n\" style=\"fill:#8ea546;\"/>\n   </g>\n   <g id=\"patch_22\">\n    <path clip-path=\"url(#pbe4b847754)\" d=\"M 438.855398 279 \nL 445.348489 279 \nL 445.348489 235.537228 \nL 438.855398 235.537228 \nz\n\" style=\"fill:#8ea546;\"/>\n   </g>\n   <g id=\"patch_23\">\n    <path clip-path=\"url(#pbe4b847754)\" d=\"M 88.228489 279 \nL 94.72158 279 \nL 94.72158 257.61138 \nL 88.228489 257.61138 \nz\n\" style=\"fill:#48b067;\"/>\n   </g>\n   <g id=\"patch_24\">\n    <path clip-path=\"url(#pbe4b847754)\" d=\"M 177.508489 279 \nL 184.00158 279 \nL 184.00158 275.983656 \nL 177.508489 275.983656 \nz\n\" style=\"fill:#48b067;\"/>\n   </g>\n   <g id=\"patch_25\">\n    <path clip-path=\"url(#pbe4b847754)\" d=\"M 266.788489 279 \nL 273.28158 279 \nL 273.28158 276.532082 \nL 266.788489 276.532082 \nz\n\" style=\"fill:#48b067;\"/>\n   </g>\n   <g id=\"patch_26\">\n    <path clip-path=\"url(#pbe4b847754)\" d=\"M 356.068489 279 \nL 362.56158 279 \nL 362.56158 277.080508 \nL 356.068489 277.080508 \nz\n\" style=\"fill:#48b067;\"/>\n   </g>\n   <g id=\"patch_27\">\n    <path clip-path=\"url(#pbe4b847754)\" d=\"M 445.348489 279 \nL 451.84158 279 \nL 451.84158 268.30569 \nL 445.348489 268.30569 \nz\n\" style=\"fill:#48b067;\"/>\n   </g>\n   <g id=\"patch_28\">\n    <path clip-path=\"url(#pbe4b847754)\" d=\"M 94.72158 279 \nL 101.21467 279 \nL 101.21467 274.612591 \nL 94.72158 274.612591 \nz\n\" style=\"fill:#4aac98;\"/>\n   </g>\n   <g id=\"patch_29\">\n    <path clip-path=\"url(#pbe4b847754)\" d=\"M 184.00158 279 \nL 190.49467 279 \nL 190.49467 277.766041 \nL 184.00158 277.766041 \nz\n\" style=\"fill:#4aac98;\"/>\n   </g>\n   <g id=\"patch_30\">\n    <path clip-path=\"url(#pbe4b847754)\" d=\"M 273.28158 279 \nL 279.77467 279 \nL 279.77467 278.58868 \nL 273.28158 278.58868 \nz\n\" style=\"fill:#4aac98;\"/>\n   </g>\n   <g id=\"patch_31\">\n    <path clip-path=\"url(#pbe4b847754)\" d=\"M 362.56158 279 \nL 369.05467 279 \nL 369.05467 278.451574 \nL 362.56158 278.451574 \nz\n\" style=\"fill:#4aac98;\"/>\n   </g>\n   <g id=\"patch_32\">\n    <path clip-path=\"url(#pbe4b847754)\" d=\"M 451.84158 279 \nL 458.33467 279 \nL 458.33467 276.257869 \nL 451.84158 276.257869 \nz\n\" style=\"fill:#4aac98;\"/>\n   </g>\n   <g id=\"patch_33\">\n    <path clip-path=\"url(#pbe4b847754)\" d=\"M 101.21467 279 \nL 107.707761 279 \nL 107.707761 276.669189 \nL 101.21467 276.669189 \nz\n\" style=\"fill:#4dabb0;\"/>\n   </g>\n   <g id=\"patch_34\">\n    <path clip-path=\"url(#pbe4b847754)\" d=\"M 190.49467 279 \nL 196.987761 279 \nL 196.987761 278.862893 \nL 190.49467 278.862893 \nz\n\" style=\"fill:#4dabb0;\"/>\n   </g>\n   <g id=\"patch_35\">\n    <path clip-path=\"url(#pbe4b847754)\" d=\"M 279.77467 279 \nL 286.267761 279 \nL 286.267761 278.58868 \nL 279.77467 278.58868 \nz\n\" style=\"fill:#4dabb0;\"/>\n   </g>\n   <g id=\"patch_36\">\n    <path clip-path=\"url(#pbe4b847754)\" d=\"M 369.05467 279 \nL 375.547761 279 \nL 375.547761 278.725787 \nL 369.05467 278.725787 \nz\n\" style=\"fill:#4dabb0;\"/>\n   </g>\n   <g id=\"patch_37\">\n    <path clip-path=\"url(#pbe4b847754)\" d=\"M 458.33467 279 \nL 464.827761 279 \nL 464.827761 277.217615 \nL 458.33467 277.217615 \nz\n\" style=\"fill:#4dabb0;\"/>\n   </g>\n   <g id=\"patch_38\">\n    <path clip-path=\"url(#pbe4b847754)\" d=\"M 107.707761 279 \nL 114.200852 279 \nL 114.200852 278.314467 \nL 107.707761 278.314467 \nz\n\" style=\"fill:#54acd3;\"/>\n   </g>\n   <g id=\"patch_39\">\n    <path clip-path=\"url(#pbe4b847754)\" d=\"M 196.987761 279 \nL 203.480852 279 \nL 203.480852 278.725787 \nL 196.987761 278.725787 \nz\n\" style=\"fill:#54acd3;\"/>\n   </g>\n   <g id=\"patch_40\">\n    <path clip-path=\"url(#pbe4b847754)\" d=\"z\n\" style=\"fill:#54acd3;\"/>\n   </g>\n   <g id=\"patch_41\">\n    <path clip-path=\"url(#pbe4b847754)\" d=\"z\n\" style=\"fill:#54acd3;\"/>\n   </g>\n   <g id=\"patch_42\">\n    <path clip-path=\"url(#pbe4b847754)\" d=\"M 464.827761 279 \nL 471.320852 279 \nL 471.320852 278.451574 \nL 464.827761 278.451574 \nz\n\" style=\"fill:#54acd3;\"/>\n   </g>\n   <g id=\"patch_43\">\n    <path clip-path=\"url(#pbe4b847754)\" d=\"M 114.200852 279 \nL 120.693943 279 \nL 120.693943 278.862893 \nL 114.200852 278.862893 \nz\n\" style=\"fill:#a9aceb;\"/>\n   </g>\n   <g id=\"patch_44\">\n    <path clip-path=\"url(#pbe4b847754)\" d=\"z\n\" style=\"fill:#a9aceb;\"/>\n   </g>\n   <g id=\"patch_45\">\n    <path clip-path=\"url(#pbe4b847754)\" d=\"z\n\" style=\"fill:#a9aceb;\"/>\n   </g>\n   <g id=\"patch_46\">\n    <path clip-path=\"url(#pbe4b847754)\" d=\"z\n\" style=\"fill:#a9aceb;\"/>\n   </g>\n   <g id=\"patch_47\">\n    <path clip-path=\"url(#pbe4b847754)\" d=\"z\n\" style=\"fill:#a9aceb;\"/>\n   </g>\n   <g id=\"patch_48\">\n    <path clip-path=\"url(#pbe4b847754)\" d=\"M 120.693943 279 \nL 127.187034 279 \nL 127.187034 278.725787 \nL 120.693943 278.725787 \nz\n\" style=\"fill:#d795e8;\"/>\n   </g>\n   <g id=\"patch_49\">\n    <path clip-path=\"url(#pbe4b847754)\" d=\"z\n\" style=\"fill:#d795e8;\"/>\n   </g>\n   <g id=\"patch_50\">\n    <path clip-path=\"url(#pbe4b847754)\" d=\"z\n\" style=\"fill:#d795e8;\"/>\n   </g>\n   <g id=\"patch_51\">\n    <path clip-path=\"url(#pbe4b847754)\" d=\"z\n\" style=\"fill:#d795e8;\"/>\n   </g>\n   <g id=\"patch_52\">\n    <path clip-path=\"url(#pbe4b847754)\" d=\"M 477.813943 279 \nL 484.307034 279 \nL 484.307034 278.862893 \nL 477.813943 278.862893 \nz\n\" style=\"fill:#d795e8;\"/>\n   </g>\n   <g id=\"patch_53\">\n    <path clip-path=\"url(#pbe4b847754)\" d=\"z\n\" style=\"fill:#e88fc9;\"/>\n   </g>\n   <g id=\"patch_54\">\n    <path clip-path=\"url(#pbe4b847754)\" d=\"z\n\" style=\"fill:#e88fc9;\"/>\n   </g>\n   <g id=\"patch_55\">\n    <path clip-path=\"url(#pbe4b847754)\" d=\"M 305.747034 279 \nL 312.240125 279 \nL 312.240125 278.862893 \nL 305.747034 278.862893 \nz\n\" style=\"fill:#e88fc9;\"/>\n   </g>\n   <g id=\"patch_56\">\n    <path clip-path=\"url(#pbe4b847754)\" d=\"z\n\" style=\"fill:#e88fc9;\"/>\n   </g>\n   <g id=\"patch_57\">\n    <path clip-path=\"url(#pbe4b847754)\" d=\"z\n\" style=\"fill:#e88fc9;\"/>\n   </g>\n   <g id=\"matplotlib.axis_1\">\n    <g id=\"xtick_1\">\n     <g id=\"line2d_1\">\n      <defs>\n       <path d=\"M 0 0 \nL 0 3.5 \n\" id=\"m46417ed432\" style=\"stroke:#000000;stroke-width:0.8;\"/>\n      </defs>\n      <g>\n       <use style=\"stroke:#000000;stroke-width:0.8;\" x=\"97.968125\" xlink:href=\"#m46417ed432\" y=\"279\"/>\n      </g>\n     </g>\n     <g id=\"text_1\">\n      <!-- São Paulo -->\n      <defs>\n       <path d=\"M 53.515625 70.515625 \nL 53.515625 60.890625 \nQ 47.90625 63.578125 42.921875 64.890625 \nQ 37.9375 66.21875 33.296875 66.21875 \nQ 25.25 66.21875 20.875 63.09375 \nQ 16.5 59.96875 16.5 54.203125 \nQ 16.5 49.359375 19.40625 46.890625 \nQ 22.3125 44.4375 30.421875 42.921875 \nL 36.375 41.703125 \nQ 47.40625 39.59375 52.65625 34.296875 \nQ 57.90625 29 57.90625 20.125 \nQ 57.90625 9.515625 50.796875 4.046875 \nQ 43.703125 -1.421875 29.984375 -1.421875 \nQ 24.8125 -1.421875 18.96875 -0.25 \nQ 13.140625 0.921875 6.890625 3.21875 \nL 6.890625 13.375 \nQ 12.890625 10.015625 18.65625 8.296875 \nQ 24.421875 6.59375 29.984375 6.59375 \nQ 38.421875 6.59375 43.015625 9.90625 \nQ 47.609375 13.234375 47.609375 19.390625 \nQ 47.609375 24.75 44.3125 27.78125 \nQ 41.015625 30.8125 33.5 32.328125 \nL 27.484375 33.5 \nQ 16.453125 35.6875 11.515625 40.375 \nQ 6.59375 45.0625 6.59375 53.421875 \nQ 6.59375 63.09375 13.40625 68.65625 \nQ 20.21875 74.21875 32.171875 74.21875 \nQ 37.3125 74.21875 42.625 73.28125 \nQ 47.953125 72.359375 53.515625 70.515625 \nz\n\" id=\"DejaVuSans-83\"/>\n       <path d=\"M 34.28125 27.484375 \nQ 23.390625 27.484375 19.1875 25 \nQ 14.984375 22.515625 14.984375 16.5 \nQ 14.984375 11.71875 18.140625 8.90625 \nQ 21.296875 6.109375 26.703125 6.109375 \nQ 34.1875 6.109375 38.703125 11.40625 \nQ 43.21875 16.703125 43.21875 25.484375 \nL 43.21875 27.484375 \nz\nM 52.203125 31.203125 \nL 52.203125 0 \nL 43.21875 0 \nL 43.21875 8.296875 \nQ 40.140625 3.328125 35.546875 0.953125 \nQ 30.953125 -1.421875 24.3125 -1.421875 \nQ 15.921875 -1.421875 10.953125 3.296875 \nQ 6 8.015625 6 15.921875 \nQ 6 25.140625 12.171875 29.828125 \nQ 18.359375 34.515625 30.609375 34.515625 \nL 43.21875 34.515625 \nL 43.21875 35.40625 \nQ 43.21875 41.609375 39.140625 45 \nQ 35.0625 48.390625 27.6875 48.390625 \nQ 23 48.390625 18.546875 47.265625 \nQ 14.109375 46.140625 10.015625 43.890625 \nL 10.015625 52.203125 \nQ 14.9375 54.109375 19.578125 55.046875 \nQ 24.21875 56 28.609375 56 \nQ 40.484375 56 46.34375 49.84375 \nQ 52.203125 43.703125 52.203125 31.203125 \nz\nM 28.8125 66.890625 \nL 26.015625 69.578125 \nQ 24.953125 70.5625 24.140625 71.015625 \nQ 23.34375 71.484375 22.703125 71.484375 \nQ 20.84375 71.484375 19.96875 69.703125 \nQ 19.09375 67.921875 18.984375 63.921875 \nL 12.890625 63.921875 \nQ 12.984375 70.515625 15.46875 74.09375 \nQ 17.96875 77.6875 22.40625 77.6875 \nQ 24.265625 77.6875 25.828125 77 \nQ 27.390625 76.3125 29.203125 74.703125 \nL 31.984375 72.015625 \nQ 33.046875 71.046875 33.859375 70.578125 \nQ 34.671875 70.125 35.296875 70.125 \nQ 37.15625 70.125 38.03125 71.90625 \nQ 38.90625 73.6875 39.015625 77.6875 \nL 45.109375 77.6875 \nQ 45.015625 71.09375 42.515625 67.5 \nQ 40.03125 63.921875 35.59375 63.921875 \nQ 33.734375 63.921875 32.171875 64.59375 \nQ 30.609375 65.28125 28.8125 66.890625 \nz\n\" id=\"DejaVuSans-227\"/>\n       <path d=\"M 30.609375 48.390625 \nQ 23.390625 48.390625 19.1875 42.75 \nQ 14.984375 37.109375 14.984375 27.296875 \nQ 14.984375 17.484375 19.15625 11.84375 \nQ 23.34375 6.203125 30.609375 6.203125 \nQ 37.796875 6.203125 41.984375 11.859375 \nQ 46.1875 17.53125 46.1875 27.296875 \nQ 46.1875 37.015625 41.984375 42.703125 \nQ 37.796875 48.390625 30.609375 48.390625 \nz\nM 30.609375 56 \nQ 42.328125 56 49.015625 48.375 \nQ 55.71875 40.765625 55.71875 27.296875 \nQ 55.71875 13.875 49.015625 6.21875 \nQ 42.328125 -1.421875 30.609375 -1.421875 \nQ 18.84375 -1.421875 12.171875 6.21875 \nQ 5.515625 13.875 5.515625 27.296875 \nQ 5.515625 40.765625 12.171875 48.375 \nQ 18.84375 56 30.609375 56 \nz\n\" id=\"DejaVuSans-111\"/>\n       <path id=\"DejaVuSans-32\"/>\n       <path d=\"M 19.671875 64.796875 \nL 19.671875 37.40625 \nL 32.078125 37.40625 \nQ 38.96875 37.40625 42.71875 40.96875 \nQ 46.484375 44.53125 46.484375 51.125 \nQ 46.484375 57.671875 42.71875 61.234375 \nQ 38.96875 64.796875 32.078125 64.796875 \nz\nM 9.8125 72.90625 \nL 32.078125 72.90625 \nQ 44.34375 72.90625 50.609375 67.359375 \nQ 56.890625 61.8125 56.890625 51.125 \nQ 56.890625 40.328125 50.609375 34.8125 \nQ 44.34375 29.296875 32.078125 29.296875 \nL 19.671875 29.296875 \nL 19.671875 0 \nL 9.8125 0 \nz\n\" id=\"DejaVuSans-80\"/>\n       <path d=\"M 34.28125 27.484375 \nQ 23.390625 27.484375 19.1875 25 \nQ 14.984375 22.515625 14.984375 16.5 \nQ 14.984375 11.71875 18.140625 8.90625 \nQ 21.296875 6.109375 26.703125 6.109375 \nQ 34.1875 6.109375 38.703125 11.40625 \nQ 43.21875 16.703125 43.21875 25.484375 \nL 43.21875 27.484375 \nz\nM 52.203125 31.203125 \nL 52.203125 0 \nL 43.21875 0 \nL 43.21875 8.296875 \nQ 40.140625 3.328125 35.546875 0.953125 \nQ 30.953125 -1.421875 24.3125 -1.421875 \nQ 15.921875 -1.421875 10.953125 3.296875 \nQ 6 8.015625 6 15.921875 \nQ 6 25.140625 12.171875 29.828125 \nQ 18.359375 34.515625 30.609375 34.515625 \nL 43.21875 34.515625 \nL 43.21875 35.40625 \nQ 43.21875 41.609375 39.140625 45 \nQ 35.0625 48.390625 27.6875 48.390625 \nQ 23 48.390625 18.546875 47.265625 \nQ 14.109375 46.140625 10.015625 43.890625 \nL 10.015625 52.203125 \nQ 14.9375 54.109375 19.578125 55.046875 \nQ 24.21875 56 28.609375 56 \nQ 40.484375 56 46.34375 49.84375 \nQ 52.203125 43.703125 52.203125 31.203125 \nz\n\" id=\"DejaVuSans-97\"/>\n       <path d=\"M 8.5 21.578125 \nL 8.5 54.6875 \nL 17.484375 54.6875 \nL 17.484375 21.921875 \nQ 17.484375 14.15625 20.5 10.265625 \nQ 23.53125 6.390625 29.59375 6.390625 \nQ 36.859375 6.390625 41.078125 11.03125 \nQ 45.3125 15.671875 45.3125 23.6875 \nL 45.3125 54.6875 \nL 54.296875 54.6875 \nL 54.296875 0 \nL 45.3125 0 \nL 45.3125 8.40625 \nQ 42.046875 3.421875 37.71875 1 \nQ 33.40625 -1.421875 27.6875 -1.421875 \nQ 18.265625 -1.421875 13.375 4.4375 \nQ 8.5 10.296875 8.5 21.578125 \nz\nM 31.109375 56 \nz\n\" id=\"DejaVuSans-117\"/>\n       <path d=\"M 9.421875 75.984375 \nL 18.40625 75.984375 \nL 18.40625 0 \nL 9.421875 0 \nz\n\" id=\"DejaVuSans-108\"/>\n      </defs>\n      <g transform=\"translate(73.610313 293.598437)scale(0.1 -0.1)\">\n       <use xlink:href=\"#DejaVuSans-83\"/>\n       <use x=\"63.476562\" xlink:href=\"#DejaVuSans-227\"/>\n       <use x=\"124.755859\" xlink:href=\"#DejaVuSans-111\"/>\n       <use x=\"185.9375\" xlink:href=\"#DejaVuSans-32\"/>\n       <use x=\"217.724609\" xlink:href=\"#DejaVuSans-80\"/>\n       <use x=\"273.527344\" xlink:href=\"#DejaVuSans-97\"/>\n       <use x=\"334.806641\" xlink:href=\"#DejaVuSans-117\"/>\n       <use x=\"398.185547\" xlink:href=\"#DejaVuSans-108\"/>\n       <use x=\"425.96875\" xlink:href=\"#DejaVuSans-111\"/>\n      </g>\n     </g>\n    </g>\n    <g id=\"xtick_2\">\n     <g id=\"line2d_2\">\n      <g>\n       <use style=\"stroke:#000000;stroke-width:0.8;\" x=\"187.248125\" xlink:href=\"#m46417ed432\" y=\"279\"/>\n      </g>\n     </g>\n     <g id=\"text_2\">\n      <!-- Porto Alegre -->\n      <defs>\n       <path d=\"M 41.109375 46.296875 \nQ 39.59375 47.171875 37.8125 47.578125 \nQ 36.03125 48 33.890625 48 \nQ 26.265625 48 22.1875 43.046875 \nQ 18.109375 38.09375 18.109375 28.8125 \nL 18.109375 0 \nL 9.078125 0 \nL 9.078125 54.6875 \nL 18.109375 54.6875 \nL 18.109375 46.1875 \nQ 20.953125 51.171875 25.484375 53.578125 \nQ 30.03125 56 36.53125 56 \nQ 37.453125 56 38.578125 55.875 \nQ 39.703125 55.765625 41.0625 55.515625 \nz\n\" id=\"DejaVuSans-114\"/>\n       <path d=\"M 18.3125 70.21875 \nL 18.3125 54.6875 \nL 36.8125 54.6875 \nL 36.8125 47.703125 \nL 18.3125 47.703125 \nL 18.3125 18.015625 \nQ 18.3125 11.328125 20.140625 9.421875 \nQ 21.96875 7.515625 27.59375 7.515625 \nL 36.8125 7.515625 \nL 36.8125 0 \nL 27.59375 0 \nQ 17.1875 0 13.234375 3.875 \nQ 9.28125 7.765625 9.28125 18.015625 \nL 9.28125 47.703125 \nL 2.6875 47.703125 \nL 2.6875 54.6875 \nL 9.28125 54.6875 \nL 9.28125 70.21875 \nz\n\" id=\"DejaVuSans-116\"/>\n       <path d=\"M 34.1875 63.1875 \nL 20.796875 26.90625 \nL 47.609375 26.90625 \nz\nM 28.609375 72.90625 \nL 39.796875 72.90625 \nL 67.578125 0 \nL 57.328125 0 \nL 50.6875 18.703125 \nL 17.828125 18.703125 \nL 11.1875 0 \nL 0.78125 0 \nz\n\" id=\"DejaVuSans-65\"/>\n       <path d=\"M 56.203125 29.59375 \nL 56.203125 25.203125 \nL 14.890625 25.203125 \nQ 15.484375 15.921875 20.484375 11.0625 \nQ 25.484375 6.203125 34.421875 6.203125 \nQ 39.59375 6.203125 44.453125 7.46875 \nQ 49.3125 8.734375 54.109375 11.28125 \nL 54.109375 2.78125 \nQ 49.265625 0.734375 44.1875 -0.34375 \nQ 39.109375 -1.421875 33.890625 -1.421875 \nQ 20.796875 -1.421875 13.15625 6.1875 \nQ 5.515625 13.8125 5.515625 26.8125 \nQ 5.515625 40.234375 12.765625 48.109375 \nQ 20.015625 56 32.328125 56 \nQ 43.359375 56 49.78125 48.890625 \nQ 56.203125 41.796875 56.203125 29.59375 \nz\nM 47.21875 32.234375 \nQ 47.125 39.59375 43.09375 43.984375 \nQ 39.0625 48.390625 32.421875 48.390625 \nQ 24.90625 48.390625 20.390625 44.140625 \nQ 15.875 39.890625 15.1875 32.171875 \nz\n\" id=\"DejaVuSans-101\"/>\n       <path d=\"M 45.40625 27.984375 \nQ 45.40625 37.75 41.375 43.109375 \nQ 37.359375 48.484375 30.078125 48.484375 \nQ 22.859375 48.484375 18.828125 43.109375 \nQ 14.796875 37.75 14.796875 27.984375 \nQ 14.796875 18.265625 18.828125 12.890625 \nQ 22.859375 7.515625 30.078125 7.515625 \nQ 37.359375 7.515625 41.375 12.890625 \nQ 45.40625 18.265625 45.40625 27.984375 \nz\nM 54.390625 6.78125 \nQ 54.390625 -7.171875 48.1875 -13.984375 \nQ 42 -20.796875 29.203125 -20.796875 \nQ 24.46875 -20.796875 20.265625 -20.09375 \nQ 16.0625 -19.390625 12.109375 -17.921875 \nL 12.109375 -9.1875 \nQ 16.0625 -11.328125 19.921875 -12.34375 \nQ 23.78125 -13.375 27.78125 -13.375 \nQ 36.625 -13.375 41.015625 -8.765625 \nQ 45.40625 -4.15625 45.40625 5.171875 \nL 45.40625 9.625 \nQ 42.625 4.78125 38.28125 2.390625 \nQ 33.9375 0 27.875 0 \nQ 17.828125 0 11.671875 7.65625 \nQ 5.515625 15.328125 5.515625 27.984375 \nQ 5.515625 40.671875 11.671875 48.328125 \nQ 17.828125 56 27.875 56 \nQ 33.9375 56 38.28125 53.609375 \nQ 42.625 51.21875 45.40625 46.390625 \nL 45.40625 54.6875 \nL 54.390625 54.6875 \nz\n\" id=\"DejaVuSans-103\"/>\n      </defs>\n      <g transform=\"translate(156.611406 293.598437)scale(0.1 -0.1)\">\n       <use xlink:href=\"#DejaVuSans-80\"/>\n       <use x=\"56.677734\" xlink:href=\"#DejaVuSans-111\"/>\n       <use x=\"117.859375\" xlink:href=\"#DejaVuSans-114\"/>\n       <use x=\"158.972656\" xlink:href=\"#DejaVuSans-116\"/>\n       <use x=\"198.181641\" xlink:href=\"#DejaVuSans-111\"/>\n       <use x=\"259.363281\" xlink:href=\"#DejaVuSans-32\"/>\n       <use x=\"291.150391\" xlink:href=\"#DejaVuSans-65\"/>\n       <use x=\"359.558594\" xlink:href=\"#DejaVuSans-108\"/>\n       <use x=\"387.341797\" xlink:href=\"#DejaVuSans-101\"/>\n       <use x=\"448.865234\" xlink:href=\"#DejaVuSans-103\"/>\n       <use x=\"512.341797\" xlink:href=\"#DejaVuSans-114\"/>\n       <use x=\"551.205078\" xlink:href=\"#DejaVuSans-101\"/>\n      </g>\n     </g>\n    </g>\n    <g id=\"xtick_3\">\n     <g id=\"line2d_3\">\n      <g>\n       <use style=\"stroke:#000000;stroke-width:0.8;\" x=\"276.528125\" xlink:href=\"#m46417ed432\" y=\"279\"/>\n      </g>\n     </g>\n     <g id=\"text_3\">\n      <!-- Rio de Janeiro -->\n      <defs>\n       <path d=\"M 44.390625 34.1875 \nQ 47.5625 33.109375 50.5625 29.59375 \nQ 53.5625 26.078125 56.59375 19.921875 \nL 66.609375 0 \nL 56 0 \nL 46.6875 18.703125 \nQ 43.0625 26.03125 39.671875 28.421875 \nQ 36.28125 30.8125 30.421875 30.8125 \nL 19.671875 30.8125 \nL 19.671875 0 \nL 9.8125 0 \nL 9.8125 72.90625 \nL 32.078125 72.90625 \nQ 44.578125 72.90625 50.734375 67.671875 \nQ 56.890625 62.453125 56.890625 51.90625 \nQ 56.890625 45.015625 53.6875 40.46875 \nQ 50.484375 35.9375 44.390625 34.1875 \nz\nM 19.671875 64.796875 \nL 19.671875 38.921875 \nL 32.078125 38.921875 \nQ 39.203125 38.921875 42.84375 42.21875 \nQ 46.484375 45.515625 46.484375 51.90625 \nQ 46.484375 58.296875 42.84375 61.546875 \nQ 39.203125 64.796875 32.078125 64.796875 \nz\n\" id=\"DejaVuSans-82\"/>\n       <path d=\"M 9.421875 54.6875 \nL 18.40625 54.6875 \nL 18.40625 0 \nL 9.421875 0 \nz\nM 9.421875 75.984375 \nL 18.40625 75.984375 \nL 18.40625 64.59375 \nL 9.421875 64.59375 \nz\n\" id=\"DejaVuSans-105\"/>\n       <path d=\"M 45.40625 46.390625 \nL 45.40625 75.984375 \nL 54.390625 75.984375 \nL 54.390625 0 \nL 45.40625 0 \nL 45.40625 8.203125 \nQ 42.578125 3.328125 38.25 0.953125 \nQ 33.9375 -1.421875 27.875 -1.421875 \nQ 17.96875 -1.421875 11.734375 6.484375 \nQ 5.515625 14.40625 5.515625 27.296875 \nQ 5.515625 40.1875 11.734375 48.09375 \nQ 17.96875 56 27.875 56 \nQ 33.9375 56 38.25 53.625 \nQ 42.578125 51.265625 45.40625 46.390625 \nz\nM 14.796875 27.296875 \nQ 14.796875 17.390625 18.875 11.75 \nQ 22.953125 6.109375 30.078125 6.109375 \nQ 37.203125 6.109375 41.296875 11.75 \nQ 45.40625 17.390625 45.40625 27.296875 \nQ 45.40625 37.203125 41.296875 42.84375 \nQ 37.203125 48.484375 30.078125 48.484375 \nQ 22.953125 48.484375 18.875 42.84375 \nQ 14.796875 37.203125 14.796875 27.296875 \nz\n\" id=\"DejaVuSans-100\"/>\n       <path d=\"M 9.8125 72.90625 \nL 19.671875 72.90625 \nL 19.671875 5.078125 \nQ 19.671875 -8.109375 14.671875 -14.0625 \nQ 9.671875 -20.015625 -1.421875 -20.015625 \nL -5.171875 -20.015625 \nL -5.171875 -11.71875 \nL -2.09375 -11.71875 \nQ 4.4375 -11.71875 7.125 -8.046875 \nQ 9.8125 -4.390625 9.8125 5.078125 \nz\n\" id=\"DejaVuSans-74\"/>\n       <path d=\"M 54.890625 33.015625 \nL 54.890625 0 \nL 45.90625 0 \nL 45.90625 32.71875 \nQ 45.90625 40.484375 42.875 44.328125 \nQ 39.84375 48.1875 33.796875 48.1875 \nQ 26.515625 48.1875 22.3125 43.546875 \nQ 18.109375 38.921875 18.109375 30.90625 \nL 18.109375 0 \nL 9.078125 0 \nL 9.078125 54.6875 \nL 18.109375 54.6875 \nL 18.109375 46.1875 \nQ 21.34375 51.125 25.703125 53.5625 \nQ 30.078125 56 35.796875 56 \nQ 45.21875 56 50.046875 50.171875 \nQ 54.890625 44.34375 54.890625 33.015625 \nz\n\" id=\"DejaVuSans-110\"/>\n      </defs>\n      <g transform=\"translate(242.000781 293.598437)scale(0.1 -0.1)\">\n       <use xlink:href=\"#DejaVuSans-82\"/>\n       <use x=\"69.482422\" xlink:href=\"#DejaVuSans-105\"/>\n       <use x=\"97.265625\" xlink:href=\"#DejaVuSans-111\"/>\n       <use x=\"158.447266\" xlink:href=\"#DejaVuSans-32\"/>\n       <use x=\"190.234375\" xlink:href=\"#DejaVuSans-100\"/>\n       <use x=\"253.710938\" xlink:href=\"#DejaVuSans-101\"/>\n       <use x=\"315.234375\" xlink:href=\"#DejaVuSans-32\"/>\n       <use x=\"347.021484\" xlink:href=\"#DejaVuSans-74\"/>\n       <use x=\"376.513672\" xlink:href=\"#DejaVuSans-97\"/>\n       <use x=\"437.792969\" xlink:href=\"#DejaVuSans-110\"/>\n       <use x=\"501.171875\" xlink:href=\"#DejaVuSans-101\"/>\n       <use x=\"562.695312\" xlink:href=\"#DejaVuSans-105\"/>\n       <use x=\"590.478516\" xlink:href=\"#DejaVuSans-114\"/>\n       <use x=\"629.341797\" xlink:href=\"#DejaVuSans-111\"/>\n      </g>\n     </g>\n    </g>\n    <g id=\"xtick_4\">\n     <g id=\"line2d_4\">\n      <g>\n       <use style=\"stroke:#000000;stroke-width:0.8;\" x=\"365.808125\" xlink:href=\"#m46417ed432\" y=\"279\"/>\n      </g>\n     </g>\n     <g id=\"text_4\">\n      <!-- Campinas -->\n      <defs>\n       <path d=\"M 64.40625 67.28125 \nL 64.40625 56.890625 \nQ 59.421875 61.53125 53.78125 63.8125 \nQ 48.140625 66.109375 41.796875 66.109375 \nQ 29.296875 66.109375 22.65625 58.46875 \nQ 16.015625 50.828125 16.015625 36.375 \nQ 16.015625 21.96875 22.65625 14.328125 \nQ 29.296875 6.6875 41.796875 6.6875 \nQ 48.140625 6.6875 53.78125 8.984375 \nQ 59.421875 11.28125 64.40625 15.921875 \nL 64.40625 5.609375 \nQ 59.234375 2.09375 53.4375 0.328125 \nQ 47.65625 -1.421875 41.21875 -1.421875 \nQ 24.65625 -1.421875 15.125 8.703125 \nQ 5.609375 18.84375 5.609375 36.375 \nQ 5.609375 53.953125 15.125 64.078125 \nQ 24.65625 74.21875 41.21875 74.21875 \nQ 47.75 74.21875 53.53125 72.484375 \nQ 59.328125 70.75 64.40625 67.28125 \nz\n\" id=\"DejaVuSans-67\"/>\n       <path d=\"M 52 44.1875 \nQ 55.375 50.25 60.0625 53.125 \nQ 64.75 56 71.09375 56 \nQ 79.640625 56 84.28125 50.015625 \nQ 88.921875 44.046875 88.921875 33.015625 \nL 88.921875 0 \nL 79.890625 0 \nL 79.890625 32.71875 \nQ 79.890625 40.578125 77.09375 44.375 \nQ 74.3125 48.1875 68.609375 48.1875 \nQ 61.625 48.1875 57.5625 43.546875 \nQ 53.515625 38.921875 53.515625 30.90625 \nL 53.515625 0 \nL 44.484375 0 \nL 44.484375 32.71875 \nQ 44.484375 40.625 41.703125 44.40625 \nQ 38.921875 48.1875 33.109375 48.1875 \nQ 26.21875 48.1875 22.15625 43.53125 \nQ 18.109375 38.875 18.109375 30.90625 \nL 18.109375 0 \nL 9.078125 0 \nL 9.078125 54.6875 \nL 18.109375 54.6875 \nL 18.109375 46.1875 \nQ 21.1875 51.21875 25.484375 53.609375 \nQ 29.78125 56 35.6875 56 \nQ 41.65625 56 45.828125 52.96875 \nQ 50 49.953125 52 44.1875 \nz\n\" id=\"DejaVuSans-109\"/>\n       <path d=\"M 18.109375 8.203125 \nL 18.109375 -20.796875 \nL 9.078125 -20.796875 \nL 9.078125 54.6875 \nL 18.109375 54.6875 \nL 18.109375 46.390625 \nQ 20.953125 51.265625 25.265625 53.625 \nQ 29.59375 56 35.59375 56 \nQ 45.5625 56 51.78125 48.09375 \nQ 58.015625 40.1875 58.015625 27.296875 \nQ 58.015625 14.40625 51.78125 6.484375 \nQ 45.5625 -1.421875 35.59375 -1.421875 \nQ 29.59375 -1.421875 25.265625 0.953125 \nQ 20.953125 3.328125 18.109375 8.203125 \nz\nM 48.6875 27.296875 \nQ 48.6875 37.203125 44.609375 42.84375 \nQ 40.53125 48.484375 33.40625 48.484375 \nQ 26.265625 48.484375 22.1875 42.84375 \nQ 18.109375 37.203125 18.109375 27.296875 \nQ 18.109375 17.390625 22.1875 11.75 \nQ 26.265625 6.109375 33.40625 6.109375 \nQ 40.53125 6.109375 44.609375 11.75 \nQ 48.6875 17.390625 48.6875 27.296875 \nz\n\" id=\"DejaVuSans-112\"/>\n       <path d=\"M 44.28125 53.078125 \nL 44.28125 44.578125 \nQ 40.484375 46.53125 36.375 47.5 \nQ 32.28125 48.484375 27.875 48.484375 \nQ 21.1875 48.484375 17.84375 46.4375 \nQ 14.5 44.390625 14.5 40.28125 \nQ 14.5 37.15625 16.890625 35.375 \nQ 19.28125 33.59375 26.515625 31.984375 \nL 29.59375 31.296875 \nQ 39.15625 29.25 43.1875 25.515625 \nQ 47.21875 21.78125 47.21875 15.09375 \nQ 47.21875 7.46875 41.1875 3.015625 \nQ 35.15625 -1.421875 24.609375 -1.421875 \nQ 20.21875 -1.421875 15.453125 -0.5625 \nQ 10.6875 0.296875 5.421875 2 \nL 5.421875 11.28125 \nQ 10.40625 8.6875 15.234375 7.390625 \nQ 20.0625 6.109375 24.8125 6.109375 \nQ 31.15625 6.109375 34.5625 8.28125 \nQ 37.984375 10.453125 37.984375 14.40625 \nQ 37.984375 18.0625 35.515625 20.015625 \nQ 33.0625 21.96875 24.703125 23.78125 \nL 21.578125 24.515625 \nQ 13.234375 26.265625 9.515625 29.90625 \nQ 5.8125 33.546875 5.8125 39.890625 \nQ 5.8125 47.609375 11.28125 51.796875 \nQ 16.75 56 26.8125 56 \nQ 31.78125 56 36.171875 55.265625 \nQ 40.578125 54.546875 44.28125 53.078125 \nz\n\" id=\"DejaVuSans-115\"/>\n      </defs>\n      <g transform=\"translate(340.981562 293.598437)scale(0.1 -0.1)\">\n       <use xlink:href=\"#DejaVuSans-67\"/>\n       <use x=\"69.824219\" xlink:href=\"#DejaVuSans-97\"/>\n       <use x=\"131.103516\" xlink:href=\"#DejaVuSans-109\"/>\n       <use x=\"228.515625\" xlink:href=\"#DejaVuSans-112\"/>\n       <use x=\"291.992188\" xlink:href=\"#DejaVuSans-105\"/>\n       <use x=\"319.775391\" xlink:href=\"#DejaVuSans-110\"/>\n       <use x=\"383.154297\" xlink:href=\"#DejaVuSans-97\"/>\n       <use x=\"444.433594\" xlink:href=\"#DejaVuSans-115\"/>\n      </g>\n     </g>\n    </g>\n    <g id=\"xtick_5\">\n     <g id=\"line2d_5\">\n      <g>\n       <use style=\"stroke:#000000;stroke-width:0.8;\" x=\"455.088125\" xlink:href=\"#m46417ed432\" y=\"279\"/>\n      </g>\n     </g>\n     <g id=\"text_5\">\n      <!-- Belo Horizonte -->\n      <defs>\n       <path d=\"M 19.671875 34.8125 \nL 19.671875 8.109375 \nL 35.5 8.109375 \nQ 43.453125 8.109375 47.28125 11.40625 \nQ 51.125 14.703125 51.125 21.484375 \nQ 51.125 28.328125 47.28125 31.5625 \nQ 43.453125 34.8125 35.5 34.8125 \nz\nM 19.671875 64.796875 \nL 19.671875 42.828125 \nL 34.28125 42.828125 \nQ 41.5 42.828125 45.03125 45.53125 \nQ 48.578125 48.25 48.578125 53.8125 \nQ 48.578125 59.328125 45.03125 62.0625 \nQ 41.5 64.796875 34.28125 64.796875 \nz\nM 9.8125 72.90625 \nL 35.015625 72.90625 \nQ 46.296875 72.90625 52.390625 68.21875 \nQ 58.5 63.53125 58.5 54.890625 \nQ 58.5 48.1875 55.375 44.234375 \nQ 52.25 40.28125 46.1875 39.3125 \nQ 53.46875 37.75 57.5 32.78125 \nQ 61.53125 27.828125 61.53125 20.40625 \nQ 61.53125 10.640625 54.890625 5.3125 \nQ 48.25 0 35.984375 0 \nL 9.8125 0 \nz\n\" id=\"DejaVuSans-66\"/>\n       <path d=\"M 9.8125 72.90625 \nL 19.671875 72.90625 \nL 19.671875 43.015625 \nL 55.515625 43.015625 \nL 55.515625 72.90625 \nL 65.375 72.90625 \nL 65.375 0 \nL 55.515625 0 \nL 55.515625 34.71875 \nL 19.671875 34.71875 \nL 19.671875 0 \nL 9.8125 0 \nz\n\" id=\"DejaVuSans-72\"/>\n       <path d=\"M 5.515625 54.6875 \nL 48.1875 54.6875 \nL 48.1875 46.484375 \nL 14.40625 7.171875 \nL 48.1875 7.171875 \nL 48.1875 0 \nL 4.296875 0 \nL 4.296875 8.203125 \nL 38.09375 47.515625 \nL 5.515625 47.515625 \nz\n\" id=\"DejaVuSans-122\"/>\n      </defs>\n      <g transform=\"translate(418.390469 293.598437)scale(0.1 -0.1)\">\n       <use xlink:href=\"#DejaVuSans-66\"/>\n       <use x=\"68.603516\" xlink:href=\"#DejaVuSans-101\"/>\n       <use x=\"130.126953\" xlink:href=\"#DejaVuSans-108\"/>\n       <use x=\"157.910156\" xlink:href=\"#DejaVuSans-111\"/>\n       <use x=\"219.091797\" xlink:href=\"#DejaVuSans-32\"/>\n       <use x=\"250.878906\" xlink:href=\"#DejaVuSans-72\"/>\n       <use x=\"326.074219\" xlink:href=\"#DejaVuSans-111\"/>\n       <use x=\"387.255859\" xlink:href=\"#DejaVuSans-114\"/>\n       <use x=\"428.369141\" xlink:href=\"#DejaVuSans-105\"/>\n       <use x=\"456.152344\" xlink:href=\"#DejaVuSans-122\"/>\n       <use x=\"508.642578\" xlink:href=\"#DejaVuSans-111\"/>\n       <use x=\"569.824219\" xlink:href=\"#DejaVuSans-110\"/>\n       <use x=\"633.203125\" xlink:href=\"#DejaVuSans-116\"/>\n       <use x=\"672.412109\" xlink:href=\"#DejaVuSans-101\"/>\n      </g>\n     </g>\n    </g>\n    <g id=\"text_6\">\n     <!-- city -->\n     <defs>\n      <path d=\"M 48.78125 52.59375 \nL 48.78125 44.1875 \nQ 44.96875 46.296875 41.140625 47.34375 \nQ 37.3125 48.390625 33.40625 48.390625 \nQ 24.65625 48.390625 19.8125 42.84375 \nQ 14.984375 37.3125 14.984375 27.296875 \nQ 14.984375 17.28125 19.8125 11.734375 \nQ 24.65625 6.203125 33.40625 6.203125 \nQ 37.3125 6.203125 41.140625 7.25 \nQ 44.96875 8.296875 48.78125 10.40625 \nL 48.78125 2.09375 \nQ 45.015625 0.34375 40.984375 -0.53125 \nQ 36.96875 -1.421875 32.421875 -1.421875 \nQ 20.0625 -1.421875 12.78125 6.34375 \nQ 5.515625 14.109375 5.515625 27.296875 \nQ 5.515625 40.671875 12.859375 48.328125 \nQ 20.21875 56 33.015625 56 \nQ 37.15625 56 41.109375 55.140625 \nQ 45.0625 54.296875 48.78125 52.59375 \nz\n\" id=\"DejaVuSans-99\"/>\n      <path d=\"M 32.171875 -5.078125 \nQ 28.375 -14.84375 24.75 -17.8125 \nQ 21.140625 -20.796875 15.09375 -20.796875 \nL 7.90625 -20.796875 \nL 7.90625 -13.28125 \nL 13.1875 -13.28125 \nQ 16.890625 -13.28125 18.9375 -11.515625 \nQ 21 -9.765625 23.484375 -3.21875 \nL 25.09375 0.875 \nL 2.984375 54.6875 \nL 12.5 54.6875 \nL 29.59375 11.921875 \nL 46.6875 54.6875 \nL 56.203125 54.6875 \nz\n\" id=\"DejaVuSans-121\"/>\n     </defs>\n     <g transform=\"translate(267.470312 307.276562)scale(0.1 -0.1)\">\n      <use xlink:href=\"#DejaVuSans-99\"/>\n      <use x=\"54.980469\" xlink:href=\"#DejaVuSans-105\"/>\n      <use x=\"82.763672\" xlink:href=\"#DejaVuSans-116\"/>\n      <use x=\"121.972656\" xlink:href=\"#DejaVuSans-121\"/>\n     </g>\n    </g>\n   </g>\n   <g id=\"matplotlib.axis_2\">\n    <g id=\"ytick_1\">\n     <g id=\"line2d_6\">\n      <defs>\n       <path d=\"M 0 0 \nL -3.5 0 \n\" id=\"md822203a0c\" style=\"stroke:#000000;stroke-width:0.8;\"/>\n      </defs>\n      <g>\n       <use style=\"stroke:#000000;stroke-width:0.8;\" x=\"53.328125\" xlink:href=\"#md822203a0c\" y=\"279\"/>\n      </g>\n     </g>\n     <g id=\"text_7\">\n      <!-- 0 -->\n      <defs>\n       <path d=\"M 31.78125 66.40625 \nQ 24.171875 66.40625 20.328125 58.90625 \nQ 16.5 51.421875 16.5 36.375 \nQ 16.5 21.390625 20.328125 13.890625 \nQ 24.171875 6.390625 31.78125 6.390625 \nQ 39.453125 6.390625 43.28125 13.890625 \nQ 47.125 21.390625 47.125 36.375 \nQ 47.125 51.421875 43.28125 58.90625 \nQ 39.453125 66.40625 31.78125 66.40625 \nz\nM 31.78125 74.21875 \nQ 44.046875 74.21875 50.515625 64.515625 \nQ 56.984375 54.828125 56.984375 36.375 \nQ 56.984375 17.96875 50.515625 8.265625 \nQ 44.046875 -1.421875 31.78125 -1.421875 \nQ 19.53125 -1.421875 13.0625 8.265625 \nQ 6.59375 17.96875 6.59375 36.375 \nQ 6.59375 54.828125 13.0625 64.515625 \nQ 19.53125 74.21875 31.78125 74.21875 \nz\n\" id=\"DejaVuSans-48\"/>\n      </defs>\n      <g transform=\"translate(39.965625 282.799219)scale(0.1 -0.1)\">\n       <use xlink:href=\"#DejaVuSans-48\"/>\n      </g>\n     </g>\n    </g>\n    <g id=\"ytick_2\">\n     <g id=\"line2d_7\">\n      <g>\n       <use style=\"stroke:#000000;stroke-width:0.8;\" x=\"53.328125\" xlink:href=\"#md822203a0c\" y=\"244.723366\"/>\n      </g>\n     </g>\n     <g id=\"text_8\">\n      <!-- 250 -->\n      <defs>\n       <path d=\"M 19.1875 8.296875 \nL 53.609375 8.296875 \nL 53.609375 0 \nL 7.328125 0 \nL 7.328125 8.296875 \nQ 12.9375 14.109375 22.625 23.890625 \nQ 32.328125 33.6875 34.8125 36.53125 \nQ 39.546875 41.84375 41.421875 45.53125 \nQ 43.3125 49.21875 43.3125 52.78125 \nQ 43.3125 58.59375 39.234375 62.25 \nQ 35.15625 65.921875 28.609375 65.921875 \nQ 23.96875 65.921875 18.8125 64.3125 \nQ 13.671875 62.703125 7.8125 59.421875 \nL 7.8125 69.390625 \nQ 13.765625 71.78125 18.9375 73 \nQ 24.125 74.21875 28.421875 74.21875 \nQ 39.75 74.21875 46.484375 68.546875 \nQ 53.21875 62.890625 53.21875 53.421875 \nQ 53.21875 48.921875 51.53125 44.890625 \nQ 49.859375 40.875 45.40625 35.40625 \nQ 44.1875 33.984375 37.640625 27.21875 \nQ 31.109375 20.453125 19.1875 8.296875 \nz\n\" id=\"DejaVuSans-50\"/>\n       <path d=\"M 10.796875 72.90625 \nL 49.515625 72.90625 \nL 49.515625 64.59375 \nL 19.828125 64.59375 \nL 19.828125 46.734375 \nQ 21.96875 47.46875 24.109375 47.828125 \nQ 26.265625 48.1875 28.421875 48.1875 \nQ 40.625 48.1875 47.75 41.5 \nQ 54.890625 34.8125 54.890625 23.390625 \nQ 54.890625 11.625 47.5625 5.09375 \nQ 40.234375 -1.421875 26.90625 -1.421875 \nQ 22.3125 -1.421875 17.546875 -0.640625 \nQ 12.796875 0.140625 7.71875 1.703125 \nL 7.71875 11.625 \nQ 12.109375 9.234375 16.796875 8.0625 \nQ 21.484375 6.890625 26.703125 6.890625 \nQ 35.15625 6.890625 40.078125 11.328125 \nQ 45.015625 15.765625 45.015625 23.390625 \nQ 45.015625 31 40.078125 35.4375 \nQ 35.15625 39.890625 26.703125 39.890625 \nQ 22.75 39.890625 18.8125 39.015625 \nQ 14.890625 38.140625 10.796875 36.28125 \nz\n\" id=\"DejaVuSans-53\"/>\n      </defs>\n      <g transform=\"translate(27.240625 248.522584)scale(0.1 -0.1)\">\n       <use xlink:href=\"#DejaVuSans-50\"/>\n       <use x=\"63.623047\" xlink:href=\"#DejaVuSans-53\"/>\n       <use x=\"127.246094\" xlink:href=\"#DejaVuSans-48\"/>\n      </g>\n     </g>\n    </g>\n    <g id=\"ytick_3\">\n     <g id=\"line2d_8\">\n      <g>\n       <use style=\"stroke:#000000;stroke-width:0.8;\" x=\"53.328125\" xlink:href=\"#md822203a0c\" y=\"210.446731\"/>\n      </g>\n     </g>\n     <g id=\"text_9\">\n      <!-- 500 -->\n      <g transform=\"translate(27.240625 214.24595)scale(0.1 -0.1)\">\n       <use xlink:href=\"#DejaVuSans-53\"/>\n       <use x=\"63.623047\" xlink:href=\"#DejaVuSans-48\"/>\n       <use x=\"127.246094\" xlink:href=\"#DejaVuSans-48\"/>\n      </g>\n     </g>\n    </g>\n    <g id=\"ytick_4\">\n     <g id=\"line2d_9\">\n      <g>\n       <use style=\"stroke:#000000;stroke-width:0.8;\" x=\"53.328125\" xlink:href=\"#md822203a0c\" y=\"176.170097\"/>\n      </g>\n     </g>\n     <g id=\"text_10\">\n      <!-- 750 -->\n      <defs>\n       <path d=\"M 8.203125 72.90625 \nL 55.078125 72.90625 \nL 55.078125 68.703125 \nL 28.609375 0 \nL 18.3125 0 \nL 43.21875 64.59375 \nL 8.203125 64.59375 \nz\n\" id=\"DejaVuSans-55\"/>\n      </defs>\n      <g transform=\"translate(27.240625 179.969316)scale(0.1 -0.1)\">\n       <use xlink:href=\"#DejaVuSans-55\"/>\n       <use x=\"63.623047\" xlink:href=\"#DejaVuSans-53\"/>\n       <use x=\"127.246094\" xlink:href=\"#DejaVuSans-48\"/>\n      </g>\n     </g>\n    </g>\n    <g id=\"ytick_5\">\n     <g id=\"line2d_10\">\n      <g>\n       <use style=\"stroke:#000000;stroke-width:0.8;\" x=\"53.328125\" xlink:href=\"#md822203a0c\" y=\"141.893462\"/>\n      </g>\n     </g>\n     <g id=\"text_11\">\n      <!-- 1000 -->\n      <defs>\n       <path d=\"M 12.40625 8.296875 \nL 28.515625 8.296875 \nL 28.515625 63.921875 \nL 10.984375 60.40625 \nL 10.984375 69.390625 \nL 28.421875 72.90625 \nL 38.28125 72.90625 \nL 38.28125 8.296875 \nL 54.390625 8.296875 \nL 54.390625 0 \nL 12.40625 0 \nz\n\" id=\"DejaVuSans-49\"/>\n      </defs>\n      <g transform=\"translate(20.878125 145.692681)scale(0.1 -0.1)\">\n       <use xlink:href=\"#DejaVuSans-49\"/>\n       <use x=\"63.623047\" xlink:href=\"#DejaVuSans-48\"/>\n       <use x=\"127.246094\" xlink:href=\"#DejaVuSans-48\"/>\n       <use x=\"190.869141\" xlink:href=\"#DejaVuSans-48\"/>\n      </g>\n     </g>\n    </g>\n    <g id=\"ytick_6\">\n     <g id=\"line2d_11\">\n      <g>\n       <use style=\"stroke:#000000;stroke-width:0.8;\" x=\"53.328125\" xlink:href=\"#md822203a0c\" y=\"107.616828\"/>\n      </g>\n     </g>\n     <g id=\"text_12\">\n      <!-- 1250 -->\n      <g transform=\"translate(20.878125 111.416047)scale(0.1 -0.1)\">\n       <use xlink:href=\"#DejaVuSans-49\"/>\n       <use x=\"63.623047\" xlink:href=\"#DejaVuSans-50\"/>\n       <use x=\"127.246094\" xlink:href=\"#DejaVuSans-53\"/>\n       <use x=\"190.869141\" xlink:href=\"#DejaVuSans-48\"/>\n      </g>\n     </g>\n    </g>\n    <g id=\"ytick_7\">\n     <g id=\"line2d_12\">\n      <g>\n       <use style=\"stroke:#000000;stroke-width:0.8;\" x=\"53.328125\" xlink:href=\"#md822203a0c\" y=\"73.340194\"/>\n      </g>\n     </g>\n     <g id=\"text_13\">\n      <!-- 1500 -->\n      <g transform=\"translate(20.878125 77.139412)scale(0.1 -0.1)\">\n       <use xlink:href=\"#DejaVuSans-49\"/>\n       <use x=\"63.623047\" xlink:href=\"#DejaVuSans-53\"/>\n       <use x=\"127.246094\" xlink:href=\"#DejaVuSans-48\"/>\n       <use x=\"190.869141\" xlink:href=\"#DejaVuSans-48\"/>\n      </g>\n     </g>\n    </g>\n    <g id=\"ytick_8\">\n     <g id=\"line2d_13\">\n      <g>\n       <use style=\"stroke:#000000;stroke-width:0.8;\" x=\"53.328125\" xlink:href=\"#md822203a0c\" y=\"39.063559\"/>\n      </g>\n     </g>\n     <g id=\"text_14\">\n      <!-- 1750 -->\n      <g transform=\"translate(20.878125 42.862778)scale(0.1 -0.1)\">\n       <use xlink:href=\"#DejaVuSans-49\"/>\n       <use x=\"63.623047\" xlink:href=\"#DejaVuSans-55\"/>\n       <use x=\"127.246094\" xlink:href=\"#DejaVuSans-53\"/>\n       <use x=\"190.869141\" xlink:href=\"#DejaVuSans-48\"/>\n      </g>\n     </g>\n    </g>\n    <g id=\"text_15\">\n     <!-- count -->\n     <g transform=\"translate(14.798438 157.20625)rotate(-90)scale(0.1 -0.1)\">\n      <use xlink:href=\"#DejaVuSans-99\"/>\n      <use x=\"54.980469\" xlink:href=\"#DejaVuSans-111\"/>\n      <use x=\"116.162109\" xlink:href=\"#DejaVuSans-117\"/>\n      <use x=\"179.541016\" xlink:href=\"#DejaVuSans-110\"/>\n      <use x=\"242.919922\" xlink:href=\"#DejaVuSans-116\"/>\n     </g>\n    </g>\n   </g>\n   <g id=\"patch_58\">\n    <path d=\"M 53.328125 279 \nL 53.328125 7.2 \n\" style=\"fill:none;stroke:#000000;stroke-linecap:square;stroke-linejoin:miter;stroke-width:0.8;\"/>\n   </g>\n   <g id=\"patch_59\">\n    <path d=\"M 499.728125 279 \nL 499.728125 7.2 \n\" style=\"fill:none;stroke:#000000;stroke-linecap:square;stroke-linejoin:miter;stroke-width:0.8;\"/>\n   </g>\n   <g id=\"patch_60\">\n    <path d=\"M 53.328125 279 \nL 499.728125 279 \n\" style=\"fill:none;stroke:#000000;stroke-linecap:square;stroke-linejoin:miter;stroke-width:0.8;\"/>\n   </g>\n   <g id=\"patch_61\">\n    <path d=\"M 53.328125 7.2 \nL 499.728125 7.2 \n\" style=\"fill:none;stroke:#000000;stroke-linecap:square;stroke-linejoin:miter;stroke-width:0.8;\"/>\n   </g>\n   <g id=\"legend_1\">\n    <g id=\"patch_62\">\n     <path d=\"M 448.003125 191.3375 \nL 492.728125 191.3375 \nQ 494.728125 191.3375 494.728125 189.3375 \nL 494.728125 14.2 \nQ 494.728125 12.2 492.728125 12.2 \nL 448.003125 12.2 \nQ 446.003125 12.2 446.003125 14.2 \nL 446.003125 189.3375 \nQ 446.003125 191.3375 448.003125 191.3375 \nz\n\" style=\"fill:#ffffff;opacity:0.8;stroke:#cccccc;stroke-linejoin:miter;\"/>\n    </g>\n    <g id=\"text_16\">\n     <!-- rooms -->\n     <g transform=\"translate(454.828906 23.798437)scale(0.1 -0.1)\">\n      <use xlink:href=\"#DejaVuSans-114\"/>\n      <use x=\"38.863281\" xlink:href=\"#DejaVuSans-111\"/>\n      <use x=\"100.044922\" xlink:href=\"#DejaVuSans-111\"/>\n      <use x=\"161.226562\" xlink:href=\"#DejaVuSans-109\"/>\n      <use x=\"258.638672\" xlink:href=\"#DejaVuSans-115\"/>\n     </g>\n    </g>\n    <g id=\"patch_63\">\n     <path d=\"M 450.003125 38.476562 \nL 470.003125 38.476562 \nL 470.003125 31.476562 \nL 450.003125 31.476562 \nz\n\" style=\"fill:#ea96a3;\"/>\n    </g>\n    <g id=\"text_17\">\n     <!-- 1 -->\n     <g transform=\"translate(478.003125 38.476562)scale(0.1 -0.1)\">\n      <use xlink:href=\"#DejaVuSans-49\"/>\n     </g>\n    </g>\n    <g id=\"patch_64\">\n     <path d=\"M 450.003125 53.154688 \nL 470.003125 53.154688 \nL 470.003125 46.154688 \nL 450.003125 46.154688 \nz\n\" style=\"fill:#dc924e;\"/>\n    </g>\n    <g id=\"text_18\">\n     <!-- 2 -->\n     <g transform=\"translate(478.003125 53.154688)scale(0.1 -0.1)\">\n      <use xlink:href=\"#DejaVuSans-50\"/>\n     </g>\n    </g>\n    <g id=\"patch_65\">\n     <path d=\"M 450.003125 67.832813 \nL 470.003125 67.832813 \nL 470.003125 60.832813 \nL 450.003125 60.832813 \nz\n\" style=\"fill:#b39d48;\"/>\n    </g>\n    <g id=\"text_19\">\n     <!-- 3 -->\n     <defs>\n      <path d=\"M 40.578125 39.3125 \nQ 47.65625 37.796875 51.625 33 \nQ 55.609375 28.21875 55.609375 21.1875 \nQ 55.609375 10.40625 48.1875 4.484375 \nQ 40.765625 -1.421875 27.09375 -1.421875 \nQ 22.515625 -1.421875 17.65625 -0.515625 \nQ 12.796875 0.390625 7.625 2.203125 \nL 7.625 11.71875 \nQ 11.71875 9.328125 16.59375 8.109375 \nQ 21.484375 6.890625 26.8125 6.890625 \nQ 36.078125 6.890625 40.9375 10.546875 \nQ 45.796875 14.203125 45.796875 21.1875 \nQ 45.796875 27.640625 41.28125 31.265625 \nQ 36.765625 34.90625 28.71875 34.90625 \nL 20.21875 34.90625 \nL 20.21875 43.015625 \nL 29.109375 43.015625 \nQ 36.375 43.015625 40.234375 45.921875 \nQ 44.09375 48.828125 44.09375 54.296875 \nQ 44.09375 59.90625 40.109375 62.90625 \nQ 36.140625 65.921875 28.71875 65.921875 \nQ 24.65625 65.921875 20.015625 65.03125 \nQ 15.375 64.15625 9.8125 62.3125 \nL 9.8125 71.09375 \nQ 15.4375 72.65625 20.34375 73.4375 \nQ 25.25 74.21875 29.59375 74.21875 \nQ 40.828125 74.21875 47.359375 69.109375 \nQ 53.90625 64.015625 53.90625 55.328125 \nQ 53.90625 49.265625 50.4375 45.09375 \nQ 46.96875 40.921875 40.578125 39.3125 \nz\n\" id=\"DejaVuSans-51\"/>\n     </defs>\n     <g transform=\"translate(478.003125 67.832813)scale(0.1 -0.1)\">\n      <use xlink:href=\"#DejaVuSans-51\"/>\n     </g>\n    </g>\n    <g id=\"patch_66\">\n     <path d=\"M 450.003125 82.510938 \nL 470.003125 82.510938 \nL 470.003125 75.510938 \nL 450.003125 75.510938 \nz\n\" style=\"fill:#8ea546;\"/>\n    </g>\n    <g id=\"text_20\">\n     <!-- 4 -->\n     <defs>\n      <path d=\"M 37.796875 64.3125 \nL 12.890625 25.390625 \nL 37.796875 25.390625 \nz\nM 35.203125 72.90625 \nL 47.609375 72.90625 \nL 47.609375 25.390625 \nL 58.015625 25.390625 \nL 58.015625 17.1875 \nL 47.609375 17.1875 \nL 47.609375 0 \nL 37.796875 0 \nL 37.796875 17.1875 \nL 4.890625 17.1875 \nL 4.890625 26.703125 \nz\n\" id=\"DejaVuSans-52\"/>\n     </defs>\n     <g transform=\"translate(478.003125 82.510938)scale(0.1 -0.1)\">\n      <use xlink:href=\"#DejaVuSans-52\"/>\n     </g>\n    </g>\n    <g id=\"patch_67\">\n     <path d=\"M 450.003125 97.189063 \nL 470.003125 97.189063 \nL 470.003125 90.189063 \nL 450.003125 90.189063 \nz\n\" style=\"fill:#48b067;\"/>\n    </g>\n    <g id=\"text_21\">\n     <!-- 5 -->\n     <g transform=\"translate(478.003125 97.189063)scale(0.1 -0.1)\">\n      <use xlink:href=\"#DejaVuSans-53\"/>\n     </g>\n    </g>\n    <g id=\"patch_68\">\n     <path d=\"M 450.003125 111.867188 \nL 470.003125 111.867188 \nL 470.003125 104.867188 \nL 450.003125 104.867188 \nz\n\" style=\"fill:#4aac98;\"/>\n    </g>\n    <g id=\"text_22\">\n     <!-- 6 -->\n     <defs>\n      <path d=\"M 33.015625 40.375 \nQ 26.375 40.375 22.484375 35.828125 \nQ 18.609375 31.296875 18.609375 23.390625 \nQ 18.609375 15.53125 22.484375 10.953125 \nQ 26.375 6.390625 33.015625 6.390625 \nQ 39.65625 6.390625 43.53125 10.953125 \nQ 47.40625 15.53125 47.40625 23.390625 \nQ 47.40625 31.296875 43.53125 35.828125 \nQ 39.65625 40.375 33.015625 40.375 \nz\nM 52.59375 71.296875 \nL 52.59375 62.3125 \nQ 48.875 64.0625 45.09375 64.984375 \nQ 41.3125 65.921875 37.59375 65.921875 \nQ 27.828125 65.921875 22.671875 59.328125 \nQ 17.53125 52.734375 16.796875 39.40625 \nQ 19.671875 43.65625 24.015625 45.921875 \nQ 28.375 48.1875 33.59375 48.1875 \nQ 44.578125 48.1875 50.953125 41.515625 \nQ 57.328125 34.859375 57.328125 23.390625 \nQ 57.328125 12.15625 50.6875 5.359375 \nQ 44.046875 -1.421875 33.015625 -1.421875 \nQ 20.359375 -1.421875 13.671875 8.265625 \nQ 6.984375 17.96875 6.984375 36.375 \nQ 6.984375 53.65625 15.1875 63.9375 \nQ 23.390625 74.21875 37.203125 74.21875 \nQ 40.921875 74.21875 44.703125 73.484375 \nQ 48.484375 72.75 52.59375 71.296875 \nz\n\" id=\"DejaVuSans-54\"/>\n     </defs>\n     <g transform=\"translate(478.003125 111.867188)scale(0.1 -0.1)\">\n      <use xlink:href=\"#DejaVuSans-54\"/>\n     </g>\n    </g>\n    <g id=\"patch_69\">\n     <path d=\"M 450.003125 126.545313 \nL 470.003125 126.545313 \nL 470.003125 119.545313 \nL 450.003125 119.545313 \nz\n\" style=\"fill:#4dabb0;\"/>\n    </g>\n    <g id=\"text_23\">\n     <!-- 7 -->\n     <g transform=\"translate(478.003125 126.545313)scale(0.1 -0.1)\">\n      <use xlink:href=\"#DejaVuSans-55\"/>\n     </g>\n    </g>\n    <g id=\"patch_70\">\n     <path d=\"M 450.003125 141.223437 \nL 470.003125 141.223437 \nL 470.003125 134.223437 \nL 450.003125 134.223437 \nz\n\" style=\"fill:#54acd3;\"/>\n    </g>\n    <g id=\"text_24\">\n     <!-- 8 -->\n     <defs>\n      <path d=\"M 31.78125 34.625 \nQ 24.75 34.625 20.71875 30.859375 \nQ 16.703125 27.09375 16.703125 20.515625 \nQ 16.703125 13.921875 20.71875 10.15625 \nQ 24.75 6.390625 31.78125 6.390625 \nQ 38.8125 6.390625 42.859375 10.171875 \nQ 46.921875 13.96875 46.921875 20.515625 \nQ 46.921875 27.09375 42.890625 30.859375 \nQ 38.875 34.625 31.78125 34.625 \nz\nM 21.921875 38.8125 \nQ 15.578125 40.375 12.03125 44.71875 \nQ 8.5 49.078125 8.5 55.328125 \nQ 8.5 64.0625 14.71875 69.140625 \nQ 20.953125 74.21875 31.78125 74.21875 \nQ 42.671875 74.21875 48.875 69.140625 \nQ 55.078125 64.0625 55.078125 55.328125 \nQ 55.078125 49.078125 51.53125 44.71875 \nQ 48 40.375 41.703125 38.8125 \nQ 48.828125 37.15625 52.796875 32.3125 \nQ 56.78125 27.484375 56.78125 20.515625 \nQ 56.78125 9.90625 50.3125 4.234375 \nQ 43.84375 -1.421875 31.78125 -1.421875 \nQ 19.734375 -1.421875 13.25 4.234375 \nQ 6.78125 9.90625 6.78125 20.515625 \nQ 6.78125 27.484375 10.78125 32.3125 \nQ 14.796875 37.15625 21.921875 38.8125 \nz\nM 18.3125 54.390625 \nQ 18.3125 48.734375 21.84375 45.5625 \nQ 25.390625 42.390625 31.78125 42.390625 \nQ 38.140625 42.390625 41.71875 45.5625 \nQ 45.3125 48.734375 45.3125 54.390625 \nQ 45.3125 60.0625 41.71875 63.234375 \nQ 38.140625 66.40625 31.78125 66.40625 \nQ 25.390625 66.40625 21.84375 63.234375 \nQ 18.3125 60.0625 18.3125 54.390625 \nz\n\" id=\"DejaVuSans-56\"/>\n     </defs>\n     <g transform=\"translate(478.003125 141.223437)scale(0.1 -0.1)\">\n      <use xlink:href=\"#DejaVuSans-56\"/>\n     </g>\n    </g>\n    <g id=\"patch_71\">\n     <path d=\"M 450.003125 155.901563 \nL 470.003125 155.901563 \nL 470.003125 148.901563 \nL 450.003125 148.901563 \nz\n\" style=\"fill:#a9aceb;\"/>\n    </g>\n    <g id=\"text_25\">\n     <!-- 9 -->\n     <defs>\n      <path d=\"M 10.984375 1.515625 \nL 10.984375 10.5 \nQ 14.703125 8.734375 18.5 7.8125 \nQ 22.3125 6.890625 25.984375 6.890625 \nQ 35.75 6.890625 40.890625 13.453125 \nQ 46.046875 20.015625 46.78125 33.40625 \nQ 43.953125 29.203125 39.59375 26.953125 \nQ 35.25 24.703125 29.984375 24.703125 \nQ 19.046875 24.703125 12.671875 31.3125 \nQ 6.296875 37.9375 6.296875 49.421875 \nQ 6.296875 60.640625 12.9375 67.421875 \nQ 19.578125 74.21875 30.609375 74.21875 \nQ 43.265625 74.21875 49.921875 64.515625 \nQ 56.59375 54.828125 56.59375 36.375 \nQ 56.59375 19.140625 48.40625 8.859375 \nQ 40.234375 -1.421875 26.421875 -1.421875 \nQ 22.703125 -1.421875 18.890625 -0.6875 \nQ 15.09375 0.046875 10.984375 1.515625 \nz\nM 30.609375 32.421875 \nQ 37.25 32.421875 41.125 36.953125 \nQ 45.015625 41.5 45.015625 49.421875 \nQ 45.015625 57.28125 41.125 61.84375 \nQ 37.25 66.40625 30.609375 66.40625 \nQ 23.96875 66.40625 20.09375 61.84375 \nQ 16.21875 57.28125 16.21875 49.421875 \nQ 16.21875 41.5 20.09375 36.953125 \nQ 23.96875 32.421875 30.609375 32.421875 \nz\n\" id=\"DejaVuSans-57\"/>\n     </defs>\n     <g transform=\"translate(478.003125 155.901563)scale(0.1 -0.1)\">\n      <use xlink:href=\"#DejaVuSans-57\"/>\n     </g>\n    </g>\n    <g id=\"patch_72\">\n     <path d=\"M 450.003125 170.579687 \nL 470.003125 170.579687 \nL 470.003125 163.579687 \nL 450.003125 163.579687 \nz\n\" style=\"fill:#d795e8;\"/>\n    </g>\n    <g id=\"text_26\">\n     <!-- 10 -->\n     <g transform=\"translate(478.003125 170.579687)scale(0.1 -0.1)\">\n      <use xlink:href=\"#DejaVuSans-49\"/>\n      <use x=\"63.623047\" xlink:href=\"#DejaVuSans-48\"/>\n     </g>\n    </g>\n    <g id=\"patch_73\">\n     <path d=\"M 450.003125 185.257812 \nL 470.003125 185.257812 \nL 470.003125 178.257812 \nL 450.003125 178.257812 \nz\n\" style=\"fill:#e88fc9;\"/>\n    </g>\n    <g id=\"text_27\">\n     <!-- 13 -->\n     <g transform=\"translate(478.003125 185.257812)scale(0.1 -0.1)\">\n      <use xlink:href=\"#DejaVuSans-49\"/>\n      <use x=\"63.623047\" xlink:href=\"#DejaVuSans-51\"/>\n     </g>\n    </g>\n   </g>\n  </g>\n </g>\n <defs>\n  <clipPath id=\"pbe4b847754\">\n   <rect height=\"271.8\" width=\"446.4\" x=\"53.328125\" y=\"7.2\"/>\n  </clipPath>\n </defs>\n</svg>\n"
          },
          "metadata": {
            "tags": [],
            "needs_background": "light"
          }
        }
      ]
    },
    {
      "cell_type": "code",
      "metadata": {
        "id": "PwW3L_2ablYF",
        "colab_type": "code",
        "colab": {}
      },
      "source": [
        "# The vizualization showed the largest amount of rooms in houses to rent is in São Paulo.\n",
        "# The fewest is in Campinas.\n",
        "# Average amount of rooms is most frequenly demanded reaches three in São Paulo, Belo Horizonte and Campinas.\n",
        "# In other cities there are two-roomed houses are frequently rented."
      ],
      "execution_count": 0,
      "outputs": []
    },
    {
      "cell_type": "code",
      "metadata": {
        "id": "MuNFb60vf9iN",
        "colab_type": "code",
        "colab": {
          "base_uri": "https://localhost:8080/",
          "height": 173
        },
        "outputId": "5a845186-c05f-4b30-bb40-ea594f4c99c1"
      },
      "source": [
        "df['best_demand'] = (df['total (R$)'] <= 5490.49)\n",
        "\n",
        "pd.crosstab(df['best_demand'], df['city'], margins=True)"
      ],
      "execution_count": 152,
      "outputs": [
        {
          "output_type": "execute_result",
          "data": {
            "text/html": [
              "<div>\n",
              "<style scoped>\n",
              "    .dataframe tbody tr th:only-of-type {\n",
              "        vertical-align: middle;\n",
              "    }\n",
              "\n",
              "    .dataframe tbody tr th {\n",
              "        vertical-align: top;\n",
              "    }\n",
              "\n",
              "    .dataframe thead th {\n",
              "        text-align: right;\n",
              "    }\n",
              "</style>\n",
              "<table border=\"1\" class=\"dataframe\">\n",
              "  <thead>\n",
              "    <tr style=\"text-align: right;\">\n",
              "      <th>city</th>\n",
              "      <th>Belo Horizonte</th>\n",
              "      <th>Campinas</th>\n",
              "      <th>Porto Alegre</th>\n",
              "      <th>Rio de Janeiro</th>\n",
              "      <th>São Paulo</th>\n",
              "      <th>All</th>\n",
              "    </tr>\n",
              "    <tr>\n",
              "      <th>best_demand</th>\n",
              "      <th></th>\n",
              "      <th></th>\n",
              "      <th></th>\n",
              "      <th></th>\n",
              "      <th></th>\n",
              "      <th></th>\n",
              "    </tr>\n",
              "  </thead>\n",
              "  <tbody>\n",
              "    <tr>\n",
              "      <th>False</th>\n",
              "      <td>341</td>\n",
              "      <td>110</td>\n",
              "      <td>117</td>\n",
              "      <td>380</td>\n",
              "      <td>2455</td>\n",
              "      <td>3403</td>\n",
              "    </tr>\n",
              "    <tr>\n",
              "      <th>True</th>\n",
              "      <td>917</td>\n",
              "      <td>743</td>\n",
              "      <td>1076</td>\n",
              "      <td>1121</td>\n",
              "      <td>3432</td>\n",
              "      <td>7289</td>\n",
              "    </tr>\n",
              "    <tr>\n",
              "      <th>All</th>\n",
              "      <td>1258</td>\n",
              "      <td>853</td>\n",
              "      <td>1193</td>\n",
              "      <td>1501</td>\n",
              "      <td>5887</td>\n",
              "      <td>10692</td>\n",
              "    </tr>\n",
              "  </tbody>\n",
              "</table>\n",
              "</div>"
            ],
            "text/plain": [
              "city         Belo Horizonte  Campinas  ...  São Paulo    All\n",
              "best_demand                            ...                  \n",
              "False                   341       110  ...       2455   3403\n",
              "True                    917       743  ...       3432   7289\n",
              "All                    1258       853  ...       5887  10692\n",
              "\n",
              "[3 rows x 6 columns]"
            ]
          },
          "metadata": {
            "tags": []
          },
          "execution_count": 152
        }
      ]
    },
    {
      "cell_type": "code",
      "metadata": {
        "id": "93lBmEv4ifaI",
        "colab_type": "code",
        "colab": {}
      },
      "source": [
        "# We define the best demand for average renter in Brazil.\n",
        "# By forming this cross table we can see the highest amount of houses provided best demand\n",
        "# is located in São Paulo."
      ],
      "execution_count": 0,
      "outputs": []
    },
    {
      "cell_type": "code",
      "metadata": {
        "id": "Xg-0RmeVpbbC",
        "colab_type": "code",
        "colab": {
          "base_uri": "https://localhost:8080/",
          "height": 460
        },
        "outputId": "b8536dd9-c51d-4da3-d6ed-16b334c43659"
      },
      "source": [
        "sns.distplot(df.rooms)"
      ],
      "execution_count": 165,
      "outputs": [
        {
          "output_type": "execute_result",
          "data": {
            "text/plain": [
              "<matplotlib.axes._subplots.AxesSubplot at 0x7f9ec6b39a20>"
            ]
          },
          "metadata": {
            "tags": []
          },
          "execution_count": 165
        },
        {
          "output_type": "display_data",
          "data": {
            "text/plain": [
              "<Figure size 576x360 with 1 Axes>"
            ],
            "image/svg+xml": "<?xml version=\"1.0\" encoding=\"utf-8\" standalone=\"no\"?>\n<!DOCTYPE svg PUBLIC \"-//W3C//DTD SVG 1.1//EN\"\n  \"http://www.w3.org/Graphics/SVG/1.1/DTD/svg11.dtd\">\n<!-- Created with matplotlib (https://matplotlib.org/) -->\n<svg height=\"316.55625pt\" version=\"1.1\" viewBox=\"0 0 489.902416 316.55625\" width=\"489.902416pt\" xmlns=\"http://www.w3.org/2000/svg\" xmlns:xlink=\"http://www.w3.org/1999/xlink\">\n <defs>\n  <style type=\"text/css\">\n*{stroke-linecap:butt;stroke-linejoin:round;}\n  </style>\n </defs>\n <g id=\"figure_1\">\n  <g id=\"patch_1\">\n   <path d=\"M 0 316.55625 \nL 489.902416 316.55625 \nL 489.902416 0 \nL 0 0 \nz\n\" style=\"fill:none;\"/>\n  </g>\n  <g id=\"axes_1\">\n   <g id=\"patch_2\">\n    <path d=\"M 30.103125 279 \nL 476.503125 279 \nL 476.503125 7.2 \nL 30.103125 7.2 \nz\n\" style=\"fill:#ffffff;\"/>\n   </g>\n   <g id=\"patch_3\">\n    <path clip-path=\"url(#p1c17b2de60)\" d=\"M 62.128733 279 \nL 69.775708 279 \nL 69.775708 84.678976 \nL 62.128733 84.678976 \nz\n\" style=\"fill:#1f77b4;opacity:0.4;\"/>\n   </g>\n   <g id=\"patch_4\">\n    <path clip-path=\"url(#p1c17b2de60)\" d=\"M 69.775708 279 \nL 77.422684 279 \nL 77.422684 279 \nL 69.775708 279 \nz\n\" style=\"fill:#1f77b4;opacity:0.4;\"/>\n   </g>\n   <g id=\"patch_5\">\n    <path clip-path=\"url(#p1c17b2de60)\" d=\"M 77.422684 279 \nL 85.06966 279 \nL 85.06966 279 \nL 77.422684 279 \nz\n\" style=\"fill:#1f77b4;opacity:0.4;\"/>\n   </g>\n   <g id=\"patch_6\">\n    <path clip-path=\"url(#p1c17b2de60)\" d=\"M 85.06966 279 \nL 92.716636 279 \nL 92.716636 279 \nL 85.06966 279 \nz\n\" style=\"fill:#1f77b4;opacity:0.4;\"/>\n   </g>\n   <g id=\"patch_7\">\n    <path clip-path=\"url(#p1c17b2de60)\" d=\"M 92.716636 279 \nL 100.363611 279 \nL 100.363611 43.423371 \nL 92.716636 43.423371 \nz\n\" style=\"fill:#1f77b4;opacity:0.4;\"/>\n   </g>\n   <g id=\"patch_8\">\n    <path clip-path=\"url(#p1c17b2de60)\" d=\"M 100.363611 279 \nL 108.010587 279 \nL 108.010587 279 \nL 100.363611 279 \nz\n\" style=\"fill:#1f77b4;opacity:0.4;\"/>\n   </g>\n   <g id=\"patch_9\">\n    <path clip-path=\"url(#p1c17b2de60)\" d=\"M 108.010587 279 \nL 115.657563 279 \nL 115.657563 279 \nL 108.010587 279 \nz\n\" style=\"fill:#1f77b4;opacity:0.4;\"/>\n   </g>\n   <g id=\"patch_10\">\n    <path clip-path=\"url(#p1c17b2de60)\" d=\"M 115.657563 279 \nL 123.304538 279 \nL 123.304538 279 \nL 115.657563 279 \nz\n\" style=\"fill:#1f77b4;opacity:0.4;\"/>\n   </g>\n   <g id=\"patch_11\">\n    <path clip-path=\"url(#p1c17b2de60)\" d=\"M 123.304538 279 \nL 130.951514 279 \nL 130.951514 20.142857 \nL 123.304538 20.142857 \nz\n\" style=\"fill:#1f77b4;opacity:0.4;\"/>\n   </g>\n   <g id=\"patch_12\">\n    <path clip-path=\"url(#p1c17b2de60)\" d=\"M 130.951514 279 \nL 138.59849 279 \nL 138.59849 279 \nL 130.951514 279 \nz\n\" style=\"fill:#1f77b4;opacity:0.4;\"/>\n   </g>\n   <g id=\"patch_13\">\n    <path clip-path=\"url(#p1c17b2de60)\" d=\"M 138.59849 279 \nL 146.245465 279 \nL 146.245465 279 \nL 138.59849 279 \nz\n\" style=\"fill:#1f77b4;opacity:0.4;\"/>\n   </g>\n   <g id=\"patch_14\">\n    <path clip-path=\"url(#p1c17b2de60)\" d=\"M 146.245465 279 \nL 153.892441 279 \nL 153.892441 279 \nL 146.245465 279 \nz\n\" style=\"fill:#1f77b4;opacity:0.4;\"/>\n   </g>\n   <g id=\"patch_15\">\n    <path clip-path=\"url(#p1c17b2de60)\" d=\"M 153.892441 279 \nL 161.539417 279 \nL 161.539417 153.411922 \nL 153.892441 153.411922 \nz\n\" style=\"fill:#1f77b4;opacity:0.4;\"/>\n   </g>\n   <g id=\"patch_16\">\n    <path clip-path=\"url(#p1c17b2de60)\" d=\"M 161.539417 279 \nL 169.186392 279 \nL 169.186392 279 \nL 161.539417 279 \nz\n\" style=\"fill:#1f77b4;opacity:0.4;\"/>\n   </g>\n   <g id=\"patch_17\">\n    <path clip-path=\"url(#p1c17b2de60)\" d=\"M 169.186392 279 \nL 176.833368 279 \nL 176.833368 279 \nL 169.186392 279 \nz\n\" style=\"fill:#1f77b4;opacity:0.4;\"/>\n   </g>\n   <g id=\"patch_18\">\n    <path clip-path=\"url(#p1c17b2de60)\" d=\"M 176.833368 279 \nL 184.480344 279 \nL 184.480344 279 \nL 176.833368 279 \nz\n\" style=\"fill:#1f77b4;opacity:0.4;\"/>\n   </g>\n   <g id=\"patch_19\">\n    <path clip-path=\"url(#p1c17b2de60)\" d=\"M 184.480344 279 \nL 192.127319 279 \nL 192.127319 256.194599 \nL 184.480344 256.194599 \nz\n\" style=\"fill:#1f77b4;opacity:0.4;\"/>\n   </g>\n   <g id=\"patch_20\">\n    <path clip-path=\"url(#p1c17b2de60)\" d=\"M 192.127319 279 \nL 199.774295 279 \nL 199.774295 279 \nL 192.127319 279 \nz\n\" style=\"fill:#1f77b4;opacity:0.4;\"/>\n   </g>\n   <g id=\"patch_21\">\n    <path clip-path=\"url(#p1c17b2de60)\" d=\"M 199.774295 279 \nL 207.421271 279 \nL 207.421271 279 \nL 199.774295 279 \nz\n\" style=\"fill:#1f77b4;opacity:0.4;\"/>\n   </g>\n   <g id=\"patch_22\">\n    <path clip-path=\"url(#p1c17b2de60)\" d=\"M 207.421271 279 \nL 215.068247 279 \nL 215.068247 279 \nL 207.421271 279 \nz\n\" style=\"fill:#1f77b4;opacity:0.4;\"/>\n   </g>\n   <g id=\"patch_23\">\n    <path clip-path=\"url(#p1c17b2de60)\" d=\"M 215.068247 279 \nL 222.715222 279 \nL 222.715222 273.615391 \nL 215.068247 273.615391 \nz\n\" style=\"fill:#1f77b4;opacity:0.4;\"/>\n   </g>\n   <g id=\"patch_24\">\n    <path clip-path=\"url(#p1c17b2de60)\" d=\"M 222.715222 279 \nL 230.362198 279 \nL 230.362198 279 \nL 222.715222 279 \nz\n\" style=\"fill:#1f77b4;opacity:0.4;\"/>\n   </g>\n   <g id=\"patch_25\">\n    <path clip-path=\"url(#p1c17b2de60)\" d=\"M 230.362198 279 \nL 238.009174 279 \nL 238.009174 279 \nL 230.362198 279 \nz\n\" style=\"fill:#1f77b4;opacity:0.4;\"/>\n   </g>\n   <g id=\"patch_26\">\n    <path clip-path=\"url(#p1c17b2de60)\" d=\"M 238.009174 279 \nL 245.656149 279 \nL 245.656149 279 \nL 238.009174 279 \nz\n\" style=\"fill:#1f77b4;opacity:0.4;\"/>\n   </g>\n   <g id=\"patch_27\">\n    <path clip-path=\"url(#p1c17b2de60)\" d=\"M 245.656149 279 \nL 253.303125 279 \nL 253.303125 279 \nL 245.656149 279 \nz\n\" style=\"fill:#1f77b4;opacity:0.4;\"/>\n   </g>\n   <g id=\"patch_28\">\n    <path clip-path=\"url(#p1c17b2de60)\" d=\"M 253.303125 279 \nL 260.950101 279 \nL 260.950101 276.149325 \nL 253.303125 276.149325 \nz\n\" style=\"fill:#1f77b4;opacity:0.4;\"/>\n   </g>\n   <g id=\"patch_29\">\n    <path clip-path=\"url(#p1c17b2de60)\" d=\"M 260.950101 279 \nL 268.597076 279 \nL 268.597076 279 \nL 260.950101 279 \nz\n\" style=\"fill:#1f77b4;opacity:0.4;\"/>\n   </g>\n   <g id=\"patch_30\">\n    <path clip-path=\"url(#p1c17b2de60)\" d=\"M 268.597076 279 \nL 276.244052 279 \nL 276.244052 279 \nL 268.597076 279 \nz\n\" style=\"fill:#1f77b4;opacity:0.4;\"/>\n   </g>\n   <g id=\"patch_31\">\n    <path clip-path=\"url(#p1c17b2de60)\" d=\"M 276.244052 279 \nL 283.891028 279 \nL 283.891028 279 \nL 276.244052 279 \nz\n\" style=\"fill:#1f77b4;opacity:0.4;\"/>\n   </g>\n   <g id=\"patch_32\">\n    <path clip-path=\"url(#p1c17b2de60)\" d=\"M 283.891028 279 \nL 291.538003 279 \nL 291.538003 278.12896 \nL 283.891028 278.12896 \nz\n\" style=\"fill:#1f77b4;opacity:0.4;\"/>\n   </g>\n   <g id=\"patch_33\">\n    <path clip-path=\"url(#p1c17b2de60)\" d=\"M 291.538003 279 \nL 299.184979 279 \nL 299.184979 279 \nL 291.538003 279 \nz\n\" style=\"fill:#1f77b4;opacity:0.4;\"/>\n   </g>\n   <g id=\"patch_34\">\n    <path clip-path=\"url(#p1c17b2de60)\" d=\"M 299.184979 279 \nL 306.831955 279 \nL 306.831955 279 \nL 299.184979 279 \nz\n\" style=\"fill:#1f77b4;opacity:0.4;\"/>\n   </g>\n   <g id=\"patch_35\">\n    <path clip-path=\"url(#p1c17b2de60)\" d=\"M 306.831955 279 \nL 314.478931 279 \nL 314.478931 279 \nL 306.831955 279 \nz\n\" style=\"fill:#1f77b4;opacity:0.4;\"/>\n   </g>\n   <g id=\"patch_36\">\n    <path clip-path=\"url(#p1c17b2de60)\" d=\"M 314.478931 279 \nL 322.125906 279 \nL 322.125906 278.920815 \nL 314.478931 278.920815 \nz\n\" style=\"fill:#1f77b4;opacity:0.4;\"/>\n   </g>\n   <g id=\"patch_37\">\n    <path clip-path=\"url(#p1c17b2de60)\" d=\"M 322.125906 279 \nL 329.772882 279 \nL 329.772882 279 \nL 322.125906 279 \nz\n\" style=\"fill:#1f77b4;opacity:0.4;\"/>\n   </g>\n   <g id=\"patch_38\">\n    <path clip-path=\"url(#p1c17b2de60)\" d=\"M 329.772882 279 \nL 337.419858 279 \nL 337.419858 279 \nL 329.772882 279 \nz\n\" style=\"fill:#1f77b4;opacity:0.4;\"/>\n   </g>\n   <g id=\"patch_39\">\n    <path clip-path=\"url(#p1c17b2de60)\" d=\"M 337.419858 279 \nL 345.066833 279 \nL 345.066833 279 \nL 337.419858 279 \nz\n\" style=\"fill:#1f77b4;opacity:0.4;\"/>\n   </g>\n   <g id=\"patch_40\">\n    <path clip-path=\"url(#p1c17b2de60)\" d=\"M 345.066833 279 \nL 352.713809 279 \nL 352.713809 278.762444 \nL 345.066833 278.762444 \nz\n\" style=\"fill:#1f77b4;opacity:0.4;\"/>\n   </g>\n   <g id=\"patch_41\">\n    <path clip-path=\"url(#p1c17b2de60)\" d=\"M 352.713809 279 \nL 360.360785 279 \nL 360.360785 279 \nL 352.713809 279 \nz\n\" style=\"fill:#1f77b4;opacity:0.4;\"/>\n   </g>\n   <g id=\"patch_42\">\n    <path clip-path=\"url(#p1c17b2de60)\" d=\"M 360.360785 279 \nL 368.00776 279 \nL 368.00776 279 \nL 360.360785 279 \nz\n\" style=\"fill:#1f77b4;opacity:0.4;\"/>\n   </g>\n   <g id=\"patch_43\">\n    <path clip-path=\"url(#p1c17b2de60)\" d=\"M 368.00776 279 \nL 375.654736 279 \nL 375.654736 279 \nL 368.00776 279 \nz\n\" style=\"fill:#1f77b4;opacity:0.4;\"/>\n   </g>\n   <g id=\"patch_44\">\n    <path clip-path=\"url(#p1c17b2de60)\" d=\"M 375.654736 279 \nL 383.301712 279 \nL 383.301712 279 \nL 375.654736 279 \nz\n\" style=\"fill:#1f77b4;opacity:0.4;\"/>\n   </g>\n   <g id=\"patch_45\">\n    <path clip-path=\"url(#p1c17b2de60)\" d=\"M 383.301712 279 \nL 390.948687 279 \nL 390.948687 279 \nL 383.301712 279 \nz\n\" style=\"fill:#1f77b4;opacity:0.4;\"/>\n   </g>\n   <g id=\"patch_46\">\n    <path clip-path=\"url(#p1c17b2de60)\" d=\"M 390.948687 279 \nL 398.595663 279 \nL 398.595663 279 \nL 390.948687 279 \nz\n\" style=\"fill:#1f77b4;opacity:0.4;\"/>\n   </g>\n   <g id=\"patch_47\">\n    <path clip-path=\"url(#p1c17b2de60)\" d=\"M 398.595663 279 \nL 406.242639 279 \nL 406.242639 279 \nL 398.595663 279 \nz\n\" style=\"fill:#1f77b4;opacity:0.4;\"/>\n   </g>\n   <g id=\"patch_48\">\n    <path clip-path=\"url(#p1c17b2de60)\" d=\"M 406.242639 279 \nL 413.889614 279 \nL 413.889614 279 \nL 406.242639 279 \nz\n\" style=\"fill:#1f77b4;opacity:0.4;\"/>\n   </g>\n   <g id=\"patch_49\">\n    <path clip-path=\"url(#p1c17b2de60)\" d=\"M 413.889614 279 \nL 421.53659 279 \nL 421.53659 279 \nL 413.889614 279 \nz\n\" style=\"fill:#1f77b4;opacity:0.4;\"/>\n   </g>\n   <g id=\"patch_50\">\n    <path clip-path=\"url(#p1c17b2de60)\" d=\"M 421.53659 279 \nL 429.183566 279 \nL 429.183566 279 \nL 421.53659 279 \nz\n\" style=\"fill:#1f77b4;opacity:0.4;\"/>\n   </g>\n   <g id=\"patch_51\">\n    <path clip-path=\"url(#p1c17b2de60)\" d=\"M 429.183566 279 \nL 436.830542 279 \nL 436.830542 279 \nL 429.183566 279 \nz\n\" style=\"fill:#1f77b4;opacity:0.4;\"/>\n   </g>\n   <g id=\"patch_52\">\n    <path clip-path=\"url(#p1c17b2de60)\" d=\"M 436.830542 279 \nL 444.477517 279 \nL 444.477517 278.920815 \nL 436.830542 278.920815 \nz\n\" style=\"fill:#1f77b4;opacity:0.4;\"/>\n   </g>\n   <g id=\"matplotlib.axis_1\">\n    <g id=\"xtick_1\">\n     <g id=\"line2d_1\">\n      <defs>\n       <path d=\"M 0 0 \nL 0 3.5 \n\" id=\"m773a43e855\" style=\"stroke:#000000;stroke-width:0.8;\"/>\n      </defs>\n      <g>\n       <use style=\"stroke:#000000;stroke-width:0.8;\" x=\"30.266334\" xlink:href=\"#m773a43e855\" y=\"279\"/>\n      </g>\n     </g>\n     <g id=\"text_1\">\n      <!-- 0 -->\n      <defs>\n       <path d=\"M 31.78125 66.40625 \nQ 24.171875 66.40625 20.328125 58.90625 \nQ 16.5 51.421875 16.5 36.375 \nQ 16.5 21.390625 20.328125 13.890625 \nQ 24.171875 6.390625 31.78125 6.390625 \nQ 39.453125 6.390625 43.28125 13.890625 \nQ 47.125 21.390625 47.125 36.375 \nQ 47.125 51.421875 43.28125 58.90625 \nQ 39.453125 66.40625 31.78125 66.40625 \nz\nM 31.78125 74.21875 \nQ 44.046875 74.21875 50.515625 64.515625 \nQ 56.984375 54.828125 56.984375 36.375 \nQ 56.984375 17.96875 50.515625 8.265625 \nQ 44.046875 -1.421875 31.78125 -1.421875 \nQ 19.53125 -1.421875 13.0625 8.265625 \nQ 6.59375 17.96875 6.59375 36.375 \nQ 6.59375 54.828125 13.0625 64.515625 \nQ 19.53125 74.21875 31.78125 74.21875 \nz\n\" id=\"DejaVuSans-48\"/>\n      </defs>\n      <g transform=\"translate(27.085084 293.598437)scale(0.1 -0.1)\">\n       <use xlink:href=\"#DejaVuSans-48\"/>\n      </g>\n     </g>\n    </g>\n    <g id=\"xtick_2\">\n     <g id=\"line2d_2\">\n      <g>\n       <use style=\"stroke:#000000;stroke-width:0.8;\" x=\"93.991131\" xlink:href=\"#m773a43e855\" y=\"279\"/>\n      </g>\n     </g>\n     <g id=\"text_2\">\n      <!-- 2 -->\n      <defs>\n       <path d=\"M 19.1875 8.296875 \nL 53.609375 8.296875 \nL 53.609375 0 \nL 7.328125 0 \nL 7.328125 8.296875 \nQ 12.9375 14.109375 22.625 23.890625 \nQ 32.328125 33.6875 34.8125 36.53125 \nQ 39.546875 41.84375 41.421875 45.53125 \nQ 43.3125 49.21875 43.3125 52.78125 \nQ 43.3125 58.59375 39.234375 62.25 \nQ 35.15625 65.921875 28.609375 65.921875 \nQ 23.96875 65.921875 18.8125 64.3125 \nQ 13.671875 62.703125 7.8125 59.421875 \nL 7.8125 69.390625 \nQ 13.765625 71.78125 18.9375 73 \nQ 24.125 74.21875 28.421875 74.21875 \nQ 39.75 74.21875 46.484375 68.546875 \nQ 53.21875 62.890625 53.21875 53.421875 \nQ 53.21875 48.921875 51.53125 44.890625 \nQ 49.859375 40.875 45.40625 35.40625 \nQ 44.1875 33.984375 37.640625 27.21875 \nQ 31.109375 20.453125 19.1875 8.296875 \nz\n\" id=\"DejaVuSans-50\"/>\n      </defs>\n      <g transform=\"translate(90.809881 293.598437)scale(0.1 -0.1)\">\n       <use xlink:href=\"#DejaVuSans-50\"/>\n      </g>\n     </g>\n    </g>\n    <g id=\"xtick_3\">\n     <g id=\"line2d_3\">\n      <g>\n       <use style=\"stroke:#000000;stroke-width:0.8;\" x=\"157.715929\" xlink:href=\"#m773a43e855\" y=\"279\"/>\n      </g>\n     </g>\n     <g id=\"text_3\">\n      <!-- 4 -->\n      <defs>\n       <path d=\"M 37.796875 64.3125 \nL 12.890625 25.390625 \nL 37.796875 25.390625 \nz\nM 35.203125 72.90625 \nL 47.609375 72.90625 \nL 47.609375 25.390625 \nL 58.015625 25.390625 \nL 58.015625 17.1875 \nL 47.609375 17.1875 \nL 47.609375 0 \nL 37.796875 0 \nL 37.796875 17.1875 \nL 4.890625 17.1875 \nL 4.890625 26.703125 \nz\n\" id=\"DejaVuSans-52\"/>\n      </defs>\n      <g transform=\"translate(154.534679 293.598437)scale(0.1 -0.1)\">\n       <use xlink:href=\"#DejaVuSans-52\"/>\n      </g>\n     </g>\n    </g>\n    <g id=\"xtick_4\">\n     <g id=\"line2d_4\">\n      <g>\n       <use style=\"stroke:#000000;stroke-width:0.8;\" x=\"221.440726\" xlink:href=\"#m773a43e855\" y=\"279\"/>\n      </g>\n     </g>\n     <g id=\"text_4\">\n      <!-- 6 -->\n      <defs>\n       <path d=\"M 33.015625 40.375 \nQ 26.375 40.375 22.484375 35.828125 \nQ 18.609375 31.296875 18.609375 23.390625 \nQ 18.609375 15.53125 22.484375 10.953125 \nQ 26.375 6.390625 33.015625 6.390625 \nQ 39.65625 6.390625 43.53125 10.953125 \nQ 47.40625 15.53125 47.40625 23.390625 \nQ 47.40625 31.296875 43.53125 35.828125 \nQ 39.65625 40.375 33.015625 40.375 \nz\nM 52.59375 71.296875 \nL 52.59375 62.3125 \nQ 48.875 64.0625 45.09375 64.984375 \nQ 41.3125 65.921875 37.59375 65.921875 \nQ 27.828125 65.921875 22.671875 59.328125 \nQ 17.53125 52.734375 16.796875 39.40625 \nQ 19.671875 43.65625 24.015625 45.921875 \nQ 28.375 48.1875 33.59375 48.1875 \nQ 44.578125 48.1875 50.953125 41.515625 \nQ 57.328125 34.859375 57.328125 23.390625 \nQ 57.328125 12.15625 50.6875 5.359375 \nQ 44.046875 -1.421875 33.015625 -1.421875 \nQ 20.359375 -1.421875 13.671875 8.265625 \nQ 6.984375 17.96875 6.984375 36.375 \nQ 6.984375 53.65625 15.1875 63.9375 \nQ 23.390625 74.21875 37.203125 74.21875 \nQ 40.921875 74.21875 44.703125 73.484375 \nQ 48.484375 72.75 52.59375 71.296875 \nz\n\" id=\"DejaVuSans-54\"/>\n      </defs>\n      <g transform=\"translate(218.259476 293.598437)scale(0.1 -0.1)\">\n       <use xlink:href=\"#DejaVuSans-54\"/>\n      </g>\n     </g>\n    </g>\n    <g id=\"xtick_5\">\n     <g id=\"line2d_5\">\n      <g>\n       <use style=\"stroke:#000000;stroke-width:0.8;\" x=\"285.165524\" xlink:href=\"#m773a43e855\" y=\"279\"/>\n      </g>\n     </g>\n     <g id=\"text_5\">\n      <!-- 8 -->\n      <defs>\n       <path d=\"M 31.78125 34.625 \nQ 24.75 34.625 20.71875 30.859375 \nQ 16.703125 27.09375 16.703125 20.515625 \nQ 16.703125 13.921875 20.71875 10.15625 \nQ 24.75 6.390625 31.78125 6.390625 \nQ 38.8125 6.390625 42.859375 10.171875 \nQ 46.921875 13.96875 46.921875 20.515625 \nQ 46.921875 27.09375 42.890625 30.859375 \nQ 38.875 34.625 31.78125 34.625 \nz\nM 21.921875 38.8125 \nQ 15.578125 40.375 12.03125 44.71875 \nQ 8.5 49.078125 8.5 55.328125 \nQ 8.5 64.0625 14.71875 69.140625 \nQ 20.953125 74.21875 31.78125 74.21875 \nQ 42.671875 74.21875 48.875 69.140625 \nQ 55.078125 64.0625 55.078125 55.328125 \nQ 55.078125 49.078125 51.53125 44.71875 \nQ 48 40.375 41.703125 38.8125 \nQ 48.828125 37.15625 52.796875 32.3125 \nQ 56.78125 27.484375 56.78125 20.515625 \nQ 56.78125 9.90625 50.3125 4.234375 \nQ 43.84375 -1.421875 31.78125 -1.421875 \nQ 19.734375 -1.421875 13.25 4.234375 \nQ 6.78125 9.90625 6.78125 20.515625 \nQ 6.78125 27.484375 10.78125 32.3125 \nQ 14.796875 37.15625 21.921875 38.8125 \nz\nM 18.3125 54.390625 \nQ 18.3125 48.734375 21.84375 45.5625 \nQ 25.390625 42.390625 31.78125 42.390625 \nQ 38.140625 42.390625 41.71875 45.5625 \nQ 45.3125 48.734375 45.3125 54.390625 \nQ 45.3125 60.0625 41.71875 63.234375 \nQ 38.140625 66.40625 31.78125 66.40625 \nQ 25.390625 66.40625 21.84375 63.234375 \nQ 18.3125 60.0625 18.3125 54.390625 \nz\n\" id=\"DejaVuSans-56\"/>\n      </defs>\n      <g transform=\"translate(281.984274 293.598437)scale(0.1 -0.1)\">\n       <use xlink:href=\"#DejaVuSans-56\"/>\n      </g>\n     </g>\n    </g>\n    <g id=\"xtick_6\">\n     <g id=\"line2d_6\">\n      <g>\n       <use style=\"stroke:#000000;stroke-width:0.8;\" x=\"348.890321\" xlink:href=\"#m773a43e855\" y=\"279\"/>\n      </g>\n     </g>\n     <g id=\"text_6\">\n      <!-- 10 -->\n      <defs>\n       <path d=\"M 12.40625 8.296875 \nL 28.515625 8.296875 \nL 28.515625 63.921875 \nL 10.984375 60.40625 \nL 10.984375 69.390625 \nL 28.421875 72.90625 \nL 38.28125 72.90625 \nL 38.28125 8.296875 \nL 54.390625 8.296875 \nL 54.390625 0 \nL 12.40625 0 \nz\n\" id=\"DejaVuSans-49\"/>\n      </defs>\n      <g transform=\"translate(342.527821 293.598437)scale(0.1 -0.1)\">\n       <use xlink:href=\"#DejaVuSans-49\"/>\n       <use x=\"63.623047\" xlink:href=\"#DejaVuSans-48\"/>\n      </g>\n     </g>\n    </g>\n    <g id=\"xtick_7\">\n     <g id=\"line2d_7\">\n      <g>\n       <use style=\"stroke:#000000;stroke-width:0.8;\" x=\"412.615119\" xlink:href=\"#m773a43e855\" y=\"279\"/>\n      </g>\n     </g>\n     <g id=\"text_7\">\n      <!-- 12 -->\n      <g transform=\"translate(406.252619 293.598437)scale(0.1 -0.1)\">\n       <use xlink:href=\"#DejaVuSans-49\"/>\n       <use x=\"63.623047\" xlink:href=\"#DejaVuSans-50\"/>\n      </g>\n     </g>\n    </g>\n    <g id=\"xtick_8\">\n     <g id=\"line2d_8\">\n      <g>\n       <use style=\"stroke:#000000;stroke-width:0.8;\" x=\"476.339916\" xlink:href=\"#m773a43e855\" y=\"279\"/>\n      </g>\n     </g>\n     <g id=\"text_8\">\n      <!-- 14 -->\n      <g transform=\"translate(469.977416 293.598437)scale(0.1 -0.1)\">\n       <use xlink:href=\"#DejaVuSans-49\"/>\n       <use x=\"63.623047\" xlink:href=\"#DejaVuSans-52\"/>\n      </g>\n     </g>\n    </g>\n    <g id=\"text_9\">\n     <!-- rooms -->\n     <defs>\n      <path d=\"M 41.109375 46.296875 \nQ 39.59375 47.171875 37.8125 47.578125 \nQ 36.03125 48 33.890625 48 \nQ 26.265625 48 22.1875 43.046875 \nQ 18.109375 38.09375 18.109375 28.8125 \nL 18.109375 0 \nL 9.078125 0 \nL 9.078125 54.6875 \nL 18.109375 54.6875 \nL 18.109375 46.1875 \nQ 20.953125 51.171875 25.484375 53.578125 \nQ 30.03125 56 36.53125 56 \nQ 37.453125 56 38.578125 55.875 \nQ 39.703125 55.765625 41.0625 55.515625 \nz\n\" id=\"DejaVuSans-114\"/>\n      <path d=\"M 30.609375 48.390625 \nQ 23.390625 48.390625 19.1875 42.75 \nQ 14.984375 37.109375 14.984375 27.296875 \nQ 14.984375 17.484375 19.15625 11.84375 \nQ 23.34375 6.203125 30.609375 6.203125 \nQ 37.796875 6.203125 41.984375 11.859375 \nQ 46.1875 17.53125 46.1875 27.296875 \nQ 46.1875 37.015625 41.984375 42.703125 \nQ 37.796875 48.390625 30.609375 48.390625 \nz\nM 30.609375 56 \nQ 42.328125 56 49.015625 48.375 \nQ 55.71875 40.765625 55.71875 27.296875 \nQ 55.71875 13.875 49.015625 6.21875 \nQ 42.328125 -1.421875 30.609375 -1.421875 \nQ 18.84375 -1.421875 12.171875 6.21875 \nQ 5.515625 13.875 5.515625 27.296875 \nQ 5.515625 40.765625 12.171875 48.375 \nQ 18.84375 56 30.609375 56 \nz\n\" id=\"DejaVuSans-111\"/>\n      <path d=\"M 52 44.1875 \nQ 55.375 50.25 60.0625 53.125 \nQ 64.75 56 71.09375 56 \nQ 79.640625 56 84.28125 50.015625 \nQ 88.921875 44.046875 88.921875 33.015625 \nL 88.921875 0 \nL 79.890625 0 \nL 79.890625 32.71875 \nQ 79.890625 40.578125 77.09375 44.375 \nQ 74.3125 48.1875 68.609375 48.1875 \nQ 61.625 48.1875 57.5625 43.546875 \nQ 53.515625 38.921875 53.515625 30.90625 \nL 53.515625 0 \nL 44.484375 0 \nL 44.484375 32.71875 \nQ 44.484375 40.625 41.703125 44.40625 \nQ 38.921875 48.1875 33.109375 48.1875 \nQ 26.21875 48.1875 22.15625 43.53125 \nQ 18.109375 38.875 18.109375 30.90625 \nL 18.109375 0 \nL 9.078125 0 \nL 9.078125 54.6875 \nL 18.109375 54.6875 \nL 18.109375 46.1875 \nQ 21.1875 51.21875 25.484375 53.609375 \nQ 29.78125 56 35.6875 56 \nQ 41.65625 56 45.828125 52.96875 \nQ 50 49.953125 52 44.1875 \nz\n\" id=\"DejaVuSans-109\"/>\n      <path d=\"M 44.28125 53.078125 \nL 44.28125 44.578125 \nQ 40.484375 46.53125 36.375 47.5 \nQ 32.28125 48.484375 27.875 48.484375 \nQ 21.1875 48.484375 17.84375 46.4375 \nQ 14.5 44.390625 14.5 40.28125 \nQ 14.5 37.15625 16.890625 35.375 \nQ 19.28125 33.59375 26.515625 31.984375 \nL 29.59375 31.296875 \nQ 39.15625 29.25 43.1875 25.515625 \nQ 47.21875 21.78125 47.21875 15.09375 \nQ 47.21875 7.46875 41.1875 3.015625 \nQ 35.15625 -1.421875 24.609375 -1.421875 \nQ 20.21875 -1.421875 15.453125 -0.5625 \nQ 10.6875 0.296875 5.421875 2 \nL 5.421875 11.28125 \nQ 10.40625 8.6875 15.234375 7.390625 \nQ 20.0625 6.109375 24.8125 6.109375 \nQ 31.15625 6.109375 34.5625 8.28125 \nQ 37.984375 10.453125 37.984375 14.40625 \nQ 37.984375 18.0625 35.515625 20.015625 \nQ 33.0625 21.96875 24.703125 23.78125 \nL 21.578125 24.515625 \nQ 13.234375 26.265625 9.515625 29.90625 \nQ 5.8125 33.546875 5.8125 39.890625 \nQ 5.8125 47.609375 11.28125 51.796875 \nQ 16.75 56 26.8125 56 \nQ 31.78125 56 36.171875 55.265625 \nQ 40.578125 54.546875 44.28125 53.078125 \nz\n\" id=\"DejaVuSans-115\"/>\n     </defs>\n     <g transform=\"translate(237.766406 307.276562)scale(0.1 -0.1)\">\n      <use xlink:href=\"#DejaVuSans-114\"/>\n      <use x=\"38.863281\" xlink:href=\"#DejaVuSans-111\"/>\n      <use x=\"100.044922\" xlink:href=\"#DejaVuSans-111\"/>\n      <use x=\"161.226562\" xlink:href=\"#DejaVuSans-109\"/>\n      <use x=\"258.638672\" xlink:href=\"#DejaVuSans-115\"/>\n     </g>\n    </g>\n   </g>\n   <g id=\"matplotlib.axis_2\">\n    <g id=\"ytick_1\">\n     <g id=\"line2d_9\">\n      <defs>\n       <path d=\"M 0 0 \nL -3.5 0 \n\" id=\"mb2224fa9e2\" style=\"stroke:#000000;stroke-width:0.8;\"/>\n      </defs>\n      <g>\n       <use style=\"stroke:#000000;stroke-width:0.8;\" x=\"30.103125\" xlink:href=\"#mb2224fa9e2\" y=\"279\"/>\n      </g>\n     </g>\n     <g id=\"text_10\">\n      <!-- 0.0 -->\n      <defs>\n       <path d=\"M 10.6875 12.40625 \nL 21 12.40625 \nL 21 0 \nL 10.6875 0 \nz\n\" id=\"DejaVuSans-46\"/>\n      </defs>\n      <g transform=\"translate(7.2 282.799219)scale(0.1 -0.1)\">\n       <use xlink:href=\"#DejaVuSans-48\"/>\n       <use x=\"63.623047\" xlink:href=\"#DejaVuSans-46\"/>\n       <use x=\"95.410156\" xlink:href=\"#DejaVuSans-48\"/>\n      </g>\n     </g>\n    </g>\n    <g id=\"ytick_2\">\n     <g id=\"line2d_10\">\n      <g>\n       <use style=\"stroke:#000000;stroke-width:0.8;\" x=\"30.103125\" xlink:href=\"#mb2224fa9e2\" y=\"238.360775\"/>\n      </g>\n     </g>\n     <g id=\"text_11\">\n      <!-- 0.2 -->\n      <g transform=\"translate(7.2 242.159993)scale(0.1 -0.1)\">\n       <use xlink:href=\"#DejaVuSans-48\"/>\n       <use x=\"63.623047\" xlink:href=\"#DejaVuSans-46\"/>\n       <use x=\"95.410156\" xlink:href=\"#DejaVuSans-50\"/>\n      </g>\n     </g>\n    </g>\n    <g id=\"ytick_3\">\n     <g id=\"line2d_11\">\n      <g>\n       <use style=\"stroke:#000000;stroke-width:0.8;\" x=\"30.103125\" xlink:href=\"#mb2224fa9e2\" y=\"197.721549\"/>\n      </g>\n     </g>\n     <g id=\"text_12\">\n      <!-- 0.4 -->\n      <g transform=\"translate(7.2 201.520768)scale(0.1 -0.1)\">\n       <use xlink:href=\"#DejaVuSans-48\"/>\n       <use x=\"63.623047\" xlink:href=\"#DejaVuSans-46\"/>\n       <use x=\"95.410156\" xlink:href=\"#DejaVuSans-52\"/>\n      </g>\n     </g>\n    </g>\n    <g id=\"ytick_4\">\n     <g id=\"line2d_12\">\n      <g>\n       <use style=\"stroke:#000000;stroke-width:0.8;\" x=\"30.103125\" xlink:href=\"#mb2224fa9e2\" y=\"157.082324\"/>\n      </g>\n     </g>\n     <g id=\"text_13\">\n      <!-- 0.6 -->\n      <g transform=\"translate(7.2 160.881543)scale(0.1 -0.1)\">\n       <use xlink:href=\"#DejaVuSans-48\"/>\n       <use x=\"63.623047\" xlink:href=\"#DejaVuSans-46\"/>\n       <use x=\"95.410156\" xlink:href=\"#DejaVuSans-54\"/>\n      </g>\n     </g>\n    </g>\n    <g id=\"ytick_5\">\n     <g id=\"line2d_13\">\n      <g>\n       <use style=\"stroke:#000000;stroke-width:0.8;\" x=\"30.103125\" xlink:href=\"#mb2224fa9e2\" y=\"116.443099\"/>\n      </g>\n     </g>\n     <g id=\"text_14\">\n      <!-- 0.8 -->\n      <g transform=\"translate(7.2 120.242318)scale(0.1 -0.1)\">\n       <use xlink:href=\"#DejaVuSans-48\"/>\n       <use x=\"63.623047\" xlink:href=\"#DejaVuSans-46\"/>\n       <use x=\"95.410156\" xlink:href=\"#DejaVuSans-56\"/>\n      </g>\n     </g>\n    </g>\n    <g id=\"ytick_6\">\n     <g id=\"line2d_14\">\n      <g>\n       <use style=\"stroke:#000000;stroke-width:0.8;\" x=\"30.103125\" xlink:href=\"#mb2224fa9e2\" y=\"75.803874\"/>\n      </g>\n     </g>\n     <g id=\"text_15\">\n      <!-- 1.0 -->\n      <g transform=\"translate(7.2 79.603092)scale(0.1 -0.1)\">\n       <use xlink:href=\"#DejaVuSans-49\"/>\n       <use x=\"63.623047\" xlink:href=\"#DejaVuSans-46\"/>\n       <use x=\"95.410156\" xlink:href=\"#DejaVuSans-48\"/>\n      </g>\n     </g>\n    </g>\n    <g id=\"ytick_7\">\n     <g id=\"line2d_15\">\n      <g>\n       <use style=\"stroke:#000000;stroke-width:0.8;\" x=\"30.103125\" xlink:href=\"#mb2224fa9e2\" y=\"35.164648\"/>\n      </g>\n     </g>\n     <g id=\"text_16\">\n      <!-- 1.2 -->\n      <g transform=\"translate(7.2 38.963867)scale(0.1 -0.1)\">\n       <use xlink:href=\"#DejaVuSans-49\"/>\n       <use x=\"63.623047\" xlink:href=\"#DejaVuSans-46\"/>\n       <use x=\"95.410156\" xlink:href=\"#DejaVuSans-50\"/>\n      </g>\n     </g>\n    </g>\n   </g>\n   <g id=\"line2d_16\">\n    <path clip-path=\"url(#p1c17b2de60)\" d=\"M 50.394034 276.755548 \nL 53.589453 263.228507 \nL 56.784872 218.819052 \nL 59.98029 152.533009 \nL 63.175709 135.073439 \nL 69.566547 252.876298 \nL 72.761965 274.863711 \nL 75.957384 278.675443 \nL 79.152803 278.741766 \nL 82.348222 276.09544 \nL 85.54364 258.82854 \nL 88.739059 203.472815 \nL 91.934478 123.916266 \nL 95.129897 106.282979 \nL 101.520734 248.376637 \nL 104.716153 274.176632 \nL 107.911572 278.619612 \nL 111.10699 278.699487 \nL 114.302409 275.599123 \nL 117.497828 255.685454 \nL 120.693247 193.18115 \nL 123.888665 106.652183 \nL 127.084084 91.152381 \nL 130.279503 170.550912 \nL 133.474922 246.498674 \nL 136.67034 273.91131 \nL 139.865759 278.601651 \nL 143.061178 278.830737 \nL 146.256597 277.253326 \nL 149.452015 267.126779 \nL 152.647434 235.995257 \nL 155.842853 194.439859 \nL 159.038272 188.805955 \nL 162.23369 227.754392 \nL 165.429109 263.790921 \nL 168.624528 276.631453 \nL 171.819947 278.817061 \nL 175.015366 278.958635 \nL 178.210784 278.667826 \nL 181.406203 276.739701 \nL 184.601622 270.944225 \nL 187.797041 263.471844 \nL 190.992459 262.79447 \nL 194.187878 269.941774 \nL 197.383297 276.341017 \nL 200.578716 278.586965 \nL 203.774134 278.969323 \nL 210.164972 278.91792 \nL 213.360391 278.441702 \nL 216.555809 277.039819 \nL 219.751228 275.292622 \nL 222.946647 275.214685 \nL 226.142066 276.919425 \nL 229.337484 278.396723 \nL 232.532903 278.906233 \nL 238.923741 278.994934 \nL 242.119159 278.95422 \nL 245.314578 278.691741 \nL 248.509997 277.93119 \nL 251.705416 277.015817 \nL 254.900834 277.017488 \nL 258.096253 277.929509 \nL 261.291672 278.693444 \nL 264.487091 278.952488 \nL 274.073347 278.985719 \nL 277.268766 278.901532 \nL 283.659603 278.386794 \nL 286.855022 278.401159 \nL 293.245859 278.910602 \nL 299.636697 278.999547 \nL 344.37256 278.903733 \nL 350.763397 278.840742 \nL 360.349653 278.995951 \nL 437.039703 278.9864 \nL 456.212216 278.817598 \nL 456.212216 278.817598 \n\" style=\"fill:none;stroke:#1f77b4;stroke-linecap:square;stroke-width:1.5;\"/>\n   </g>\n   <g id=\"patch_53\">\n    <path d=\"M 30.103125 279 \nL 30.103125 7.2 \n\" style=\"fill:none;stroke:#000000;stroke-linecap:square;stroke-linejoin:miter;stroke-width:0.8;\"/>\n   </g>\n   <g id=\"patch_54\">\n    <path d=\"M 476.503125 279 \nL 476.503125 7.2 \n\" style=\"fill:none;stroke:#000000;stroke-linecap:square;stroke-linejoin:miter;stroke-width:0.8;\"/>\n   </g>\n   <g id=\"patch_55\">\n    <path d=\"M 30.103125 279 \nL 476.503125 279 \n\" style=\"fill:none;stroke:#000000;stroke-linecap:square;stroke-linejoin:miter;stroke-width:0.8;\"/>\n   </g>\n   <g id=\"patch_56\">\n    <path d=\"M 30.103125 7.2 \nL 476.503125 7.2 \n\" style=\"fill:none;stroke:#000000;stroke-linecap:square;stroke-linejoin:miter;stroke-width:0.8;\"/>\n   </g>\n  </g>\n </g>\n <defs>\n  <clipPath id=\"p1c17b2de60\">\n   <rect height=\"271.8\" width=\"446.4\" x=\"30.103125\" y=\"7.2\"/>\n  </clipPath>\n </defs>\n</svg>\n"
          },
          "metadata": {
            "tags": [],
            "needs_background": "light"
          }
        }
      ]
    },
    {
      "cell_type": "code",
      "metadata": {
        "id": "4mpn8chmr7cd",
        "colab_type": "code",
        "colab": {}
      },
      "source": [
        "# Three-roomed houses on average are frequently rented."
      ],
      "execution_count": 0,
      "outputs": []
    },
    {
      "cell_type": "code",
      "metadata": {
        "id": "YNt_J5Dbr9nU",
        "colab_type": "code",
        "colab": {
          "base_uri": "https://localhost:8080/",
          "height": 474
        },
        "outputId": "b1a2b420-c836-40f3-c3fa-c7707be1566d"
      },
      "source": [
        "platform_genre_sales = df.pivot_table(\n",
        "                        index='rooms', \n",
        "                        columns='city', \n",
        "                        values='property tax (R$)', \n",
        "                        aggfunc=sum).fillna(0).applymap(float)\n",
        "sns.heatmap(platform_genre_sales, annot=True, fmt=\".1f\", linewidths=.5)"
      ],
      "execution_count": 170,
      "outputs": [
        {
          "output_type": "execute_result",
          "data": {
            "text/plain": [
              "<matplotlib.axes._subplots.AxesSubplot at 0x7f9ec642d780>"
            ]
          },
          "metadata": {
            "tags": []
          },
          "execution_count": 170
        },
        {
          "output_type": "display_data",
          "data": {
            "text/plain": [
              "<Figure size 576x360 with 2 Axes>"
            ],
            "image/svg+xml": "<?xml version=\"1.0\" encoding=\"utf-8\" standalone=\"no\"?>\n<!DOCTYPE svg PUBLIC \"-//W3C//DTD SVG 1.1//EN\"\n  \"http://www.w3.org/Graphics/SVG/1.1/DTD/svg11.dtd\">\n<!-- Created with matplotlib (https://matplotlib.org/) -->\n<svg height=\"327.154687pt\" version=\"1.1\" viewBox=\"0 0 460.689375 327.154687\" width=\"460.689375pt\" xmlns=\"http://www.w3.org/2000/svg\" xmlns:xlink=\"http://www.w3.org/1999/xlink\">\n <defs>\n  <style type=\"text/css\">\n*{stroke-linecap:butt;stroke-linejoin:round;}\n  </style>\n </defs>\n <g id=\"figure_1\">\n  <g id=\"patch_1\">\n   <path d=\"M 0 327.154687 \nL 460.689375 327.154687 \nL 460.689375 0 \nL 0 0 \nz\n\" style=\"fill:none;\"/>\n  </g>\n  <g id=\"axes_1\">\n   <g id=\"patch_2\">\n    <path d=\"M 37.55625 289.598437 \nL 394.67625 289.598437 \nL 394.67625 17.798437 \nL 37.55625 17.798437 \nz\n\" style=\"fill:#ffffff;\"/>\n   </g>\n   <g id=\"QuadMesh_1\">\n    <path clip-path=\"url(#pd71333333a)\" d=\"M 37.55625 17.798438 \nL 108.98025 17.798438 \nL 108.98025 42.507528 \nL 37.55625 42.507528 \nL 37.55625 17.798438 \n\" style=\"fill:#05061b;stroke:#ffffff;stroke-width:0.5;\"/>\n    <path clip-path=\"url(#pd71333333a)\" d=\"M 108.98025 17.798438 \nL 180.40425 17.798438 \nL 180.40425 42.507528 \nL 108.98025 42.507528 \nL 108.98025 17.798438 \n\" style=\"fill:#05061b;stroke:#ffffff;stroke-width:0.5;\"/>\n    <path clip-path=\"url(#pd71333333a)\" d=\"M 180.40425 17.798438 \nL 251.82825 17.798438 \nL 251.82825 42.507528 \nL 180.40425 42.507528 \nL 180.40425 17.798438 \n\" style=\"fill:#06071c;stroke:#ffffff;stroke-width:0.5;\"/>\n    <path clip-path=\"url(#pd71333333a)\" d=\"M 251.82825 17.798438 \nL 323.25225 17.798438 \nL 323.25225 42.507528 \nL 251.82825 42.507528 \nL 251.82825 17.798438 \n\" style=\"fill:#0e0b22;stroke:#ffffff;stroke-width:0.5;\"/>\n    <path clip-path=\"url(#pd71333333a)\" d=\"M 323.25225 17.798438 \nL 394.67625 17.798438 \nL 394.67625 42.507528 \nL 323.25225 42.507528 \nL 323.25225 17.798438 \n\" style=\"fill:#971c5b;stroke:#ffffff;stroke-width:0.5;\"/>\n    <path clip-path=\"url(#pd71333333a)\" d=\"M 37.55625 42.507528 \nL 108.98025 42.507528 \nL 108.98025 67.216619 \nL 37.55625 67.216619 \nL 37.55625 42.507528 \n\" style=\"fill:#0b0920;stroke:#ffffff;stroke-width:0.5;\"/>\n    <path clip-path=\"url(#pd71333333a)\" d=\"M 108.98025 42.507528 \nL 180.40425 42.507528 \nL 180.40425 67.216619 \nL 108.98025 67.216619 \nL 108.98025 42.507528 \n\" style=\"fill:#06071c;stroke:#ffffff;stroke-width:0.5;\"/>\n    <path clip-path=\"url(#pd71333333a)\" d=\"M 180.40425 42.507528 \nL 251.82825 42.507528 \nL 251.82825 67.216619 \nL 180.40425 67.216619 \nL 180.40425 42.507528 \n\" style=\"fill:#0b0920;stroke:#ffffff;stroke-width:0.5;\"/>\n    <path clip-path=\"url(#pd71333333a)\" d=\"M 251.82825 42.507528 \nL 323.25225 42.507528 \nL 323.25225 67.216619 \nL 251.82825 67.216619 \nL 251.82825 42.507528 \n\" style=\"fill:#241432;stroke:#ffffff;stroke-width:0.5;\"/>\n    <path clip-path=\"url(#pd71333333a)\" d=\"M 323.25225 42.507528 \nL 394.67625 42.507528 \nL 394.67625 67.216619 \nL 323.25225 67.216619 \nL 323.25225 42.507528 \n\" style=\"fill:#481c48;stroke:#ffffff;stroke-width:0.5;\"/>\n    <path clip-path=\"url(#pd71333333a)\" d=\"M 37.55625 67.216619 \nL 108.98025 67.216619 \nL 108.98025 91.92571 \nL 37.55625 91.92571 \nL 37.55625 67.216619 \n\" style=\"fill:#1a102a;stroke:#ffffff;stroke-width:0.5;\"/>\n    <path clip-path=\"url(#pd71333333a)\" d=\"M 108.98025 67.216619 \nL 180.40425 67.216619 \nL 180.40425 91.92571 \nL 108.98025 91.92571 \nL 108.98025 67.216619 \n\" style=\"fill:#110c24;stroke:#ffffff;stroke-width:0.5;\"/>\n    <path clip-path=\"url(#pd71333333a)\" d=\"M 180.40425 67.216619 \nL 251.82825 67.216619 \nL 251.82825 91.92571 \nL 180.40425 91.92571 \nL 180.40425 67.216619 \n\" style=\"fill:#140e26;stroke:#ffffff;stroke-width:0.5;\"/>\n    <path clip-path=\"url(#pd71333333a)\" d=\"M 251.82825 67.216619 \nL 323.25225 67.216619 \nL 323.25225 91.92571 \nL 251.82825 91.92571 \nL 251.82825 67.216619 \n\" style=\"fill:#2e1739;stroke:#ffffff;stroke-width:0.5;\"/>\n    <path clip-path=\"url(#pd71333333a)\" d=\"M 323.25225 67.216619 \nL 394.67625 67.216619 \nL 394.67625 91.92571 \nL 323.25225 91.92571 \nL 323.25225 67.216619 \n\" style=\"fill:#f5976e;stroke:#ffffff;stroke-width:0.5;\"/>\n    <path clip-path=\"url(#pd71333333a)\" d=\"M 37.55625 91.92571 \nL 108.98025 91.92571 \nL 108.98025 116.634801 \nL 37.55625 116.634801 \nL 37.55625 91.92571 \n\" style=\"fill:#34193d;stroke:#ffffff;stroke-width:0.5;\"/>\n    <path clip-path=\"url(#pd71333333a)\" d=\"M 108.98025 91.92571 \nL 180.40425 91.92571 \nL 180.40425 116.634801 \nL 108.98025 116.634801 \nL 108.98025 91.92571 \n\" style=\"fill:#0b0920;stroke:#ffffff;stroke-width:0.5;\"/>\n    <path clip-path=\"url(#pd71333333a)\" d=\"M 180.40425 91.92571 \nL 251.82825 91.92571 \nL 251.82825 116.634801 \nL 180.40425 116.634801 \nL 180.40425 91.92571 \n\" style=\"fill:#08081e;stroke:#ffffff;stroke-width:0.5;\"/>\n    <path clip-path=\"url(#pd71333333a)\" d=\"M 251.82825 91.92571 \nL 323.25225 91.92571 \nL 323.25225 116.634801 \nL 251.82825 116.634801 \nL 251.82825 91.92571 \n\" style=\"fill:#1a102a;stroke:#ffffff;stroke-width:0.5;\"/>\n    <path clip-path=\"url(#pd71333333a)\" d=\"M 323.25225 91.92571 \nL 394.67625 91.92571 \nL 394.67625 116.634801 \nL 323.25225 116.634801 \nL 323.25225 91.92571 \n\" style=\"fill:#faebdd;stroke:#ffffff;stroke-width:0.5;\"/>\n    <path clip-path=\"url(#pd71333333a)\" d=\"M 37.55625 116.634801 \nL 108.98025 116.634801 \nL 108.98025 141.343892 \nL 37.55625 141.343892 \nL 37.55625 116.634801 \n\" style=\"fill:#110c24;stroke:#ffffff;stroke-width:0.5;\"/>\n    <path clip-path=\"url(#pd71333333a)\" d=\"M 108.98025 116.634801 \nL 180.40425 116.634801 \nL 180.40425 141.343892 \nL 108.98025 141.343892 \nL 108.98025 116.634801 \n\" style=\"fill:#05061b;stroke:#ffffff;stroke-width:0.5;\"/>\n    <path clip-path=\"url(#pd71333333a)\" d=\"M 180.40425 116.634801 \nL 251.82825 116.634801 \nL 251.82825 141.343892 \nL 180.40425 141.343892 \nL 180.40425 116.634801 \n\" style=\"fill:#04051a;stroke:#ffffff;stroke-width:0.5;\"/>\n    <path clip-path=\"url(#pd71333333a)\" d=\"M 251.82825 116.634801 \nL 323.25225 116.634801 \nL 323.25225 141.343892 \nL 251.82825 141.343892 \nL 251.82825 116.634801 \n\" style=\"fill:#06071c;stroke:#ffffff;stroke-width:0.5;\"/>\n    <path clip-path=\"url(#pd71333333a)\" d=\"M 323.25225 116.634801 \nL 394.67625 116.634801 \nL 394.67625 141.343892 \nL 323.25225 141.343892 \nL 323.25225 116.634801 \n\" style=\"fill:#481c48;stroke:#ffffff;stroke-width:0.5;\"/>\n    <path clip-path=\"url(#pd71333333a)\" d=\"M 37.55625 141.343892 \nL 108.98025 141.343892 \nL 108.98025 166.052983 \nL 37.55625 166.052983 \nL 37.55625 141.343892 \n\" style=\"fill:#06071c;stroke:#ffffff;stroke-width:0.5;\"/>\n    <path clip-path=\"url(#pd71333333a)\" d=\"M 108.98025 141.343892 \nL 180.40425 141.343892 \nL 180.40425 166.052983 \nL 108.98025 166.052983 \nL 108.98025 141.343892 \n\" style=\"fill:#03051a;stroke:#ffffff;stroke-width:0.5;\"/>\n    <path clip-path=\"url(#pd71333333a)\" d=\"M 180.40425 141.343892 \nL 251.82825 141.343892 \nL 251.82825 166.052983 \nL 180.40425 166.052983 \nL 180.40425 141.343892 \n\" style=\"fill:#03051a;stroke:#ffffff;stroke-width:0.5;\"/>\n    <path clip-path=\"url(#pd71333333a)\" d=\"M 251.82825 141.343892 \nL 323.25225 141.343892 \nL 323.25225 166.052983 \nL 251.82825 166.052983 \nL 251.82825 141.343892 \n\" style=\"fill:#03051a;stroke:#ffffff;stroke-width:0.5;\"/>\n    <path clip-path=\"url(#pd71333333a)\" d=\"M 323.25225 141.343892 \nL 394.67625 141.343892 \nL 394.67625 166.052983 \nL 323.25225 166.052983 \nL 323.25225 141.343892 \n\" style=\"fill:#0e0b22;stroke:#ffffff;stroke-width:0.5;\"/>\n    <path clip-path=\"url(#pd71333333a)\" d=\"M 37.55625 166.052983 \nL 108.98025 166.052983 \nL 108.98025 190.762074 \nL 37.55625 190.762074 \nL 37.55625 166.052983 \n\" style=\"fill:#04051a;stroke:#ffffff;stroke-width:0.5;\"/>\n    <path clip-path=\"url(#pd71333333a)\" d=\"M 108.98025 166.052983 \nL 180.40425 166.052983 \nL 180.40425 190.762074 \nL 108.98025 190.762074 \nL 108.98025 166.052983 \n\" style=\"fill:#03051a;stroke:#ffffff;stroke-width:0.5;\"/>\n    <path clip-path=\"url(#pd71333333a)\" d=\"M 180.40425 166.052983 \nL 251.82825 166.052983 \nL 251.82825 190.762074 \nL 180.40425 190.762074 \nL 180.40425 166.052983 \n\" style=\"fill:#03051a;stroke:#ffffff;stroke-width:0.5;\"/>\n    <path clip-path=\"url(#pd71333333a)\" d=\"M 251.82825 166.052983 \nL 323.25225 166.052983 \nL 323.25225 190.762074 \nL 251.82825 190.762074 \nL 251.82825 166.052983 \n\" style=\"fill:#03051a;stroke:#ffffff;stroke-width:0.5;\"/>\n    <path clip-path=\"url(#pd71333333a)\" d=\"M 323.25225 166.052983 \nL 394.67625 166.052983 \nL 394.67625 190.762074 \nL 323.25225 190.762074 \nL 323.25225 166.052983 \n\" style=\"fill:#08081e;stroke:#ffffff;stroke-width:0.5;\"/>\n    <path clip-path=\"url(#pd71333333a)\" d=\"M 37.55625 190.762074 \nL 108.98025 190.762074 \nL 108.98025 215.471165 \nL 37.55625 215.471165 \nL 37.55625 190.762074 \n\" style=\"fill:#03051a;stroke:#ffffff;stroke-width:0.5;\"/>\n    <path clip-path=\"url(#pd71333333a)\" d=\"M 108.98025 190.762074 \nL 180.40425 190.762074 \nL 180.40425 215.471165 \nL 108.98025 215.471165 \nL 108.98025 190.762074 \n\" style=\"fill:#03051a;stroke:#ffffff;stroke-width:0.5;\"/>\n    <path clip-path=\"url(#pd71333333a)\" d=\"M 180.40425 190.762074 \nL 251.82825 190.762074 \nL 251.82825 215.471165 \nL 180.40425 215.471165 \nL 180.40425 190.762074 \n\" style=\"fill:#03051a;stroke:#ffffff;stroke-width:0.5;\"/>\n    <path clip-path=\"url(#pd71333333a)\" d=\"M 251.82825 190.762074 \nL 323.25225 190.762074 \nL 323.25225 215.471165 \nL 251.82825 215.471165 \nL 251.82825 190.762074 \n\" style=\"fill:#03051a;stroke:#ffffff;stroke-width:0.5;\"/>\n    <path clip-path=\"url(#pd71333333a)\" d=\"M 323.25225 190.762074 \nL 394.67625 190.762074 \nL 394.67625 215.471165 \nL 323.25225 215.471165 \nL 323.25225 190.762074 \n\" style=\"fill:#04051a;stroke:#ffffff;stroke-width:0.5;\"/>\n    <path clip-path=\"url(#pd71333333a)\" d=\"M 37.55625 215.471165 \nL 108.98025 215.471165 \nL 108.98025 240.180256 \nL 37.55625 240.180256 \nL 37.55625 215.471165 \n\" style=\"fill:#03051a;stroke:#ffffff;stroke-width:0.5;\"/>\n    <path clip-path=\"url(#pd71333333a)\" d=\"M 108.98025 215.471165 \nL 180.40425 215.471165 \nL 180.40425 240.180256 \nL 108.98025 240.180256 \nL 108.98025 215.471165 \n\" style=\"fill:#03051a;stroke:#ffffff;stroke-width:0.5;\"/>\n    <path clip-path=\"url(#pd71333333a)\" d=\"M 180.40425 215.471165 \nL 251.82825 215.471165 \nL 251.82825 240.180256 \nL 180.40425 240.180256 \nL 180.40425 215.471165 \n\" style=\"fill:#03051a;stroke:#ffffff;stroke-width:0.5;\"/>\n    <path clip-path=\"url(#pd71333333a)\" d=\"M 251.82825 215.471165 \nL 323.25225 215.471165 \nL 323.25225 240.180256 \nL 251.82825 240.180256 \nL 251.82825 215.471165 \n\" style=\"fill:#03051a;stroke:#ffffff;stroke-width:0.5;\"/>\n    <path clip-path=\"url(#pd71333333a)\" d=\"M 323.25225 215.471165 \nL 394.67625 215.471165 \nL 394.67625 240.180256 \nL 323.25225 240.180256 \nL 323.25225 215.471165 \n\" style=\"fill:#03051a;stroke:#ffffff;stroke-width:0.5;\"/>\n    <path clip-path=\"url(#pd71333333a)\" d=\"M 37.55625 240.180256 \nL 108.98025 240.180256 \nL 108.98025 264.889347 \nL 37.55625 264.889347 \nL 37.55625 240.180256 \n\" style=\"fill:#03051a;stroke:#ffffff;stroke-width:0.5;\"/>\n    <path clip-path=\"url(#pd71333333a)\" d=\"M 108.98025 240.180256 \nL 180.40425 240.180256 \nL 180.40425 264.889347 \nL 108.98025 264.889347 \nL 108.98025 240.180256 \n\" style=\"fill:#03051a;stroke:#ffffff;stroke-width:0.5;\"/>\n    <path clip-path=\"url(#pd71333333a)\" d=\"M 180.40425 240.180256 \nL 251.82825 240.180256 \nL 251.82825 264.889347 \nL 180.40425 264.889347 \nL 180.40425 240.180256 \n\" style=\"fill:#03051a;stroke:#ffffff;stroke-width:0.5;\"/>\n    <path clip-path=\"url(#pd71333333a)\" d=\"M 251.82825 240.180256 \nL 323.25225 240.180256 \nL 323.25225 264.889347 \nL 251.82825 264.889347 \nL 251.82825 240.180256 \n\" style=\"fill:#03051a;stroke:#ffffff;stroke-width:0.5;\"/>\n    <path clip-path=\"url(#pd71333333a)\" d=\"M 323.25225 240.180256 \nL 394.67625 240.180256 \nL 394.67625 264.889347 \nL 323.25225 264.889347 \nL 323.25225 240.180256 \n\" style=\"fill:#03051a;stroke:#ffffff;stroke-width:0.5;\"/>\n    <path clip-path=\"url(#pd71333333a)\" d=\"M 37.55625 264.889347 \nL 108.98025 264.889347 \nL 108.98025 289.598437 \nL 37.55625 289.598437 \nL 37.55625 264.889347 \n\" style=\"fill:#03051a;stroke:#ffffff;stroke-width:0.5;\"/>\n    <path clip-path=\"url(#pd71333333a)\" d=\"M 108.98025 264.889347 \nL 180.40425 264.889347 \nL 180.40425 289.598437 \nL 108.98025 289.598437 \nL 108.98025 264.889347 \n\" style=\"fill:#03051a;stroke:#ffffff;stroke-width:0.5;\"/>\n    <path clip-path=\"url(#pd71333333a)\" d=\"M 180.40425 264.889347 \nL 251.82825 264.889347 \nL 251.82825 289.598437 \nL 180.40425 289.598437 \nL 180.40425 264.889347 \n\" style=\"fill:#03051a;stroke:#ffffff;stroke-width:0.5;\"/>\n    <path clip-path=\"url(#pd71333333a)\" d=\"M 251.82825 264.889347 \nL 323.25225 264.889347 \nL 323.25225 289.598437 \nL 251.82825 289.598437 \nL 251.82825 264.889347 \n\" style=\"fill:#03051a;stroke:#ffffff;stroke-width:0.5;\"/>\n    <path clip-path=\"url(#pd71333333a)\" d=\"M 323.25225 264.889347 \nL 394.67625 264.889347 \nL 394.67625 289.598437 \nL 323.25225 289.598437 \nL 323.25225 264.889347 \n\" style=\"fill:#03051a;stroke:#ffffff;stroke-width:0.5;\"/>\n   </g>\n   <g id=\"matplotlib.axis_1\">\n    <g id=\"xtick_1\">\n     <g id=\"line2d_1\">\n      <defs>\n       <path d=\"M 0 0 \nL 0 3.5 \n\" id=\"m37f236f9e0\" style=\"stroke:#000000;stroke-width:0.8;\"/>\n      </defs>\n      <g>\n       <use style=\"stroke:#000000;stroke-width:0.8;\" x=\"73.26825\" xlink:href=\"#m37f236f9e0\" y=\"289.598437\"/>\n      </g>\n     </g>\n     <g id=\"text_1\">\n      <!-- Belo Horizonte -->\n      <defs>\n       <path d=\"M 19.671875 34.8125 \nL 19.671875 8.109375 \nL 35.5 8.109375 \nQ 43.453125 8.109375 47.28125 11.40625 \nQ 51.125 14.703125 51.125 21.484375 \nQ 51.125 28.328125 47.28125 31.5625 \nQ 43.453125 34.8125 35.5 34.8125 \nz\nM 19.671875 64.796875 \nL 19.671875 42.828125 \nL 34.28125 42.828125 \nQ 41.5 42.828125 45.03125 45.53125 \nQ 48.578125 48.25 48.578125 53.8125 \nQ 48.578125 59.328125 45.03125 62.0625 \nQ 41.5 64.796875 34.28125 64.796875 \nz\nM 9.8125 72.90625 \nL 35.015625 72.90625 \nQ 46.296875 72.90625 52.390625 68.21875 \nQ 58.5 63.53125 58.5 54.890625 \nQ 58.5 48.1875 55.375 44.234375 \nQ 52.25 40.28125 46.1875 39.3125 \nQ 53.46875 37.75 57.5 32.78125 \nQ 61.53125 27.828125 61.53125 20.40625 \nQ 61.53125 10.640625 54.890625 5.3125 \nQ 48.25 0 35.984375 0 \nL 9.8125 0 \nz\n\" id=\"DejaVuSans-66\"/>\n       <path d=\"M 56.203125 29.59375 \nL 56.203125 25.203125 \nL 14.890625 25.203125 \nQ 15.484375 15.921875 20.484375 11.0625 \nQ 25.484375 6.203125 34.421875 6.203125 \nQ 39.59375 6.203125 44.453125 7.46875 \nQ 49.3125 8.734375 54.109375 11.28125 \nL 54.109375 2.78125 \nQ 49.265625 0.734375 44.1875 -0.34375 \nQ 39.109375 -1.421875 33.890625 -1.421875 \nQ 20.796875 -1.421875 13.15625 6.1875 \nQ 5.515625 13.8125 5.515625 26.8125 \nQ 5.515625 40.234375 12.765625 48.109375 \nQ 20.015625 56 32.328125 56 \nQ 43.359375 56 49.78125 48.890625 \nQ 56.203125 41.796875 56.203125 29.59375 \nz\nM 47.21875 32.234375 \nQ 47.125 39.59375 43.09375 43.984375 \nQ 39.0625 48.390625 32.421875 48.390625 \nQ 24.90625 48.390625 20.390625 44.140625 \nQ 15.875 39.890625 15.1875 32.171875 \nz\n\" id=\"DejaVuSans-101\"/>\n       <path d=\"M 9.421875 75.984375 \nL 18.40625 75.984375 \nL 18.40625 0 \nL 9.421875 0 \nz\n\" id=\"DejaVuSans-108\"/>\n       <path d=\"M 30.609375 48.390625 \nQ 23.390625 48.390625 19.1875 42.75 \nQ 14.984375 37.109375 14.984375 27.296875 \nQ 14.984375 17.484375 19.15625 11.84375 \nQ 23.34375 6.203125 30.609375 6.203125 \nQ 37.796875 6.203125 41.984375 11.859375 \nQ 46.1875 17.53125 46.1875 27.296875 \nQ 46.1875 37.015625 41.984375 42.703125 \nQ 37.796875 48.390625 30.609375 48.390625 \nz\nM 30.609375 56 \nQ 42.328125 56 49.015625 48.375 \nQ 55.71875 40.765625 55.71875 27.296875 \nQ 55.71875 13.875 49.015625 6.21875 \nQ 42.328125 -1.421875 30.609375 -1.421875 \nQ 18.84375 -1.421875 12.171875 6.21875 \nQ 5.515625 13.875 5.515625 27.296875 \nQ 5.515625 40.765625 12.171875 48.375 \nQ 18.84375 56 30.609375 56 \nz\n\" id=\"DejaVuSans-111\"/>\n       <path id=\"DejaVuSans-32\"/>\n       <path d=\"M 9.8125 72.90625 \nL 19.671875 72.90625 \nL 19.671875 43.015625 \nL 55.515625 43.015625 \nL 55.515625 72.90625 \nL 65.375 72.90625 \nL 65.375 0 \nL 55.515625 0 \nL 55.515625 34.71875 \nL 19.671875 34.71875 \nL 19.671875 0 \nL 9.8125 0 \nz\n\" id=\"DejaVuSans-72\"/>\n       <path d=\"M 41.109375 46.296875 \nQ 39.59375 47.171875 37.8125 47.578125 \nQ 36.03125 48 33.890625 48 \nQ 26.265625 48 22.1875 43.046875 \nQ 18.109375 38.09375 18.109375 28.8125 \nL 18.109375 0 \nL 9.078125 0 \nL 9.078125 54.6875 \nL 18.109375 54.6875 \nL 18.109375 46.1875 \nQ 20.953125 51.171875 25.484375 53.578125 \nQ 30.03125 56 36.53125 56 \nQ 37.453125 56 38.578125 55.875 \nQ 39.703125 55.765625 41.0625 55.515625 \nz\n\" id=\"DejaVuSans-114\"/>\n       <path d=\"M 9.421875 54.6875 \nL 18.40625 54.6875 \nL 18.40625 0 \nL 9.421875 0 \nz\nM 9.421875 75.984375 \nL 18.40625 75.984375 \nL 18.40625 64.59375 \nL 9.421875 64.59375 \nz\n\" id=\"DejaVuSans-105\"/>\n       <path d=\"M 5.515625 54.6875 \nL 48.1875 54.6875 \nL 48.1875 46.484375 \nL 14.40625 7.171875 \nL 48.1875 7.171875 \nL 48.1875 0 \nL 4.296875 0 \nL 4.296875 8.203125 \nL 38.09375 47.515625 \nL 5.515625 47.515625 \nz\n\" id=\"DejaVuSans-122\"/>\n       <path d=\"M 54.890625 33.015625 \nL 54.890625 0 \nL 45.90625 0 \nL 45.90625 32.71875 \nQ 45.90625 40.484375 42.875 44.328125 \nQ 39.84375 48.1875 33.796875 48.1875 \nQ 26.515625 48.1875 22.3125 43.546875 \nQ 18.109375 38.921875 18.109375 30.90625 \nL 18.109375 0 \nL 9.078125 0 \nL 9.078125 54.6875 \nL 18.109375 54.6875 \nL 18.109375 46.1875 \nQ 21.34375 51.125 25.703125 53.5625 \nQ 30.078125 56 35.796875 56 \nQ 45.21875 56 50.046875 50.171875 \nQ 54.890625 44.34375 54.890625 33.015625 \nz\n\" id=\"DejaVuSans-110\"/>\n       <path d=\"M 18.3125 70.21875 \nL 18.3125 54.6875 \nL 36.8125 54.6875 \nL 36.8125 47.703125 \nL 18.3125 47.703125 \nL 18.3125 18.015625 \nQ 18.3125 11.328125 20.140625 9.421875 \nQ 21.96875 7.515625 27.59375 7.515625 \nL 36.8125 7.515625 \nL 36.8125 0 \nL 27.59375 0 \nQ 17.1875 0 13.234375 3.875 \nQ 9.28125 7.765625 9.28125 18.015625 \nL 9.28125 47.703125 \nL 2.6875 47.703125 \nL 2.6875 54.6875 \nL 9.28125 54.6875 \nL 9.28125 70.21875 \nz\n\" id=\"DejaVuSans-116\"/>\n      </defs>\n      <g transform=\"translate(36.570594 304.196875)scale(0.1 -0.1)\">\n       <use xlink:href=\"#DejaVuSans-66\"/>\n       <use x=\"68.603516\" xlink:href=\"#DejaVuSans-101\"/>\n       <use x=\"130.126953\" xlink:href=\"#DejaVuSans-108\"/>\n       <use x=\"157.910156\" xlink:href=\"#DejaVuSans-111\"/>\n       <use x=\"219.091797\" xlink:href=\"#DejaVuSans-32\"/>\n       <use x=\"250.878906\" xlink:href=\"#DejaVuSans-72\"/>\n       <use x=\"326.074219\" xlink:href=\"#DejaVuSans-111\"/>\n       <use x=\"387.255859\" xlink:href=\"#DejaVuSans-114\"/>\n       <use x=\"428.369141\" xlink:href=\"#DejaVuSans-105\"/>\n       <use x=\"456.152344\" xlink:href=\"#DejaVuSans-122\"/>\n       <use x=\"508.642578\" xlink:href=\"#DejaVuSans-111\"/>\n       <use x=\"569.824219\" xlink:href=\"#DejaVuSans-110\"/>\n       <use x=\"633.203125\" xlink:href=\"#DejaVuSans-116\"/>\n       <use x=\"672.412109\" xlink:href=\"#DejaVuSans-101\"/>\n      </g>\n     </g>\n    </g>\n    <g id=\"xtick_2\">\n     <g id=\"line2d_2\">\n      <g>\n       <use style=\"stroke:#000000;stroke-width:0.8;\" x=\"144.69225\" xlink:href=\"#m37f236f9e0\" y=\"289.598437\"/>\n      </g>\n     </g>\n     <g id=\"text_2\">\n      <!-- Campinas -->\n      <defs>\n       <path d=\"M 64.40625 67.28125 \nL 64.40625 56.890625 \nQ 59.421875 61.53125 53.78125 63.8125 \nQ 48.140625 66.109375 41.796875 66.109375 \nQ 29.296875 66.109375 22.65625 58.46875 \nQ 16.015625 50.828125 16.015625 36.375 \nQ 16.015625 21.96875 22.65625 14.328125 \nQ 29.296875 6.6875 41.796875 6.6875 \nQ 48.140625 6.6875 53.78125 8.984375 \nQ 59.421875 11.28125 64.40625 15.921875 \nL 64.40625 5.609375 \nQ 59.234375 2.09375 53.4375 0.328125 \nQ 47.65625 -1.421875 41.21875 -1.421875 \nQ 24.65625 -1.421875 15.125 8.703125 \nQ 5.609375 18.84375 5.609375 36.375 \nQ 5.609375 53.953125 15.125 64.078125 \nQ 24.65625 74.21875 41.21875 74.21875 \nQ 47.75 74.21875 53.53125 72.484375 \nQ 59.328125 70.75 64.40625 67.28125 \nz\n\" id=\"DejaVuSans-67\"/>\n       <path d=\"M 34.28125 27.484375 \nQ 23.390625 27.484375 19.1875 25 \nQ 14.984375 22.515625 14.984375 16.5 \nQ 14.984375 11.71875 18.140625 8.90625 \nQ 21.296875 6.109375 26.703125 6.109375 \nQ 34.1875 6.109375 38.703125 11.40625 \nQ 43.21875 16.703125 43.21875 25.484375 \nL 43.21875 27.484375 \nz\nM 52.203125 31.203125 \nL 52.203125 0 \nL 43.21875 0 \nL 43.21875 8.296875 \nQ 40.140625 3.328125 35.546875 0.953125 \nQ 30.953125 -1.421875 24.3125 -1.421875 \nQ 15.921875 -1.421875 10.953125 3.296875 \nQ 6 8.015625 6 15.921875 \nQ 6 25.140625 12.171875 29.828125 \nQ 18.359375 34.515625 30.609375 34.515625 \nL 43.21875 34.515625 \nL 43.21875 35.40625 \nQ 43.21875 41.609375 39.140625 45 \nQ 35.0625 48.390625 27.6875 48.390625 \nQ 23 48.390625 18.546875 47.265625 \nQ 14.109375 46.140625 10.015625 43.890625 \nL 10.015625 52.203125 \nQ 14.9375 54.109375 19.578125 55.046875 \nQ 24.21875 56 28.609375 56 \nQ 40.484375 56 46.34375 49.84375 \nQ 52.203125 43.703125 52.203125 31.203125 \nz\n\" id=\"DejaVuSans-97\"/>\n       <path d=\"M 52 44.1875 \nQ 55.375 50.25 60.0625 53.125 \nQ 64.75 56 71.09375 56 \nQ 79.640625 56 84.28125 50.015625 \nQ 88.921875 44.046875 88.921875 33.015625 \nL 88.921875 0 \nL 79.890625 0 \nL 79.890625 32.71875 \nQ 79.890625 40.578125 77.09375 44.375 \nQ 74.3125 48.1875 68.609375 48.1875 \nQ 61.625 48.1875 57.5625 43.546875 \nQ 53.515625 38.921875 53.515625 30.90625 \nL 53.515625 0 \nL 44.484375 0 \nL 44.484375 32.71875 \nQ 44.484375 40.625 41.703125 44.40625 \nQ 38.921875 48.1875 33.109375 48.1875 \nQ 26.21875 48.1875 22.15625 43.53125 \nQ 18.109375 38.875 18.109375 30.90625 \nL 18.109375 0 \nL 9.078125 0 \nL 9.078125 54.6875 \nL 18.109375 54.6875 \nL 18.109375 46.1875 \nQ 21.1875 51.21875 25.484375 53.609375 \nQ 29.78125 56 35.6875 56 \nQ 41.65625 56 45.828125 52.96875 \nQ 50 49.953125 52 44.1875 \nz\n\" id=\"DejaVuSans-109\"/>\n       <path d=\"M 18.109375 8.203125 \nL 18.109375 -20.796875 \nL 9.078125 -20.796875 \nL 9.078125 54.6875 \nL 18.109375 54.6875 \nL 18.109375 46.390625 \nQ 20.953125 51.265625 25.265625 53.625 \nQ 29.59375 56 35.59375 56 \nQ 45.5625 56 51.78125 48.09375 \nQ 58.015625 40.1875 58.015625 27.296875 \nQ 58.015625 14.40625 51.78125 6.484375 \nQ 45.5625 -1.421875 35.59375 -1.421875 \nQ 29.59375 -1.421875 25.265625 0.953125 \nQ 20.953125 3.328125 18.109375 8.203125 \nz\nM 48.6875 27.296875 \nQ 48.6875 37.203125 44.609375 42.84375 \nQ 40.53125 48.484375 33.40625 48.484375 \nQ 26.265625 48.484375 22.1875 42.84375 \nQ 18.109375 37.203125 18.109375 27.296875 \nQ 18.109375 17.390625 22.1875 11.75 \nQ 26.265625 6.109375 33.40625 6.109375 \nQ 40.53125 6.109375 44.609375 11.75 \nQ 48.6875 17.390625 48.6875 27.296875 \nz\n\" id=\"DejaVuSans-112\"/>\n       <path d=\"M 44.28125 53.078125 \nL 44.28125 44.578125 \nQ 40.484375 46.53125 36.375 47.5 \nQ 32.28125 48.484375 27.875 48.484375 \nQ 21.1875 48.484375 17.84375 46.4375 \nQ 14.5 44.390625 14.5 40.28125 \nQ 14.5 37.15625 16.890625 35.375 \nQ 19.28125 33.59375 26.515625 31.984375 \nL 29.59375 31.296875 \nQ 39.15625 29.25 43.1875 25.515625 \nQ 47.21875 21.78125 47.21875 15.09375 \nQ 47.21875 7.46875 41.1875 3.015625 \nQ 35.15625 -1.421875 24.609375 -1.421875 \nQ 20.21875 -1.421875 15.453125 -0.5625 \nQ 10.6875 0.296875 5.421875 2 \nL 5.421875 11.28125 \nQ 10.40625 8.6875 15.234375 7.390625 \nQ 20.0625 6.109375 24.8125 6.109375 \nQ 31.15625 6.109375 34.5625 8.28125 \nQ 37.984375 10.453125 37.984375 14.40625 \nQ 37.984375 18.0625 35.515625 20.015625 \nQ 33.0625 21.96875 24.703125 23.78125 \nL 21.578125 24.515625 \nQ 13.234375 26.265625 9.515625 29.90625 \nQ 5.8125 33.546875 5.8125 39.890625 \nQ 5.8125 47.609375 11.28125 51.796875 \nQ 16.75 56 26.8125 56 \nQ 31.78125 56 36.171875 55.265625 \nQ 40.578125 54.546875 44.28125 53.078125 \nz\n\" id=\"DejaVuSans-115\"/>\n      </defs>\n      <g transform=\"translate(119.865688 304.196875)scale(0.1 -0.1)\">\n       <use xlink:href=\"#DejaVuSans-67\"/>\n       <use x=\"69.824219\" xlink:href=\"#DejaVuSans-97\"/>\n       <use x=\"131.103516\" xlink:href=\"#DejaVuSans-109\"/>\n       <use x=\"228.515625\" xlink:href=\"#DejaVuSans-112\"/>\n       <use x=\"291.992188\" xlink:href=\"#DejaVuSans-105\"/>\n       <use x=\"319.775391\" xlink:href=\"#DejaVuSans-110\"/>\n       <use x=\"383.154297\" xlink:href=\"#DejaVuSans-97\"/>\n       <use x=\"444.433594\" xlink:href=\"#DejaVuSans-115\"/>\n      </g>\n     </g>\n    </g>\n    <g id=\"xtick_3\">\n     <g id=\"line2d_3\">\n      <g>\n       <use style=\"stroke:#000000;stroke-width:0.8;\" x=\"216.11625\" xlink:href=\"#m37f236f9e0\" y=\"289.598437\"/>\n      </g>\n     </g>\n     <g id=\"text_3\">\n      <!-- Porto Alegre -->\n      <defs>\n       <path d=\"M 19.671875 64.796875 \nL 19.671875 37.40625 \nL 32.078125 37.40625 \nQ 38.96875 37.40625 42.71875 40.96875 \nQ 46.484375 44.53125 46.484375 51.125 \nQ 46.484375 57.671875 42.71875 61.234375 \nQ 38.96875 64.796875 32.078125 64.796875 \nz\nM 9.8125 72.90625 \nL 32.078125 72.90625 \nQ 44.34375 72.90625 50.609375 67.359375 \nQ 56.890625 61.8125 56.890625 51.125 \nQ 56.890625 40.328125 50.609375 34.8125 \nQ 44.34375 29.296875 32.078125 29.296875 \nL 19.671875 29.296875 \nL 19.671875 0 \nL 9.8125 0 \nz\n\" id=\"DejaVuSans-80\"/>\n       <path d=\"M 34.1875 63.1875 \nL 20.796875 26.90625 \nL 47.609375 26.90625 \nz\nM 28.609375 72.90625 \nL 39.796875 72.90625 \nL 67.578125 0 \nL 57.328125 0 \nL 50.6875 18.703125 \nL 17.828125 18.703125 \nL 11.1875 0 \nL 0.78125 0 \nz\n\" id=\"DejaVuSans-65\"/>\n       <path d=\"M 45.40625 27.984375 \nQ 45.40625 37.75 41.375 43.109375 \nQ 37.359375 48.484375 30.078125 48.484375 \nQ 22.859375 48.484375 18.828125 43.109375 \nQ 14.796875 37.75 14.796875 27.984375 \nQ 14.796875 18.265625 18.828125 12.890625 \nQ 22.859375 7.515625 30.078125 7.515625 \nQ 37.359375 7.515625 41.375 12.890625 \nQ 45.40625 18.265625 45.40625 27.984375 \nz\nM 54.390625 6.78125 \nQ 54.390625 -7.171875 48.1875 -13.984375 \nQ 42 -20.796875 29.203125 -20.796875 \nQ 24.46875 -20.796875 20.265625 -20.09375 \nQ 16.0625 -19.390625 12.109375 -17.921875 \nL 12.109375 -9.1875 \nQ 16.0625 -11.328125 19.921875 -12.34375 \nQ 23.78125 -13.375 27.78125 -13.375 \nQ 36.625 -13.375 41.015625 -8.765625 \nQ 45.40625 -4.15625 45.40625 5.171875 \nL 45.40625 9.625 \nQ 42.625 4.78125 38.28125 2.390625 \nQ 33.9375 0 27.875 0 \nQ 17.828125 0 11.671875 7.65625 \nQ 5.515625 15.328125 5.515625 27.984375 \nQ 5.515625 40.671875 11.671875 48.328125 \nQ 17.828125 56 27.875 56 \nQ 33.9375 56 38.28125 53.609375 \nQ 42.625 51.21875 45.40625 46.390625 \nL 45.40625 54.6875 \nL 54.390625 54.6875 \nz\n\" id=\"DejaVuSans-103\"/>\n      </defs>\n      <g transform=\"translate(185.479531 304.196875)scale(0.1 -0.1)\">\n       <use xlink:href=\"#DejaVuSans-80\"/>\n       <use x=\"56.677734\" xlink:href=\"#DejaVuSans-111\"/>\n       <use x=\"117.859375\" xlink:href=\"#DejaVuSans-114\"/>\n       <use x=\"158.972656\" xlink:href=\"#DejaVuSans-116\"/>\n       <use x=\"198.181641\" xlink:href=\"#DejaVuSans-111\"/>\n       <use x=\"259.363281\" xlink:href=\"#DejaVuSans-32\"/>\n       <use x=\"291.150391\" xlink:href=\"#DejaVuSans-65\"/>\n       <use x=\"359.558594\" xlink:href=\"#DejaVuSans-108\"/>\n       <use x=\"387.341797\" xlink:href=\"#DejaVuSans-101\"/>\n       <use x=\"448.865234\" xlink:href=\"#DejaVuSans-103\"/>\n       <use x=\"512.341797\" xlink:href=\"#DejaVuSans-114\"/>\n       <use x=\"551.205078\" xlink:href=\"#DejaVuSans-101\"/>\n      </g>\n     </g>\n    </g>\n    <g id=\"xtick_4\">\n     <g id=\"line2d_4\">\n      <g>\n       <use style=\"stroke:#000000;stroke-width:0.8;\" x=\"287.54025\" xlink:href=\"#m37f236f9e0\" y=\"289.598437\"/>\n      </g>\n     </g>\n     <g id=\"text_4\">\n      <!-- Rio de Janeiro -->\n      <defs>\n       <path d=\"M 44.390625 34.1875 \nQ 47.5625 33.109375 50.5625 29.59375 \nQ 53.5625 26.078125 56.59375 19.921875 \nL 66.609375 0 \nL 56 0 \nL 46.6875 18.703125 \nQ 43.0625 26.03125 39.671875 28.421875 \nQ 36.28125 30.8125 30.421875 30.8125 \nL 19.671875 30.8125 \nL 19.671875 0 \nL 9.8125 0 \nL 9.8125 72.90625 \nL 32.078125 72.90625 \nQ 44.578125 72.90625 50.734375 67.671875 \nQ 56.890625 62.453125 56.890625 51.90625 \nQ 56.890625 45.015625 53.6875 40.46875 \nQ 50.484375 35.9375 44.390625 34.1875 \nz\nM 19.671875 64.796875 \nL 19.671875 38.921875 \nL 32.078125 38.921875 \nQ 39.203125 38.921875 42.84375 42.21875 \nQ 46.484375 45.515625 46.484375 51.90625 \nQ 46.484375 58.296875 42.84375 61.546875 \nQ 39.203125 64.796875 32.078125 64.796875 \nz\n\" id=\"DejaVuSans-82\"/>\n       <path d=\"M 45.40625 46.390625 \nL 45.40625 75.984375 \nL 54.390625 75.984375 \nL 54.390625 0 \nL 45.40625 0 \nL 45.40625 8.203125 \nQ 42.578125 3.328125 38.25 0.953125 \nQ 33.9375 -1.421875 27.875 -1.421875 \nQ 17.96875 -1.421875 11.734375 6.484375 \nQ 5.515625 14.40625 5.515625 27.296875 \nQ 5.515625 40.1875 11.734375 48.09375 \nQ 17.96875 56 27.875 56 \nQ 33.9375 56 38.25 53.625 \nQ 42.578125 51.265625 45.40625 46.390625 \nz\nM 14.796875 27.296875 \nQ 14.796875 17.390625 18.875 11.75 \nQ 22.953125 6.109375 30.078125 6.109375 \nQ 37.203125 6.109375 41.296875 11.75 \nQ 45.40625 17.390625 45.40625 27.296875 \nQ 45.40625 37.203125 41.296875 42.84375 \nQ 37.203125 48.484375 30.078125 48.484375 \nQ 22.953125 48.484375 18.875 42.84375 \nQ 14.796875 37.203125 14.796875 27.296875 \nz\n\" id=\"DejaVuSans-100\"/>\n       <path d=\"M 9.8125 72.90625 \nL 19.671875 72.90625 \nL 19.671875 5.078125 \nQ 19.671875 -8.109375 14.671875 -14.0625 \nQ 9.671875 -20.015625 -1.421875 -20.015625 \nL -5.171875 -20.015625 \nL -5.171875 -11.71875 \nL -2.09375 -11.71875 \nQ 4.4375 -11.71875 7.125 -8.046875 \nQ 9.8125 -4.390625 9.8125 5.078125 \nz\n\" id=\"DejaVuSans-74\"/>\n      </defs>\n      <g transform=\"translate(253.012906 304.196875)scale(0.1 -0.1)\">\n       <use xlink:href=\"#DejaVuSans-82\"/>\n       <use x=\"69.482422\" xlink:href=\"#DejaVuSans-105\"/>\n       <use x=\"97.265625\" xlink:href=\"#DejaVuSans-111\"/>\n       <use x=\"158.447266\" xlink:href=\"#DejaVuSans-32\"/>\n       <use x=\"190.234375\" xlink:href=\"#DejaVuSans-100\"/>\n       <use x=\"253.710938\" xlink:href=\"#DejaVuSans-101\"/>\n       <use x=\"315.234375\" xlink:href=\"#DejaVuSans-32\"/>\n       <use x=\"347.021484\" xlink:href=\"#DejaVuSans-74\"/>\n       <use x=\"376.513672\" xlink:href=\"#DejaVuSans-97\"/>\n       <use x=\"437.792969\" xlink:href=\"#DejaVuSans-110\"/>\n       <use x=\"501.171875\" xlink:href=\"#DejaVuSans-101\"/>\n       <use x=\"562.695312\" xlink:href=\"#DejaVuSans-105\"/>\n       <use x=\"590.478516\" xlink:href=\"#DejaVuSans-114\"/>\n       <use x=\"629.341797\" xlink:href=\"#DejaVuSans-111\"/>\n      </g>\n     </g>\n    </g>\n    <g id=\"xtick_5\">\n     <g id=\"line2d_5\">\n      <g>\n       <use style=\"stroke:#000000;stroke-width:0.8;\" x=\"358.96425\" xlink:href=\"#m37f236f9e0\" y=\"289.598437\"/>\n      </g>\n     </g>\n     <g id=\"text_5\">\n      <!-- São Paulo -->\n      <defs>\n       <path d=\"M 53.515625 70.515625 \nL 53.515625 60.890625 \nQ 47.90625 63.578125 42.921875 64.890625 \nQ 37.9375 66.21875 33.296875 66.21875 \nQ 25.25 66.21875 20.875 63.09375 \nQ 16.5 59.96875 16.5 54.203125 \nQ 16.5 49.359375 19.40625 46.890625 \nQ 22.3125 44.4375 30.421875 42.921875 \nL 36.375 41.703125 \nQ 47.40625 39.59375 52.65625 34.296875 \nQ 57.90625 29 57.90625 20.125 \nQ 57.90625 9.515625 50.796875 4.046875 \nQ 43.703125 -1.421875 29.984375 -1.421875 \nQ 24.8125 -1.421875 18.96875 -0.25 \nQ 13.140625 0.921875 6.890625 3.21875 \nL 6.890625 13.375 \nQ 12.890625 10.015625 18.65625 8.296875 \nQ 24.421875 6.59375 29.984375 6.59375 \nQ 38.421875 6.59375 43.015625 9.90625 \nQ 47.609375 13.234375 47.609375 19.390625 \nQ 47.609375 24.75 44.3125 27.78125 \nQ 41.015625 30.8125 33.5 32.328125 \nL 27.484375 33.5 \nQ 16.453125 35.6875 11.515625 40.375 \nQ 6.59375 45.0625 6.59375 53.421875 \nQ 6.59375 63.09375 13.40625 68.65625 \nQ 20.21875 74.21875 32.171875 74.21875 \nQ 37.3125 74.21875 42.625 73.28125 \nQ 47.953125 72.359375 53.515625 70.515625 \nz\n\" id=\"DejaVuSans-83\"/>\n       <path d=\"M 34.28125 27.484375 \nQ 23.390625 27.484375 19.1875 25 \nQ 14.984375 22.515625 14.984375 16.5 \nQ 14.984375 11.71875 18.140625 8.90625 \nQ 21.296875 6.109375 26.703125 6.109375 \nQ 34.1875 6.109375 38.703125 11.40625 \nQ 43.21875 16.703125 43.21875 25.484375 \nL 43.21875 27.484375 \nz\nM 52.203125 31.203125 \nL 52.203125 0 \nL 43.21875 0 \nL 43.21875 8.296875 \nQ 40.140625 3.328125 35.546875 0.953125 \nQ 30.953125 -1.421875 24.3125 -1.421875 \nQ 15.921875 -1.421875 10.953125 3.296875 \nQ 6 8.015625 6 15.921875 \nQ 6 25.140625 12.171875 29.828125 \nQ 18.359375 34.515625 30.609375 34.515625 \nL 43.21875 34.515625 \nL 43.21875 35.40625 \nQ 43.21875 41.609375 39.140625 45 \nQ 35.0625 48.390625 27.6875 48.390625 \nQ 23 48.390625 18.546875 47.265625 \nQ 14.109375 46.140625 10.015625 43.890625 \nL 10.015625 52.203125 \nQ 14.9375 54.109375 19.578125 55.046875 \nQ 24.21875 56 28.609375 56 \nQ 40.484375 56 46.34375 49.84375 \nQ 52.203125 43.703125 52.203125 31.203125 \nz\nM 28.8125 66.890625 \nL 26.015625 69.578125 \nQ 24.953125 70.5625 24.140625 71.015625 \nQ 23.34375 71.484375 22.703125 71.484375 \nQ 20.84375 71.484375 19.96875 69.703125 \nQ 19.09375 67.921875 18.984375 63.921875 \nL 12.890625 63.921875 \nQ 12.984375 70.515625 15.46875 74.09375 \nQ 17.96875 77.6875 22.40625 77.6875 \nQ 24.265625 77.6875 25.828125 77 \nQ 27.390625 76.3125 29.203125 74.703125 \nL 31.984375 72.015625 \nQ 33.046875 71.046875 33.859375 70.578125 \nQ 34.671875 70.125 35.296875 70.125 \nQ 37.15625 70.125 38.03125 71.90625 \nQ 38.90625 73.6875 39.015625 77.6875 \nL 45.109375 77.6875 \nQ 45.015625 71.09375 42.515625 67.5 \nQ 40.03125 63.921875 35.59375 63.921875 \nQ 33.734375 63.921875 32.171875 64.59375 \nQ 30.609375 65.28125 28.8125 66.890625 \nz\n\" id=\"DejaVuSans-227\"/>\n       <path d=\"M 8.5 21.578125 \nL 8.5 54.6875 \nL 17.484375 54.6875 \nL 17.484375 21.921875 \nQ 17.484375 14.15625 20.5 10.265625 \nQ 23.53125 6.390625 29.59375 6.390625 \nQ 36.859375 6.390625 41.078125 11.03125 \nQ 45.3125 15.671875 45.3125 23.6875 \nL 45.3125 54.6875 \nL 54.296875 54.6875 \nL 54.296875 0 \nL 45.3125 0 \nL 45.3125 8.40625 \nQ 42.046875 3.421875 37.71875 1 \nQ 33.40625 -1.421875 27.6875 -1.421875 \nQ 18.265625 -1.421875 13.375 4.4375 \nQ 8.5 10.296875 8.5 21.578125 \nz\nM 31.109375 56 \nz\n\" id=\"DejaVuSans-117\"/>\n      </defs>\n      <g transform=\"translate(334.606438 304.196875)scale(0.1 -0.1)\">\n       <use xlink:href=\"#DejaVuSans-83\"/>\n       <use x=\"63.476562\" xlink:href=\"#DejaVuSans-227\"/>\n       <use x=\"124.755859\" xlink:href=\"#DejaVuSans-111\"/>\n       <use x=\"185.9375\" xlink:href=\"#DejaVuSans-32\"/>\n       <use x=\"217.724609\" xlink:href=\"#DejaVuSans-80\"/>\n       <use x=\"273.527344\" xlink:href=\"#DejaVuSans-97\"/>\n       <use x=\"334.806641\" xlink:href=\"#DejaVuSans-117\"/>\n       <use x=\"398.185547\" xlink:href=\"#DejaVuSans-108\"/>\n       <use x=\"425.96875\" xlink:href=\"#DejaVuSans-111\"/>\n      </g>\n     </g>\n    </g>\n    <g id=\"text_6\">\n     <!-- city -->\n     <defs>\n      <path d=\"M 48.78125 52.59375 \nL 48.78125 44.1875 \nQ 44.96875 46.296875 41.140625 47.34375 \nQ 37.3125 48.390625 33.40625 48.390625 \nQ 24.65625 48.390625 19.8125 42.84375 \nQ 14.984375 37.3125 14.984375 27.296875 \nQ 14.984375 17.28125 19.8125 11.734375 \nQ 24.65625 6.203125 33.40625 6.203125 \nQ 37.3125 6.203125 41.140625 7.25 \nQ 44.96875 8.296875 48.78125 10.40625 \nL 48.78125 2.09375 \nQ 45.015625 0.34375 40.984375 -0.53125 \nQ 36.96875 -1.421875 32.421875 -1.421875 \nQ 20.0625 -1.421875 12.78125 6.34375 \nQ 5.515625 14.109375 5.515625 27.296875 \nQ 5.515625 40.671875 12.859375 48.328125 \nQ 20.21875 56 33.015625 56 \nQ 37.15625 56 41.109375 55.140625 \nQ 45.0625 54.296875 48.78125 52.59375 \nz\n\" id=\"DejaVuSans-99\"/>\n      <path d=\"M 32.171875 -5.078125 \nQ 28.375 -14.84375 24.75 -17.8125 \nQ 21.140625 -20.796875 15.09375 -20.796875 \nL 7.90625 -20.796875 \nL 7.90625 -13.28125 \nL 13.1875 -13.28125 \nQ 16.890625 -13.28125 18.9375 -11.515625 \nQ 21 -9.765625 23.484375 -3.21875 \nL 25.09375 0.875 \nL 2.984375 54.6875 \nL 12.5 54.6875 \nL 29.59375 11.921875 \nL 46.6875 54.6875 \nL 56.203125 54.6875 \nz\n\" id=\"DejaVuSans-121\"/>\n     </defs>\n     <g transform=\"translate(207.058438 317.875)scale(0.1 -0.1)\">\n      <use xlink:href=\"#DejaVuSans-99\"/>\n      <use x=\"54.980469\" xlink:href=\"#DejaVuSans-105\"/>\n      <use x=\"82.763672\" xlink:href=\"#DejaVuSans-116\"/>\n      <use x=\"121.972656\" xlink:href=\"#DejaVuSans-121\"/>\n     </g>\n    </g>\n   </g>\n   <g id=\"matplotlib.axis_2\">\n    <g id=\"ytick_1\">\n     <g id=\"line2d_6\">\n      <defs>\n       <path d=\"M 0 0 \nL -3.5 0 \n\" id=\"m83395ff825\" style=\"stroke:#000000;stroke-width:0.8;\"/>\n      </defs>\n      <g>\n       <use style=\"stroke:#000000;stroke-width:0.8;\" x=\"37.55625\" xlink:href=\"#m83395ff825\" y=\"30.152983\"/>\n      </g>\n     </g>\n     <g id=\"text_7\">\n      <!-- 1 -->\n      <defs>\n       <path d=\"M 12.40625 8.296875 \nL 28.515625 8.296875 \nL 28.515625 63.921875 \nL 10.984375 60.40625 \nL 10.984375 69.390625 \nL 28.421875 72.90625 \nL 38.28125 72.90625 \nL 38.28125 8.296875 \nL 54.390625 8.296875 \nL 54.390625 0 \nL 12.40625 0 \nz\n\" id=\"DejaVuSans-49\"/>\n      </defs>\n      <g transform=\"translate(28.476563 32.716264)rotate(-90)scale(0.1 -0.1)\">\n       <use xlink:href=\"#DejaVuSans-49\"/>\n      </g>\n     </g>\n    </g>\n    <g id=\"ytick_2\">\n     <g id=\"line2d_7\">\n      <g>\n       <use style=\"stroke:#000000;stroke-width:0.8;\" x=\"37.55625\" xlink:href=\"#m83395ff825\" y=\"54.862074\"/>\n      </g>\n     </g>\n     <g id=\"text_8\">\n      <!-- 2 -->\n      <defs>\n       <path d=\"M 19.1875 8.296875 \nL 53.609375 8.296875 \nL 53.609375 0 \nL 7.328125 0 \nL 7.328125 8.296875 \nQ 12.9375 14.109375 22.625 23.890625 \nQ 32.328125 33.6875 34.8125 36.53125 \nQ 39.546875 41.84375 41.421875 45.53125 \nQ 43.3125 49.21875 43.3125 52.78125 \nQ 43.3125 58.59375 39.234375 62.25 \nQ 35.15625 65.921875 28.609375 65.921875 \nQ 23.96875 65.921875 18.8125 64.3125 \nQ 13.671875 62.703125 7.8125 59.421875 \nL 7.8125 69.390625 \nQ 13.765625 71.78125 18.9375 73 \nQ 24.125 74.21875 28.421875 74.21875 \nQ 39.75 74.21875 46.484375 68.546875 \nQ 53.21875 62.890625 53.21875 53.421875 \nQ 53.21875 48.921875 51.53125 44.890625 \nQ 49.859375 40.875 45.40625 35.40625 \nQ 44.1875 33.984375 37.640625 27.21875 \nQ 31.109375 20.453125 19.1875 8.296875 \nz\n\" id=\"DejaVuSans-50\"/>\n      </defs>\n      <g transform=\"translate(28.476563 57.425355)rotate(-90)scale(0.1 -0.1)\">\n       <use xlink:href=\"#DejaVuSans-50\"/>\n      </g>\n     </g>\n    </g>\n    <g id=\"ytick_3\">\n     <g id=\"line2d_8\">\n      <g>\n       <use style=\"stroke:#000000;stroke-width:0.8;\" x=\"37.55625\" xlink:href=\"#m83395ff825\" y=\"79.571165\"/>\n      </g>\n     </g>\n     <g id=\"text_9\">\n      <!-- 3 -->\n      <defs>\n       <path d=\"M 40.578125 39.3125 \nQ 47.65625 37.796875 51.625 33 \nQ 55.609375 28.21875 55.609375 21.1875 \nQ 55.609375 10.40625 48.1875 4.484375 \nQ 40.765625 -1.421875 27.09375 -1.421875 \nQ 22.515625 -1.421875 17.65625 -0.515625 \nQ 12.796875 0.390625 7.625 2.203125 \nL 7.625 11.71875 \nQ 11.71875 9.328125 16.59375 8.109375 \nQ 21.484375 6.890625 26.8125 6.890625 \nQ 36.078125 6.890625 40.9375 10.546875 \nQ 45.796875 14.203125 45.796875 21.1875 \nQ 45.796875 27.640625 41.28125 31.265625 \nQ 36.765625 34.90625 28.71875 34.90625 \nL 20.21875 34.90625 \nL 20.21875 43.015625 \nL 29.109375 43.015625 \nQ 36.375 43.015625 40.234375 45.921875 \nQ 44.09375 48.828125 44.09375 54.296875 \nQ 44.09375 59.90625 40.109375 62.90625 \nQ 36.140625 65.921875 28.71875 65.921875 \nQ 24.65625 65.921875 20.015625 65.03125 \nQ 15.375 64.15625 9.8125 62.3125 \nL 9.8125 71.09375 \nQ 15.4375 72.65625 20.34375 73.4375 \nQ 25.25 74.21875 29.59375 74.21875 \nQ 40.828125 74.21875 47.359375 69.109375 \nQ 53.90625 64.015625 53.90625 55.328125 \nQ 53.90625 49.265625 50.4375 45.09375 \nQ 46.96875 40.921875 40.578125 39.3125 \nz\n\" id=\"DejaVuSans-51\"/>\n      </defs>\n      <g transform=\"translate(28.476563 82.134446)rotate(-90)scale(0.1 -0.1)\">\n       <use xlink:href=\"#DejaVuSans-51\"/>\n      </g>\n     </g>\n    </g>\n    <g id=\"ytick_4\">\n     <g id=\"line2d_9\">\n      <g>\n       <use style=\"stroke:#000000;stroke-width:0.8;\" x=\"37.55625\" xlink:href=\"#m83395ff825\" y=\"104.280256\"/>\n      </g>\n     </g>\n     <g id=\"text_10\">\n      <!-- 4 -->\n      <defs>\n       <path d=\"M 37.796875 64.3125 \nL 12.890625 25.390625 \nL 37.796875 25.390625 \nz\nM 35.203125 72.90625 \nL 47.609375 72.90625 \nL 47.609375 25.390625 \nL 58.015625 25.390625 \nL 58.015625 17.1875 \nL 47.609375 17.1875 \nL 47.609375 0 \nL 37.796875 0 \nL 37.796875 17.1875 \nL 4.890625 17.1875 \nL 4.890625 26.703125 \nz\n\" id=\"DejaVuSans-52\"/>\n      </defs>\n      <g transform=\"translate(28.476563 106.843537)rotate(-90)scale(0.1 -0.1)\">\n       <use xlink:href=\"#DejaVuSans-52\"/>\n      </g>\n     </g>\n    </g>\n    <g id=\"ytick_5\">\n     <g id=\"line2d_10\">\n      <g>\n       <use style=\"stroke:#000000;stroke-width:0.8;\" x=\"37.55625\" xlink:href=\"#m83395ff825\" y=\"128.989347\"/>\n      </g>\n     </g>\n     <g id=\"text_11\">\n      <!-- 5 -->\n      <defs>\n       <path d=\"M 10.796875 72.90625 \nL 49.515625 72.90625 \nL 49.515625 64.59375 \nL 19.828125 64.59375 \nL 19.828125 46.734375 \nQ 21.96875 47.46875 24.109375 47.828125 \nQ 26.265625 48.1875 28.421875 48.1875 \nQ 40.625 48.1875 47.75 41.5 \nQ 54.890625 34.8125 54.890625 23.390625 \nQ 54.890625 11.625 47.5625 5.09375 \nQ 40.234375 -1.421875 26.90625 -1.421875 \nQ 22.3125 -1.421875 17.546875 -0.640625 \nQ 12.796875 0.140625 7.71875 1.703125 \nL 7.71875 11.625 \nQ 12.109375 9.234375 16.796875 8.0625 \nQ 21.484375 6.890625 26.703125 6.890625 \nQ 35.15625 6.890625 40.078125 11.328125 \nQ 45.015625 15.765625 45.015625 23.390625 \nQ 45.015625 31 40.078125 35.4375 \nQ 35.15625 39.890625 26.703125 39.890625 \nQ 22.75 39.890625 18.8125 39.015625 \nQ 14.890625 38.140625 10.796875 36.28125 \nz\n\" id=\"DejaVuSans-53\"/>\n      </defs>\n      <g transform=\"translate(28.476563 131.552628)rotate(-90)scale(0.1 -0.1)\">\n       <use xlink:href=\"#DejaVuSans-53\"/>\n      </g>\n     </g>\n    </g>\n    <g id=\"ytick_6\">\n     <g id=\"line2d_11\">\n      <g>\n       <use style=\"stroke:#000000;stroke-width:0.8;\" x=\"37.55625\" xlink:href=\"#m83395ff825\" y=\"153.698438\"/>\n      </g>\n     </g>\n     <g id=\"text_12\">\n      <!-- 6 -->\n      <defs>\n       <path d=\"M 33.015625 40.375 \nQ 26.375 40.375 22.484375 35.828125 \nQ 18.609375 31.296875 18.609375 23.390625 \nQ 18.609375 15.53125 22.484375 10.953125 \nQ 26.375 6.390625 33.015625 6.390625 \nQ 39.65625 6.390625 43.53125 10.953125 \nQ 47.40625 15.53125 47.40625 23.390625 \nQ 47.40625 31.296875 43.53125 35.828125 \nQ 39.65625 40.375 33.015625 40.375 \nz\nM 52.59375 71.296875 \nL 52.59375 62.3125 \nQ 48.875 64.0625 45.09375 64.984375 \nQ 41.3125 65.921875 37.59375 65.921875 \nQ 27.828125 65.921875 22.671875 59.328125 \nQ 17.53125 52.734375 16.796875 39.40625 \nQ 19.671875 43.65625 24.015625 45.921875 \nQ 28.375 48.1875 33.59375 48.1875 \nQ 44.578125 48.1875 50.953125 41.515625 \nQ 57.328125 34.859375 57.328125 23.390625 \nQ 57.328125 12.15625 50.6875 5.359375 \nQ 44.046875 -1.421875 33.015625 -1.421875 \nQ 20.359375 -1.421875 13.671875 8.265625 \nQ 6.984375 17.96875 6.984375 36.375 \nQ 6.984375 53.65625 15.1875 63.9375 \nQ 23.390625 74.21875 37.203125 74.21875 \nQ 40.921875 74.21875 44.703125 73.484375 \nQ 48.484375 72.75 52.59375 71.296875 \nz\n\" id=\"DejaVuSans-54\"/>\n      </defs>\n      <g transform=\"translate(28.476563 156.261719)rotate(-90)scale(0.1 -0.1)\">\n       <use xlink:href=\"#DejaVuSans-54\"/>\n      </g>\n     </g>\n    </g>\n    <g id=\"ytick_7\">\n     <g id=\"line2d_12\">\n      <g>\n       <use style=\"stroke:#000000;stroke-width:0.8;\" x=\"37.55625\" xlink:href=\"#m83395ff825\" y=\"178.407528\"/>\n      </g>\n     </g>\n     <g id=\"text_13\">\n      <!-- 7 -->\n      <defs>\n       <path d=\"M 8.203125 72.90625 \nL 55.078125 72.90625 \nL 55.078125 68.703125 \nL 28.609375 0 \nL 18.3125 0 \nL 43.21875 64.59375 \nL 8.203125 64.59375 \nz\n\" id=\"DejaVuSans-55\"/>\n      </defs>\n      <g transform=\"translate(28.476563 180.97081)rotate(-90)scale(0.1 -0.1)\">\n       <use xlink:href=\"#DejaVuSans-55\"/>\n      </g>\n     </g>\n    </g>\n    <g id=\"ytick_8\">\n     <g id=\"line2d_13\">\n      <g>\n       <use style=\"stroke:#000000;stroke-width:0.8;\" x=\"37.55625\" xlink:href=\"#m83395ff825\" y=\"203.116619\"/>\n      </g>\n     </g>\n     <g id=\"text_14\">\n      <!-- 8 -->\n      <defs>\n       <path d=\"M 31.78125 34.625 \nQ 24.75 34.625 20.71875 30.859375 \nQ 16.703125 27.09375 16.703125 20.515625 \nQ 16.703125 13.921875 20.71875 10.15625 \nQ 24.75 6.390625 31.78125 6.390625 \nQ 38.8125 6.390625 42.859375 10.171875 \nQ 46.921875 13.96875 46.921875 20.515625 \nQ 46.921875 27.09375 42.890625 30.859375 \nQ 38.875 34.625 31.78125 34.625 \nz\nM 21.921875 38.8125 \nQ 15.578125 40.375 12.03125 44.71875 \nQ 8.5 49.078125 8.5 55.328125 \nQ 8.5 64.0625 14.71875 69.140625 \nQ 20.953125 74.21875 31.78125 74.21875 \nQ 42.671875 74.21875 48.875 69.140625 \nQ 55.078125 64.0625 55.078125 55.328125 \nQ 55.078125 49.078125 51.53125 44.71875 \nQ 48 40.375 41.703125 38.8125 \nQ 48.828125 37.15625 52.796875 32.3125 \nQ 56.78125 27.484375 56.78125 20.515625 \nQ 56.78125 9.90625 50.3125 4.234375 \nQ 43.84375 -1.421875 31.78125 -1.421875 \nQ 19.734375 -1.421875 13.25 4.234375 \nQ 6.78125 9.90625 6.78125 20.515625 \nQ 6.78125 27.484375 10.78125 32.3125 \nQ 14.796875 37.15625 21.921875 38.8125 \nz\nM 18.3125 54.390625 \nQ 18.3125 48.734375 21.84375 45.5625 \nQ 25.390625 42.390625 31.78125 42.390625 \nQ 38.140625 42.390625 41.71875 45.5625 \nQ 45.3125 48.734375 45.3125 54.390625 \nQ 45.3125 60.0625 41.71875 63.234375 \nQ 38.140625 66.40625 31.78125 66.40625 \nQ 25.390625 66.40625 21.84375 63.234375 \nQ 18.3125 60.0625 18.3125 54.390625 \nz\n\" id=\"DejaVuSans-56\"/>\n      </defs>\n      <g transform=\"translate(28.476563 205.679901)rotate(-90)scale(0.1 -0.1)\">\n       <use xlink:href=\"#DejaVuSans-56\"/>\n      </g>\n     </g>\n    </g>\n    <g id=\"ytick_9\">\n     <g id=\"line2d_14\">\n      <g>\n       <use style=\"stroke:#000000;stroke-width:0.8;\" x=\"37.55625\" xlink:href=\"#m83395ff825\" y=\"227.82571\"/>\n      </g>\n     </g>\n     <g id=\"text_15\">\n      <!-- 9 -->\n      <defs>\n       <path d=\"M 10.984375 1.515625 \nL 10.984375 10.5 \nQ 14.703125 8.734375 18.5 7.8125 \nQ 22.3125 6.890625 25.984375 6.890625 \nQ 35.75 6.890625 40.890625 13.453125 \nQ 46.046875 20.015625 46.78125 33.40625 \nQ 43.953125 29.203125 39.59375 26.953125 \nQ 35.25 24.703125 29.984375 24.703125 \nQ 19.046875 24.703125 12.671875 31.3125 \nQ 6.296875 37.9375 6.296875 49.421875 \nQ 6.296875 60.640625 12.9375 67.421875 \nQ 19.578125 74.21875 30.609375 74.21875 \nQ 43.265625 74.21875 49.921875 64.515625 \nQ 56.59375 54.828125 56.59375 36.375 \nQ 56.59375 19.140625 48.40625 8.859375 \nQ 40.234375 -1.421875 26.421875 -1.421875 \nQ 22.703125 -1.421875 18.890625 -0.6875 \nQ 15.09375 0.046875 10.984375 1.515625 \nz\nM 30.609375 32.421875 \nQ 37.25 32.421875 41.125 36.953125 \nQ 45.015625 41.5 45.015625 49.421875 \nQ 45.015625 57.28125 41.125 61.84375 \nQ 37.25 66.40625 30.609375 66.40625 \nQ 23.96875 66.40625 20.09375 61.84375 \nQ 16.21875 57.28125 16.21875 49.421875 \nQ 16.21875 41.5 20.09375 36.953125 \nQ 23.96875 32.421875 30.609375 32.421875 \nz\n\" id=\"DejaVuSans-57\"/>\n      </defs>\n      <g transform=\"translate(28.476563 230.388991)rotate(-90)scale(0.1 -0.1)\">\n       <use xlink:href=\"#DejaVuSans-57\"/>\n      </g>\n     </g>\n    </g>\n    <g id=\"ytick_10\">\n     <g id=\"line2d_15\">\n      <g>\n       <use style=\"stroke:#000000;stroke-width:0.8;\" x=\"37.55625\" xlink:href=\"#m83395ff825\" y=\"252.534801\"/>\n      </g>\n     </g>\n     <g id=\"text_16\">\n      <!-- 10 -->\n      <defs>\n       <path d=\"M 31.78125 66.40625 \nQ 24.171875 66.40625 20.328125 58.90625 \nQ 16.5 51.421875 16.5 36.375 \nQ 16.5 21.390625 20.328125 13.890625 \nQ 24.171875 6.390625 31.78125 6.390625 \nQ 39.453125 6.390625 43.28125 13.890625 \nQ 47.125 21.390625 47.125 36.375 \nQ 47.125 51.421875 43.28125 58.90625 \nQ 39.453125 66.40625 31.78125 66.40625 \nz\nM 31.78125 74.21875 \nQ 44.046875 74.21875 50.515625 64.515625 \nQ 56.984375 54.828125 56.984375 36.375 \nQ 56.984375 17.96875 50.515625 8.265625 \nQ 44.046875 -1.421875 31.78125 -1.421875 \nQ 19.53125 -1.421875 13.0625 8.265625 \nQ 6.59375 17.96875 6.59375 36.375 \nQ 6.59375 54.828125 13.0625 64.515625 \nQ 19.53125 74.21875 31.78125 74.21875 \nz\n\" id=\"DejaVuSans-48\"/>\n      </defs>\n      <g transform=\"translate(28.476563 261.460582)rotate(-90)scale(0.1 -0.1)\">\n       <use xlink:href=\"#DejaVuSans-49\"/>\n       <use x=\"63.623047\" xlink:href=\"#DejaVuSans-48\"/>\n      </g>\n     </g>\n    </g>\n    <g id=\"ytick_11\">\n     <g id=\"line2d_16\">\n      <g>\n       <use style=\"stroke:#000000;stroke-width:0.8;\" x=\"37.55625\" xlink:href=\"#m83395ff825\" y=\"277.243892\"/>\n      </g>\n     </g>\n     <g id=\"text_17\">\n      <!-- 13 -->\n      <g transform=\"translate(28.476563 286.169673)rotate(-90)scale(0.1 -0.1)\">\n       <use xlink:href=\"#DejaVuSans-49\"/>\n       <use x=\"63.623047\" xlink:href=\"#DejaVuSans-51\"/>\n      </g>\n     </g>\n    </g>\n    <g id=\"text_18\">\n     <!-- rooms -->\n     <g transform=\"translate(14.798438 169.235156)rotate(-90)scale(0.1 -0.1)\">\n      <use xlink:href=\"#DejaVuSans-114\"/>\n      <use x=\"38.863281\" xlink:href=\"#DejaVuSans-111\"/>\n      <use x=\"100.044922\" xlink:href=\"#DejaVuSans-111\"/>\n      <use x=\"161.226562\" xlink:href=\"#DejaVuSans-109\"/>\n      <use x=\"258.638672\" xlink:href=\"#DejaVuSans-115\"/>\n     </g>\n    </g>\n   </g>\n   <g id=\"text_19\">\n    <!-- 10051.0 -->\n    <defs>\n     <path d=\"M 10.6875 12.40625 \nL 21 12.40625 \nL 21 0 \nL 10.6875 0 \nz\n\" id=\"DejaVuSans-46\"/>\n    </defs>\n    <g style=\"fill:#ffffff;\" transform=\"translate(52.591688 32.912358)scale(0.1 -0.1)\">\n     <use xlink:href=\"#DejaVuSans-49\"/>\n     <use x=\"63.623047\" xlink:href=\"#DejaVuSans-48\"/>\n     <use x=\"127.246094\" xlink:href=\"#DejaVuSans-48\"/>\n     <use x=\"190.869141\" xlink:href=\"#DejaVuSans-53\"/>\n     <use x=\"254.492188\" xlink:href=\"#DejaVuSans-49\"/>\n     <use x=\"318.115234\" xlink:href=\"#DejaVuSans-46\"/>\n     <use x=\"349.902344\" xlink:href=\"#DejaVuSans-48\"/>\n    </g>\n   </g>\n   <g id=\"text_20\">\n    <!-- 10063.0 -->\n    <g style=\"fill:#ffffff;\" transform=\"translate(124.015688 32.912358)scale(0.1 -0.1)\">\n     <use xlink:href=\"#DejaVuSans-49\"/>\n     <use x=\"63.623047\" xlink:href=\"#DejaVuSans-48\"/>\n     <use x=\"127.246094\" xlink:href=\"#DejaVuSans-48\"/>\n     <use x=\"190.869141\" xlink:href=\"#DejaVuSans-54\"/>\n     <use x=\"254.492188\" xlink:href=\"#DejaVuSans-51\"/>\n     <use x=\"318.115234\" xlink:href=\"#DejaVuSans-46\"/>\n     <use x=\"349.902344\" xlink:href=\"#DejaVuSans-48\"/>\n    </g>\n   </g>\n   <g id=\"text_21\">\n    <!-- 17457.0 -->\n    <g style=\"fill:#ffffff;\" transform=\"translate(195.439688 32.912358)scale(0.1 -0.1)\">\n     <use xlink:href=\"#DejaVuSans-49\"/>\n     <use x=\"63.623047\" xlink:href=\"#DejaVuSans-55\"/>\n     <use x=\"127.246094\" xlink:href=\"#DejaVuSans-52\"/>\n     <use x=\"190.869141\" xlink:href=\"#DejaVuSans-53\"/>\n     <use x=\"254.492188\" xlink:href=\"#DejaVuSans-55\"/>\n     <use x=\"318.115234\" xlink:href=\"#DejaVuSans-46\"/>\n     <use x=\"349.902344\" xlink:href=\"#DejaVuSans-48\"/>\n    </g>\n   </g>\n   <g id=\"text_22\">\n    <!-- 40402.0 -->\n    <g style=\"fill:#ffffff;\" transform=\"translate(266.863688 32.912358)scale(0.1 -0.1)\">\n     <use xlink:href=\"#DejaVuSans-52\"/>\n     <use x=\"63.623047\" xlink:href=\"#DejaVuSans-48\"/>\n     <use x=\"127.246094\" xlink:href=\"#DejaVuSans-52\"/>\n     <use x=\"190.869141\" xlink:href=\"#DejaVuSans-48\"/>\n     <use x=\"254.492188\" xlink:href=\"#DejaVuSans-50\"/>\n     <use x=\"318.115234\" xlink:href=\"#DejaVuSans-46\"/>\n     <use x=\"349.902344\" xlink:href=\"#DejaVuSans-48\"/>\n    </g>\n   </g>\n   <g id=\"text_23\">\n    <!-- 421098.0 -->\n    <g style=\"fill:#ffffff;\" transform=\"translate(335.106438 32.912358)scale(0.1 -0.1)\">\n     <use xlink:href=\"#DejaVuSans-52\"/>\n     <use x=\"63.623047\" xlink:href=\"#DejaVuSans-50\"/>\n     <use x=\"127.246094\" xlink:href=\"#DejaVuSans-49\"/>\n     <use x=\"190.869141\" xlink:href=\"#DejaVuSans-48\"/>\n     <use x=\"254.492188\" xlink:href=\"#DejaVuSans-57\"/>\n     <use x=\"318.115234\" xlink:href=\"#DejaVuSans-56\"/>\n     <use x=\"381.738281\" xlink:href=\"#DejaVuSans-46\"/>\n     <use x=\"413.525391\" xlink:href=\"#DejaVuSans-48\"/>\n    </g>\n   </g>\n   <g id=\"text_24\">\n    <!-- 30705.0 -->\n    <g style=\"fill:#ffffff;\" transform=\"translate(52.591688 57.621449)scale(0.1 -0.1)\">\n     <use xlink:href=\"#DejaVuSans-51\"/>\n     <use x=\"63.623047\" xlink:href=\"#DejaVuSans-48\"/>\n     <use x=\"127.246094\" xlink:href=\"#DejaVuSans-55\"/>\n     <use x=\"190.869141\" xlink:href=\"#DejaVuSans-48\"/>\n     <use x=\"254.492188\" xlink:href=\"#DejaVuSans-53\"/>\n     <use x=\"318.115234\" xlink:href=\"#DejaVuSans-46\"/>\n     <use x=\"349.902344\" xlink:href=\"#DejaVuSans-48\"/>\n    </g>\n   </g>\n   <g id=\"text_25\">\n    <!-- 17011.0 -->\n    <g style=\"fill:#ffffff;\" transform=\"translate(124.015688 57.621449)scale(0.1 -0.1)\">\n     <use xlink:href=\"#DejaVuSans-49\"/>\n     <use x=\"63.623047\" xlink:href=\"#DejaVuSans-55\"/>\n     <use x=\"127.246094\" xlink:href=\"#DejaVuSans-48\"/>\n     <use x=\"190.869141\" xlink:href=\"#DejaVuSans-49\"/>\n     <use x=\"254.492188\" xlink:href=\"#DejaVuSans-49\"/>\n     <use x=\"318.115234\" xlink:href=\"#DejaVuSans-46\"/>\n     <use x=\"349.902344\" xlink:href=\"#DejaVuSans-48\"/>\n    </g>\n   </g>\n   <g id=\"text_26\">\n    <!-- 34313.0 -->\n    <g style=\"fill:#ffffff;\" transform=\"translate(195.439688 57.621449)scale(0.1 -0.1)\">\n     <use xlink:href=\"#DejaVuSans-51\"/>\n     <use x=\"63.623047\" xlink:href=\"#DejaVuSans-52\"/>\n     <use x=\"127.246094\" xlink:href=\"#DejaVuSans-51\"/>\n     <use x=\"190.869141\" xlink:href=\"#DejaVuSans-49\"/>\n     <use x=\"254.492188\" xlink:href=\"#DejaVuSans-51\"/>\n     <use x=\"318.115234\" xlink:href=\"#DejaVuSans-46\"/>\n     <use x=\"349.902344\" xlink:href=\"#DejaVuSans-48\"/>\n    </g>\n   </g>\n   <g id=\"text_27\">\n    <!-- 106939.0 -->\n    <g style=\"fill:#ffffff;\" transform=\"translate(263.682438 57.621449)scale(0.1 -0.1)\">\n     <use xlink:href=\"#DejaVuSans-49\"/>\n     <use x=\"63.623047\" xlink:href=\"#DejaVuSans-48\"/>\n     <use x=\"127.246094\" xlink:href=\"#DejaVuSans-54\"/>\n     <use x=\"190.869141\" xlink:href=\"#DejaVuSans-57\"/>\n     <use x=\"254.492188\" xlink:href=\"#DejaVuSans-51\"/>\n     <use x=\"318.115234\" xlink:href=\"#DejaVuSans-57\"/>\n     <use x=\"381.738281\" xlink:href=\"#DejaVuSans-46\"/>\n     <use x=\"413.525391\" xlink:href=\"#DejaVuSans-48\"/>\n    </g>\n   </g>\n   <g id=\"text_28\">\n    <!-- 211307.0 -->\n    <g style=\"fill:#ffffff;\" transform=\"translate(335.106438 57.621449)scale(0.1 -0.1)\">\n     <use xlink:href=\"#DejaVuSans-50\"/>\n     <use x=\"63.623047\" xlink:href=\"#DejaVuSans-49\"/>\n     <use x=\"127.246094\" xlink:href=\"#DejaVuSans-49\"/>\n     <use x=\"190.869141\" xlink:href=\"#DejaVuSans-51\"/>\n     <use x=\"254.492188\" xlink:href=\"#DejaVuSans-48\"/>\n     <use x=\"318.115234\" xlink:href=\"#DejaVuSans-55\"/>\n     <use x=\"381.738281\" xlink:href=\"#DejaVuSans-46\"/>\n     <use x=\"413.525391\" xlink:href=\"#DejaVuSans-48\"/>\n    </g>\n   </g>\n   <g id=\"text_29\">\n    <!-- 76673.0 -->\n    <g style=\"fill:#ffffff;\" transform=\"translate(52.591688 82.33054)scale(0.1 -0.1)\">\n     <use xlink:href=\"#DejaVuSans-55\"/>\n     <use x=\"63.623047\" xlink:href=\"#DejaVuSans-54\"/>\n     <use x=\"127.246094\" xlink:href=\"#DejaVuSans-54\"/>\n     <use x=\"190.869141\" xlink:href=\"#DejaVuSans-55\"/>\n     <use x=\"254.492188\" xlink:href=\"#DejaVuSans-51\"/>\n     <use x=\"318.115234\" xlink:href=\"#DejaVuSans-46\"/>\n     <use x=\"349.902344\" xlink:href=\"#DejaVuSans-48\"/>\n    </g>\n   </g>\n   <g id=\"text_30\">\n    <!-- 52506.0 -->\n    <g style=\"fill:#ffffff;\" transform=\"translate(124.015688 82.33054)scale(0.1 -0.1)\">\n     <use xlink:href=\"#DejaVuSans-53\"/>\n     <use x=\"63.623047\" xlink:href=\"#DejaVuSans-50\"/>\n     <use x=\"127.246094\" xlink:href=\"#DejaVuSans-53\"/>\n     <use x=\"190.869141\" xlink:href=\"#DejaVuSans-48\"/>\n     <use x=\"254.492188\" xlink:href=\"#DejaVuSans-54\"/>\n     <use x=\"318.115234\" xlink:href=\"#DejaVuSans-46\"/>\n     <use x=\"349.902344\" xlink:href=\"#DejaVuSans-48\"/>\n    </g>\n   </g>\n   <g id=\"text_31\">\n    <!-- 61004.0 -->\n    <g style=\"fill:#ffffff;\" transform=\"translate(195.439688 82.33054)scale(0.1 -0.1)\">\n     <use xlink:href=\"#DejaVuSans-54\"/>\n     <use x=\"63.623047\" xlink:href=\"#DejaVuSans-49\"/>\n     <use x=\"127.246094\" xlink:href=\"#DejaVuSans-48\"/>\n     <use x=\"190.869141\" xlink:href=\"#DejaVuSans-48\"/>\n     <use x=\"254.492188\" xlink:href=\"#DejaVuSans-52\"/>\n     <use x=\"318.115234\" xlink:href=\"#DejaVuSans-46\"/>\n     <use x=\"349.902344\" xlink:href=\"#DejaVuSans-48\"/>\n    </g>\n   </g>\n   <g id=\"text_32\">\n    <!-- 139135.0 -->\n    <g style=\"fill:#ffffff;\" transform=\"translate(263.682438 82.33054)scale(0.1 -0.1)\">\n     <use xlink:href=\"#DejaVuSans-49\"/>\n     <use x=\"63.623047\" xlink:href=\"#DejaVuSans-51\"/>\n     <use x=\"127.246094\" xlink:href=\"#DejaVuSans-57\"/>\n     <use x=\"190.869141\" xlink:href=\"#DejaVuSans-49\"/>\n     <use x=\"254.492188\" xlink:href=\"#DejaVuSans-51\"/>\n     <use x=\"318.115234\" xlink:href=\"#DejaVuSans-53\"/>\n     <use x=\"381.738281\" xlink:href=\"#DejaVuSans-46\"/>\n     <use x=\"413.525391\" xlink:href=\"#DejaVuSans-48\"/>\n    </g>\n   </g>\n   <g id=\"text_33\">\n    <!-- 879910.0 -->\n    <g style=\"fill:#262626;\" transform=\"translate(335.106438 82.33054)scale(0.1 -0.1)\">\n     <use xlink:href=\"#DejaVuSans-56\"/>\n     <use x=\"63.623047\" xlink:href=\"#DejaVuSans-55\"/>\n     <use x=\"127.246094\" xlink:href=\"#DejaVuSans-57\"/>\n     <use x=\"190.869141\" xlink:href=\"#DejaVuSans-57\"/>\n     <use x=\"254.492188\" xlink:href=\"#DejaVuSans-49\"/>\n     <use x=\"318.115234\" xlink:href=\"#DejaVuSans-48\"/>\n     <use x=\"381.738281\" xlink:href=\"#DejaVuSans-46\"/>\n     <use x=\"413.525391\" xlink:href=\"#DejaVuSans-48\"/>\n    </g>\n   </g>\n   <g id=\"text_34\">\n    <!-- 153657.0 -->\n    <g style=\"fill:#ffffff;\" transform=\"translate(49.410438 107.039631)scale(0.1 -0.1)\">\n     <use xlink:href=\"#DejaVuSans-49\"/>\n     <use x=\"63.623047\" xlink:href=\"#DejaVuSans-53\"/>\n     <use x=\"127.246094\" xlink:href=\"#DejaVuSans-51\"/>\n     <use x=\"190.869141\" xlink:href=\"#DejaVuSans-54\"/>\n     <use x=\"254.492188\" xlink:href=\"#DejaVuSans-53\"/>\n     <use x=\"318.115234\" xlink:href=\"#DejaVuSans-55\"/>\n     <use x=\"381.738281\" xlink:href=\"#DejaVuSans-46\"/>\n     <use x=\"413.525391\" xlink:href=\"#DejaVuSans-48\"/>\n    </g>\n   </g>\n   <g id=\"text_35\">\n    <!-- 34898.0 -->\n    <g style=\"fill:#ffffff;\" transform=\"translate(124.015688 107.039631)scale(0.1 -0.1)\">\n     <use xlink:href=\"#DejaVuSans-51\"/>\n     <use x=\"63.623047\" xlink:href=\"#DejaVuSans-52\"/>\n     <use x=\"127.246094\" xlink:href=\"#DejaVuSans-56\"/>\n     <use x=\"190.869141\" xlink:href=\"#DejaVuSans-57\"/>\n     <use x=\"254.492188\" xlink:href=\"#DejaVuSans-56\"/>\n     <use x=\"318.115234\" xlink:href=\"#DejaVuSans-46\"/>\n     <use x=\"349.902344\" xlink:href=\"#DejaVuSans-48\"/>\n    </g>\n   </g>\n   <g id=\"text_36\">\n    <!-- 23961.0 -->\n    <g style=\"fill:#ffffff;\" transform=\"translate(195.439688 107.039631)scale(0.1 -0.1)\">\n     <use xlink:href=\"#DejaVuSans-50\"/>\n     <use x=\"63.623047\" xlink:href=\"#DejaVuSans-51\"/>\n     <use x=\"127.246094\" xlink:href=\"#DejaVuSans-57\"/>\n     <use x=\"190.869141\" xlink:href=\"#DejaVuSans-54\"/>\n     <use x=\"254.492188\" xlink:href=\"#DejaVuSans-49\"/>\n     <use x=\"318.115234\" xlink:href=\"#DejaVuSans-46\"/>\n     <use x=\"349.902344\" xlink:href=\"#DejaVuSans-48\"/>\n    </g>\n   </g>\n   <g id=\"text_37\">\n    <!-- 75990.0 -->\n    <g style=\"fill:#ffffff;\" transform=\"translate(266.863688 107.039631)scale(0.1 -0.1)\">\n     <use xlink:href=\"#DejaVuSans-55\"/>\n     <use x=\"63.623047\" xlink:href=\"#DejaVuSans-53\"/>\n     <use x=\"127.246094\" xlink:href=\"#DejaVuSans-57\"/>\n     <use x=\"190.869141\" xlink:href=\"#DejaVuSans-57\"/>\n     <use x=\"254.492188\" xlink:href=\"#DejaVuSans-48\"/>\n     <use x=\"318.115234\" xlink:href=\"#DejaVuSans-46\"/>\n     <use x=\"349.902344\" xlink:href=\"#DejaVuSans-48\"/>\n    </g>\n   </g>\n   <g id=\"text_38\">\n    <!-- 1120193.0 -->\n    <g style=\"fill:#262626;\" transform=\"translate(331.925188 107.039631)scale(0.1 -0.1)\">\n     <use xlink:href=\"#DejaVuSans-49\"/>\n     <use x=\"63.623047\" xlink:href=\"#DejaVuSans-49\"/>\n     <use x=\"127.246094\" xlink:href=\"#DejaVuSans-50\"/>\n     <use x=\"190.869141\" xlink:href=\"#DejaVuSans-48\"/>\n     <use x=\"254.492188\" xlink:href=\"#DejaVuSans-49\"/>\n     <use x=\"318.115234\" xlink:href=\"#DejaVuSans-57\"/>\n     <use x=\"381.738281\" xlink:href=\"#DejaVuSans-51\"/>\n     <use x=\"445.361328\" xlink:href=\"#DejaVuSans-46\"/>\n     <use x=\"477.148438\" xlink:href=\"#DejaVuSans-48\"/>\n    </g>\n   </g>\n   <g id=\"text_39\">\n    <!-- 48355.0 -->\n    <g style=\"fill:#ffffff;\" transform=\"translate(52.591688 131.748722)scale(0.1 -0.1)\">\n     <use xlink:href=\"#DejaVuSans-52\"/>\n     <use x=\"63.623047\" xlink:href=\"#DejaVuSans-56\"/>\n     <use x=\"127.246094\" xlink:href=\"#DejaVuSans-51\"/>\n     <use x=\"190.869141\" xlink:href=\"#DejaVuSans-53\"/>\n     <use x=\"254.492188\" xlink:href=\"#DejaVuSans-53\"/>\n     <use x=\"318.115234\" xlink:href=\"#DejaVuSans-46\"/>\n     <use x=\"349.902344\" xlink:href=\"#DejaVuSans-48\"/>\n    </g>\n   </g>\n   <g id=\"text_40\">\n    <!-- 9084.0 -->\n    <g style=\"fill:#ffffff;\" transform=\"translate(127.196938 131.748722)scale(0.1 -0.1)\">\n     <use xlink:href=\"#DejaVuSans-57\"/>\n     <use x=\"63.623047\" xlink:href=\"#DejaVuSans-48\"/>\n     <use x=\"127.246094\" xlink:href=\"#DejaVuSans-56\"/>\n     <use x=\"190.869141\" xlink:href=\"#DejaVuSans-52\"/>\n     <use x=\"254.492188\" xlink:href=\"#DejaVuSans-46\"/>\n     <use x=\"286.279297\" xlink:href=\"#DejaVuSans-48\"/>\n    </g>\n   </g>\n   <g id=\"text_41\">\n    <!-- 8220.0 -->\n    <g style=\"fill:#ffffff;\" transform=\"translate(198.620938 131.748722)scale(0.1 -0.1)\">\n     <use xlink:href=\"#DejaVuSans-56\"/>\n     <use x=\"63.623047\" xlink:href=\"#DejaVuSans-50\"/>\n     <use x=\"127.246094\" xlink:href=\"#DejaVuSans-50\"/>\n     <use x=\"190.869141\" xlink:href=\"#DejaVuSans-48\"/>\n     <use x=\"254.492188\" xlink:href=\"#DejaVuSans-46\"/>\n     <use x=\"286.279297\" xlink:href=\"#DejaVuSans-48\"/>\n    </g>\n   </g>\n   <g id=\"text_42\">\n    <!-- 17328.0 -->\n    <g style=\"fill:#ffffff;\" transform=\"translate(266.863688 131.748722)scale(0.1 -0.1)\">\n     <use xlink:href=\"#DejaVuSans-49\"/>\n     <use x=\"63.623047\" xlink:href=\"#DejaVuSans-55\"/>\n     <use x=\"127.246094\" xlink:href=\"#DejaVuSans-51\"/>\n     <use x=\"190.869141\" xlink:href=\"#DejaVuSans-50\"/>\n     <use x=\"254.492188\" xlink:href=\"#DejaVuSans-56\"/>\n     <use x=\"318.115234\" xlink:href=\"#DejaVuSans-46\"/>\n     <use x=\"349.902344\" xlink:href=\"#DejaVuSans-48\"/>\n    </g>\n   </g>\n   <g id=\"text_43\">\n    <!-- 212107.0 -->\n    <g style=\"fill:#ffffff;\" transform=\"translate(335.106438 131.748722)scale(0.1 -0.1)\">\n     <use xlink:href=\"#DejaVuSans-50\"/>\n     <use x=\"63.623047\" xlink:href=\"#DejaVuSans-49\"/>\n     <use x=\"127.246094\" xlink:href=\"#DejaVuSans-50\"/>\n     <use x=\"190.869141\" xlink:href=\"#DejaVuSans-49\"/>\n     <use x=\"254.492188\" xlink:href=\"#DejaVuSans-48\"/>\n     <use x=\"318.115234\" xlink:href=\"#DejaVuSans-55\"/>\n     <use x=\"381.738281\" xlink:href=\"#DejaVuSans-46\"/>\n     <use x=\"413.525391\" xlink:href=\"#DejaVuSans-48\"/>\n    </g>\n   </g>\n   <g id=\"text_44\">\n    <!-- 15491.0 -->\n    <g style=\"fill:#ffffff;\" transform=\"translate(52.591688 156.457813)scale(0.1 -0.1)\">\n     <use xlink:href=\"#DejaVuSans-49\"/>\n     <use x=\"63.623047\" xlink:href=\"#DejaVuSans-53\"/>\n     <use x=\"127.246094\" xlink:href=\"#DejaVuSans-52\"/>\n     <use x=\"190.869141\" xlink:href=\"#DejaVuSans-57\"/>\n     <use x=\"254.492188\" xlink:href=\"#DejaVuSans-49\"/>\n     <use x=\"318.115234\" xlink:href=\"#DejaVuSans-46\"/>\n     <use x=\"349.902344\" xlink:href=\"#DejaVuSans-48\"/>\n    </g>\n   </g>\n   <g id=\"text_45\">\n    <!-- 1145.0 -->\n    <g style=\"fill:#ffffff;\" transform=\"translate(127.196938 156.457813)scale(0.1 -0.1)\">\n     <use xlink:href=\"#DejaVuSans-49\"/>\n     <use x=\"63.623047\" xlink:href=\"#DejaVuSans-49\"/>\n     <use x=\"127.246094\" xlink:href=\"#DejaVuSans-52\"/>\n     <use x=\"190.869141\" xlink:href=\"#DejaVuSans-53\"/>\n     <use x=\"254.492188\" xlink:href=\"#DejaVuSans-46\"/>\n     <use x=\"286.279297\" xlink:href=\"#DejaVuSans-48\"/>\n    </g>\n   </g>\n   <g id=\"text_46\">\n    <!-- 2359.0 -->\n    <g style=\"fill:#ffffff;\" transform=\"translate(198.620938 156.457813)scale(0.1 -0.1)\">\n     <use xlink:href=\"#DejaVuSans-50\"/>\n     <use x=\"63.623047\" xlink:href=\"#DejaVuSans-51\"/>\n     <use x=\"127.246094\" xlink:href=\"#DejaVuSans-53\"/>\n     <use x=\"190.869141\" xlink:href=\"#DejaVuSans-57\"/>\n     <use x=\"254.492188\" xlink:href=\"#DejaVuSans-46\"/>\n     <use x=\"286.279297\" xlink:href=\"#DejaVuSans-48\"/>\n    </g>\n   </g>\n   <g id=\"text_47\">\n    <!-- 2825.0 -->\n    <g style=\"fill:#ffffff;\" transform=\"translate(270.044938 156.457813)scale(0.1 -0.1)\">\n     <use xlink:href=\"#DejaVuSans-50\"/>\n     <use x=\"63.623047\" xlink:href=\"#DejaVuSans-56\"/>\n     <use x=\"127.246094\" xlink:href=\"#DejaVuSans-50\"/>\n     <use x=\"190.869141\" xlink:href=\"#DejaVuSans-53\"/>\n     <use x=\"254.492188\" xlink:href=\"#DejaVuSans-46\"/>\n     <use x=\"286.279297\" xlink:href=\"#DejaVuSans-48\"/>\n    </g>\n   </g>\n   <g id=\"text_48\">\n    <!-- 41347.0 -->\n    <g style=\"fill:#ffffff;\" transform=\"translate(338.287688 156.457813)scale(0.1 -0.1)\">\n     <use xlink:href=\"#DejaVuSans-52\"/>\n     <use x=\"63.623047\" xlink:href=\"#DejaVuSans-49\"/>\n     <use x=\"127.246094\" xlink:href=\"#DejaVuSans-51\"/>\n     <use x=\"190.869141\" xlink:href=\"#DejaVuSans-52\"/>\n     <use x=\"254.492188\" xlink:href=\"#DejaVuSans-55\"/>\n     <use x=\"318.115234\" xlink:href=\"#DejaVuSans-46\"/>\n     <use x=\"349.902344\" xlink:href=\"#DejaVuSans-48\"/>\n    </g>\n   </g>\n   <g id=\"text_49\">\n    <!-- 5866.0 -->\n    <g style=\"fill:#ffffff;\" transform=\"translate(55.772938 181.166903)scale(0.1 -0.1)\">\n     <use xlink:href=\"#DejaVuSans-53\"/>\n     <use x=\"63.623047\" xlink:href=\"#DejaVuSans-56\"/>\n     <use x=\"127.246094\" xlink:href=\"#DejaVuSans-54\"/>\n     <use x=\"190.869141\" xlink:href=\"#DejaVuSans-54\"/>\n     <use x=\"254.492188\" xlink:href=\"#DejaVuSans-46\"/>\n     <use x=\"286.279297\" xlink:href=\"#DejaVuSans-48\"/>\n    </g>\n   </g>\n   <g id=\"text_50\">\n    <!-- 1245.0 -->\n    <g style=\"fill:#ffffff;\" transform=\"translate(127.196938 181.166903)scale(0.1 -0.1)\">\n     <use xlink:href=\"#DejaVuSans-49\"/>\n     <use x=\"63.623047\" xlink:href=\"#DejaVuSans-50\"/>\n     <use x=\"127.246094\" xlink:href=\"#DejaVuSans-52\"/>\n     <use x=\"190.869141\" xlink:href=\"#DejaVuSans-53\"/>\n     <use x=\"254.492188\" xlink:href=\"#DejaVuSans-46\"/>\n     <use x=\"286.279297\" xlink:href=\"#DejaVuSans-48\"/>\n    </g>\n   </g>\n   <g id=\"text_51\">\n    <!-- 394.0 -->\n    <g style=\"fill:#ffffff;\" transform=\"translate(201.802188 181.166903)scale(0.1 -0.1)\">\n     <use xlink:href=\"#DejaVuSans-51\"/>\n     <use x=\"63.623047\" xlink:href=\"#DejaVuSans-57\"/>\n     <use x=\"127.246094\" xlink:href=\"#DejaVuSans-52\"/>\n     <use x=\"190.869141\" xlink:href=\"#DejaVuSans-46\"/>\n     <use x=\"222.65625\" xlink:href=\"#DejaVuSans-48\"/>\n    </g>\n   </g>\n   <g id=\"text_52\">\n    <!-- 2251.0 -->\n    <g style=\"fill:#ffffff;\" transform=\"translate(270.044938 181.166903)scale(0.1 -0.1)\">\n     <use xlink:href=\"#DejaVuSans-50\"/>\n     <use x=\"63.623047\" xlink:href=\"#DejaVuSans-50\"/>\n     <use x=\"127.246094\" xlink:href=\"#DejaVuSans-53\"/>\n     <use x=\"190.869141\" xlink:href=\"#DejaVuSans-49\"/>\n     <use x=\"254.492188\" xlink:href=\"#DejaVuSans-46\"/>\n     <use x=\"286.279297\" xlink:href=\"#DejaVuSans-48\"/>\n    </g>\n   </g>\n   <g id=\"text_53\">\n    <!-- 23267.0 -->\n    <g style=\"fill:#ffffff;\" transform=\"translate(338.287688 181.166903)scale(0.1 -0.1)\">\n     <use xlink:href=\"#DejaVuSans-50\"/>\n     <use x=\"63.623047\" xlink:href=\"#DejaVuSans-51\"/>\n     <use x=\"127.246094\" xlink:href=\"#DejaVuSans-50\"/>\n     <use x=\"190.869141\" xlink:href=\"#DejaVuSans-54\"/>\n     <use x=\"254.492188\" xlink:href=\"#DejaVuSans-55\"/>\n     <use x=\"318.115234\" xlink:href=\"#DejaVuSans-46\"/>\n     <use x=\"349.902344\" xlink:href=\"#DejaVuSans-48\"/>\n    </g>\n   </g>\n   <g id=\"text_54\">\n    <!-- 1903.0 -->\n    <g style=\"fill:#ffffff;\" transform=\"translate(55.772938 205.875994)scale(0.1 -0.1)\">\n     <use xlink:href=\"#DejaVuSans-49\"/>\n     <use x=\"63.623047\" xlink:href=\"#DejaVuSans-57\"/>\n     <use x=\"127.246094\" xlink:href=\"#DejaVuSans-48\"/>\n     <use x=\"190.869141\" xlink:href=\"#DejaVuSans-51\"/>\n     <use x=\"254.492188\" xlink:href=\"#DejaVuSans-46\"/>\n     <use x=\"286.279297\" xlink:href=\"#DejaVuSans-48\"/>\n    </g>\n   </g>\n   <g id=\"text_55\">\n    <!-- 0.0 -->\n    <g style=\"fill:#ffffff;\" transform=\"translate(136.740688 205.875994)scale(0.1 -0.1)\">\n     <use xlink:href=\"#DejaVuSans-48\"/>\n     <use x=\"63.623047\" xlink:href=\"#DejaVuSans-46\"/>\n     <use x=\"95.410156\" xlink:href=\"#DejaVuSans-48\"/>\n    </g>\n   </g>\n   <g id=\"text_56\">\n    <!-- 250.0 -->\n    <g style=\"fill:#ffffff;\" transform=\"translate(201.802188 205.875994)scale(0.1 -0.1)\">\n     <use xlink:href=\"#DejaVuSans-50\"/>\n     <use x=\"63.623047\" xlink:href=\"#DejaVuSans-53\"/>\n     <use x=\"127.246094\" xlink:href=\"#DejaVuSans-48\"/>\n     <use x=\"190.869141\" xlink:href=\"#DejaVuSans-46\"/>\n     <use x=\"222.65625\" xlink:href=\"#DejaVuSans-48\"/>\n    </g>\n   </g>\n   <g id=\"text_57\">\n    <!-- 0.0 -->\n    <g style=\"fill:#ffffff;\" transform=\"translate(279.588688 205.875994)scale(0.1 -0.1)\">\n     <use xlink:href=\"#DejaVuSans-48\"/>\n     <use x=\"63.623047\" xlink:href=\"#DejaVuSans-46\"/>\n     <use x=\"95.410156\" xlink:href=\"#DejaVuSans-48\"/>\n    </g>\n   </g>\n   <g id=\"text_58\">\n    <!-- 6500.0 -->\n    <g style=\"fill:#ffffff;\" transform=\"translate(341.468938 205.875994)scale(0.1 -0.1)\">\n     <use xlink:href=\"#DejaVuSans-54\"/>\n     <use x=\"63.623047\" xlink:href=\"#DejaVuSans-53\"/>\n     <use x=\"127.246094\" xlink:href=\"#DejaVuSans-48\"/>\n     <use x=\"190.869141\" xlink:href=\"#DejaVuSans-48\"/>\n     <use x=\"254.492188\" xlink:href=\"#DejaVuSans-46\"/>\n     <use x=\"286.279297\" xlink:href=\"#DejaVuSans-48\"/>\n    </g>\n   </g>\n   <g id=\"text_59\">\n    <!-- 0.0 -->\n    <g style=\"fill:#ffffff;\" transform=\"translate(65.316688 230.585085)scale(0.1 -0.1)\">\n     <use xlink:href=\"#DejaVuSans-48\"/>\n     <use x=\"63.623047\" xlink:href=\"#DejaVuSans-46\"/>\n     <use x=\"95.410156\" xlink:href=\"#DejaVuSans-48\"/>\n    </g>\n   </g>\n   <g id=\"text_60\">\n    <!-- 0.0 -->\n    <g style=\"fill:#ffffff;\" transform=\"translate(136.740688 230.585085)scale(0.1 -0.1)\">\n     <use xlink:href=\"#DejaVuSans-48\"/>\n     <use x=\"63.623047\" xlink:href=\"#DejaVuSans-46\"/>\n     <use x=\"95.410156\" xlink:href=\"#DejaVuSans-48\"/>\n    </g>\n   </g>\n   <g id=\"text_61\">\n    <!-- 0.0 -->\n    <g style=\"fill:#ffffff;\" transform=\"translate(208.164688 230.585085)scale(0.1 -0.1)\">\n     <use xlink:href=\"#DejaVuSans-48\"/>\n     <use x=\"63.623047\" xlink:href=\"#DejaVuSans-46\"/>\n     <use x=\"95.410156\" xlink:href=\"#DejaVuSans-48\"/>\n    </g>\n   </g>\n   <g id=\"text_62\">\n    <!-- 0.0 -->\n    <g style=\"fill:#ffffff;\" transform=\"translate(279.588688 230.585085)scale(0.1 -0.1)\">\n     <use xlink:href=\"#DejaVuSans-48\"/>\n     <use x=\"63.623047\" xlink:href=\"#DejaVuSans-46\"/>\n     <use x=\"95.410156\" xlink:href=\"#DejaVuSans-48\"/>\n    </g>\n   </g>\n   <g id=\"text_63\">\n    <!-- 500.0 -->\n    <g style=\"fill:#ffffff;\" transform=\"translate(344.650188 230.585085)scale(0.1 -0.1)\">\n     <use xlink:href=\"#DejaVuSans-53\"/>\n     <use x=\"63.623047\" xlink:href=\"#DejaVuSans-48\"/>\n     <use x=\"127.246094\" xlink:href=\"#DejaVuSans-48\"/>\n     <use x=\"190.869141\" xlink:href=\"#DejaVuSans-46\"/>\n     <use x=\"222.65625\" xlink:href=\"#DejaVuSans-48\"/>\n    </g>\n   </g>\n   <g id=\"text_64\">\n    <!-- 459.0 -->\n    <g style=\"fill:#ffffff;\" transform=\"translate(58.954188 255.294176)scale(0.1 -0.1)\">\n     <use xlink:href=\"#DejaVuSans-52\"/>\n     <use x=\"63.623047\" xlink:href=\"#DejaVuSans-53\"/>\n     <use x=\"127.246094\" xlink:href=\"#DejaVuSans-57\"/>\n     <use x=\"190.869141\" xlink:href=\"#DejaVuSans-46\"/>\n     <use x=\"222.65625\" xlink:href=\"#DejaVuSans-48\"/>\n    </g>\n   </g>\n   <g id=\"text_65\">\n    <!-- 0.0 -->\n    <g style=\"fill:#ffffff;\" transform=\"translate(136.740688 255.294176)scale(0.1 -0.1)\">\n     <use xlink:href=\"#DejaVuSans-48\"/>\n     <use x=\"63.623047\" xlink:href=\"#DejaVuSans-46\"/>\n     <use x=\"95.410156\" xlink:href=\"#DejaVuSans-48\"/>\n    </g>\n   </g>\n   <g id=\"text_66\">\n    <!-- 0.0 -->\n    <g style=\"fill:#ffffff;\" transform=\"translate(208.164688 255.294176)scale(0.1 -0.1)\">\n     <use xlink:href=\"#DejaVuSans-48\"/>\n     <use x=\"63.623047\" xlink:href=\"#DejaVuSans-46\"/>\n     <use x=\"95.410156\" xlink:href=\"#DejaVuSans-48\"/>\n    </g>\n   </g>\n   <g id=\"text_67\">\n    <!-- 0.0 -->\n    <g style=\"fill:#ffffff;\" transform=\"translate(279.588688 255.294176)scale(0.1 -0.1)\">\n     <use xlink:href=\"#DejaVuSans-48\"/>\n     <use x=\"63.623047\" xlink:href=\"#DejaVuSans-46\"/>\n     <use x=\"95.410156\" xlink:href=\"#DejaVuSans-48\"/>\n    </g>\n   </g>\n   <g id=\"text_68\">\n    <!-- 1967.0 -->\n    <g style=\"fill:#ffffff;\" transform=\"translate(341.468938 255.294176)scale(0.1 -0.1)\">\n     <use xlink:href=\"#DejaVuSans-49\"/>\n     <use x=\"63.623047\" xlink:href=\"#DejaVuSans-57\"/>\n     <use x=\"127.246094\" xlink:href=\"#DejaVuSans-54\"/>\n     <use x=\"190.869141\" xlink:href=\"#DejaVuSans-55\"/>\n     <use x=\"254.492188\" xlink:href=\"#DejaVuSans-46\"/>\n     <use x=\"286.279297\" xlink:href=\"#DejaVuSans-48\"/>\n    </g>\n   </g>\n   <g id=\"text_69\">\n    <!-- 0.0 -->\n    <g style=\"fill:#ffffff;\" transform=\"translate(65.316688 280.003267)scale(0.1 -0.1)\">\n     <use xlink:href=\"#DejaVuSans-48\"/>\n     <use x=\"63.623047\" xlink:href=\"#DejaVuSans-46\"/>\n     <use x=\"95.410156\" xlink:href=\"#DejaVuSans-48\"/>\n    </g>\n   </g>\n   <g id=\"text_70\">\n    <!-- 0.0 -->\n    <g style=\"fill:#ffffff;\" transform=\"translate(136.740688 280.003267)scale(0.1 -0.1)\">\n     <use xlink:href=\"#DejaVuSans-48\"/>\n     <use x=\"63.623047\" xlink:href=\"#DejaVuSans-46\"/>\n     <use x=\"95.410156\" xlink:href=\"#DejaVuSans-48\"/>\n    </g>\n   </g>\n   <g id=\"text_71\">\n    <!-- 0.0 -->\n    <g style=\"fill:#ffffff;\" transform=\"translate(208.164688 280.003267)scale(0.1 -0.1)\">\n     <use xlink:href=\"#DejaVuSans-48\"/>\n     <use x=\"63.623047\" xlink:href=\"#DejaVuSans-46\"/>\n     <use x=\"95.410156\" xlink:href=\"#DejaVuSans-48\"/>\n    </g>\n   </g>\n   <g id=\"text_72\">\n    <!-- 667.0 -->\n    <g style=\"fill:#ffffff;\" transform=\"translate(273.226188 280.003267)scale(0.1 -0.1)\">\n     <use xlink:href=\"#DejaVuSans-54\"/>\n     <use x=\"63.623047\" xlink:href=\"#DejaVuSans-54\"/>\n     <use x=\"127.246094\" xlink:href=\"#DejaVuSans-55\"/>\n     <use x=\"190.869141\" xlink:href=\"#DejaVuSans-46\"/>\n     <use x=\"222.65625\" xlink:href=\"#DejaVuSans-48\"/>\n    </g>\n   </g>\n   <g id=\"text_73\">\n    <!-- 0.0 -->\n    <g style=\"fill:#ffffff;\" transform=\"translate(351.012688 280.003267)scale(0.1 -0.1)\">\n     <use xlink:href=\"#DejaVuSans-48\"/>\n     <use x=\"63.623047\" xlink:href=\"#DejaVuSans-46\"/>\n     <use x=\"95.410156\" xlink:href=\"#DejaVuSans-48\"/>\n    </g>\n   </g>\n  </g>\n  <g id=\"axes_2\">\n   <g id=\"patch_3\">\n    <path clip-path=\"url(#paf10b40ab8)\" d=\"M 416.99625 289.598437 \nL 416.99625 288.536719 \nL 416.99625 18.860156 \nL 416.99625 17.798437 \nL 430.58625 17.798437 \nL 430.58625 18.860156 \nL 430.58625 288.536719 \nL 430.58625 289.598437 \nz\n\" style=\"fill:#ffffff;stroke:#ffffff;stroke-linejoin:miter;stroke-width:0.01;\"/>\n   </g>\n   <image height=\"271\" id=\"imagef62d1d20c0\" transform=\"scale(1 -1)translate(0 -271)\" width=\"14\" x=\"417\" xlink:href=\"data:image/png;base64,\niVBORw0KGgoAAAANSUhEUgAAAA4AAAEPCAYAAAByY/XAAAAABHNCSVQICAgIfAhkiAAAAXFJREFUaIHtm1sWwjAQQpNaN+H+91lXYD8uCgeT/HOYAWb6sM7z+boGOOeck+AU4HAzHu5SD4QaUqlYnCI7enrEIV9BHIGRTVbVIPuTsxlvGJumY4vz6QiDjHvEjNvHG0beIztL9JgIADt8kP3TwSPnH2QEU5ZVQpwaxoCP7h4jg4wZITCxOiBwiVLRO7JQjxjoXx3sCPfk1MeEHRS4QI/TPo9L2OEuVXm4ZrVWbfKL9kgZhci57ZiYkRFKqvp9xIwMqLzuhsCAqvCqcx4UKDxcU0Z/jzgAu9QbRrhYhYdrLA4sNaIqwgmlCuIgnMLYVCpl9CfHP8i01BEQxw2kui7CCN8gFTEOymgvlW+ARI9uIP790V/qOODHS00+0g+0Aslx2yEMckBVO6O9R3sAqnzkexX32GKHckWm368GImcH+iO3xfkF0K9qzyBXRW4zfp9xzoeZsUicxCBTO2rESUSuR5yiAOB/Py2gauKe/P/teAMhLS3bEAwh+gAAAABJRU5ErkJggg==\" y=\"-18\"/>\n   <g id=\"matplotlib.axis_3\"/>\n   <g id=\"matplotlib.axis_4\">\n    <g id=\"ytick_12\">\n     <g id=\"line2d_17\">\n      <defs>\n       <path d=\"M 0 0 \nL 3.5 0 \n\" id=\"m74e7258f7f\" style=\"stroke:#000000;stroke-width:0.8;\"/>\n      </defs>\n      <g>\n       <use style=\"stroke:#000000;stroke-width:0.8;\" x=\"430.58625\" xlink:href=\"#m74e7258f7f\" y=\"289.598437\"/>\n      </g>\n     </g>\n     <g id=\"text_74\">\n      <!-- 0.0 -->\n      <g transform=\"translate(437.58625 293.397656)scale(0.1 -0.1)\">\n       <use xlink:href=\"#DejaVuSans-48\"/>\n       <use x=\"63.623047\" xlink:href=\"#DejaVuSans-46\"/>\n       <use x=\"95.410156\" xlink:href=\"#DejaVuSans-48\"/>\n      </g>\n     </g>\n    </g>\n    <g id=\"ytick_13\">\n     <g id=\"line2d_18\">\n      <g>\n       <use style=\"stroke:#000000;stroke-width:0.8;\" x=\"430.58625\" xlink:href=\"#m74e7258f7f\" y=\"241.071086\"/>\n      </g>\n     </g>\n     <g id=\"text_75\">\n      <!-- 0.2 -->\n      <g transform=\"translate(437.58625 244.870304)scale(0.1 -0.1)\">\n       <use xlink:href=\"#DejaVuSans-48\"/>\n       <use x=\"63.623047\" xlink:href=\"#DejaVuSans-46\"/>\n       <use x=\"95.410156\" xlink:href=\"#DejaVuSans-50\"/>\n      </g>\n     </g>\n    </g>\n    <g id=\"ytick_14\">\n     <g id=\"line2d_19\">\n      <g>\n       <use style=\"stroke:#000000;stroke-width:0.8;\" x=\"430.58625\" xlink:href=\"#m74e7258f7f\" y=\"192.543734\"/>\n      </g>\n     </g>\n     <g id=\"text_76\">\n      <!-- 0.4 -->\n      <g transform=\"translate(437.58625 196.342952)scale(0.1 -0.1)\">\n       <use xlink:href=\"#DejaVuSans-48\"/>\n       <use x=\"63.623047\" xlink:href=\"#DejaVuSans-46\"/>\n       <use x=\"95.410156\" xlink:href=\"#DejaVuSans-52\"/>\n      </g>\n     </g>\n    </g>\n    <g id=\"ytick_15\">\n     <g id=\"line2d_20\">\n      <g>\n       <use style=\"stroke:#000000;stroke-width:0.8;\" x=\"430.58625\" xlink:href=\"#m74e7258f7f\" y=\"144.016382\"/>\n      </g>\n     </g>\n     <g id=\"text_77\">\n      <!-- 0.6 -->\n      <g transform=\"translate(437.58625 147.8156)scale(0.1 -0.1)\">\n       <use xlink:href=\"#DejaVuSans-48\"/>\n       <use x=\"63.623047\" xlink:href=\"#DejaVuSans-46\"/>\n       <use x=\"95.410156\" xlink:href=\"#DejaVuSans-54\"/>\n      </g>\n     </g>\n    </g>\n    <g id=\"ytick_16\">\n     <g id=\"line2d_21\">\n      <g>\n       <use style=\"stroke:#000000;stroke-width:0.8;\" x=\"430.58625\" xlink:href=\"#m74e7258f7f\" y=\"95.48903\"/>\n      </g>\n     </g>\n     <g id=\"text_78\">\n      <!-- 0.8 -->\n      <g transform=\"translate(437.58625 99.288248)scale(0.1 -0.1)\">\n       <use xlink:href=\"#DejaVuSans-48\"/>\n       <use x=\"63.623047\" xlink:href=\"#DejaVuSans-46\"/>\n       <use x=\"95.410156\" xlink:href=\"#DejaVuSans-56\"/>\n      </g>\n     </g>\n    </g>\n    <g id=\"ytick_17\">\n     <g id=\"line2d_22\">\n      <g>\n       <use style=\"stroke:#000000;stroke-width:0.8;\" x=\"430.58625\" xlink:href=\"#m74e7258f7f\" y=\"46.961678\"/>\n      </g>\n     </g>\n     <g id=\"text_79\">\n      <!-- 1.0 -->\n      <g transform=\"translate(437.58625 50.760896)scale(0.1 -0.1)\">\n       <use xlink:href=\"#DejaVuSans-49\"/>\n       <use x=\"63.623047\" xlink:href=\"#DejaVuSans-46\"/>\n       <use x=\"95.410156\" xlink:href=\"#DejaVuSans-48\"/>\n      </g>\n     </g>\n    </g>\n    <g id=\"text_80\">\n     <!-- 1e6 -->\n     <g transform=\"translate(411.708125 14.798437)scale(0.1 -0.1)\">\n      <use xlink:href=\"#DejaVuSans-49\"/>\n      <use x=\"63.623047\" xlink:href=\"#DejaVuSans-101\"/>\n      <use x=\"125.146484\" xlink:href=\"#DejaVuSans-54\"/>\n     </g>\n    </g>\n   </g>\n   <g id=\"patch_4\">\n    <path d=\"M 416.99625 289.598437 \nL 416.99625 288.536719 \nL 416.99625 18.860156 \nL 416.99625 17.798437 \nL 430.58625 17.798437 \nL 430.58625 18.860156 \nL 430.58625 288.536719 \nL 430.58625 289.598437 \nz\n\" style=\"fill:none;\"/>\n   </g>\n  </g>\n </g>\n <defs>\n  <clipPath id=\"pd71333333a\">\n   <rect height=\"271.8\" width=\"357.12\" x=\"37.55625\" y=\"17.798438\"/>\n  </clipPath>\n  <clipPath id=\"paf10b40ab8\">\n   <rect height=\"271.8\" width=\"13.59\" x=\"416.99625\" y=\"17.798437\"/>\n  </clipPath>\n </defs>\n</svg>\n"
          },
          "metadata": {
            "tags": [],
            "needs_background": "light"
          }
        }
      ]
    },
    {
      "cell_type": "code",
      "metadata": {
        "id": "Y2YUwr_zuoyi",
        "colab_type": "code",
        "colab": {}
      },
      "source": [
        "# Looking at this picture we see São Paulo has the highest property tax depending on room amount."
      ],
      "execution_count": 0,
      "outputs": []
    },
    {
      "cell_type": "code",
      "metadata": {
        "id": "EgqY31Kbu0Qj",
        "colab_type": "code",
        "colab": {}
      },
      "source": [
        "# CONCLUSION\n",
        "\n",
        "# We analyzed the data which present the market of rented real estate in Brazil on march 2020.\n",
        "# As target variable we investigated the total rent amount do define best demand for the clients.\n",
        "# The task included to compare different features which constitute the total rent amount.\n",
        "# The analyze identified that the leader of rented real estate is São Paulo.\n",
        "# So as Brazil's financial center it is most poluous city, which explains the high amount of\n",
        "# rented houses (55%) and level of tax property in comparison with other cities. \n",
        "# What is interesting, the capital Rio de Janeiro is much less popular among renters, possibly\n",
        "# due to high criminal level in favela.\n",
        "# Quite large total rent amount may be explained by high contribution to hoa, also because of country's climate. \n",
        "# But there must be taken into account the phenomenon of 'brazilian price'.\n",
        "\n",
        "# Finally the analyze showed the best demand of rented real estate includes total rent amount beginning from\n",
        "# 5490,50 BRL; 2 rooms on average, 1 bathroom, 1 parking space, unfurnitured, possible for keeping animals.\n",
        "\n",
        "# So we can suppose the target client are families with children or couples."
      ],
      "execution_count": 0,
      "outputs": []
    }
  ]
}